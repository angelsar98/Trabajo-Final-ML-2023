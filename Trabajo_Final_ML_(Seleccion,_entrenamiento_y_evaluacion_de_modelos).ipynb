{
  "cells": [
    {
      "cell_type": "markdown",
      "metadata": {
        "id": "view-in-github",
        "colab_type": "text"
      },
      "source": [
        "<a href=\"https://colab.research.google.com/github/angelsar98/Trabajo-Final-ML-2023/blob/main/Trabajo_Final_ML_(Seleccion%2C_entrenamiento_y_evaluacion_de_modelos).ipynb\" target=\"_parent\"><img src=\"https://colab.research.google.com/assets/colab-badge.svg\" alt=\"Open In Colab\"/></a>"
      ]
    },
    {
      "cell_type": "markdown",
      "source": [
        "---\n",
        "# **Trabajo Final Machine Learning Parte 2**\n",
        "\n",
        "> ## *Estimador de precios de AirBnb*\n",
        "\n",
        "---\n",
        "\n",
        "> Realizado por: Ángel Sarriá Jiménez y Silvia Gamundi Sumando\n",
        "\n",
        "https://github.com/angelsar98/Trabajo-Final-ML-2023/tree/main"
      ],
      "metadata": {
        "id": "PzpdRY9YjWLq"
      }
    },
    {
      "cell_type": "markdown",
      "metadata": {
        "id": "g4OBnN6vmLVn"
      },
      "source": [
        "# 0. Carga de datos y librerías"
      ]
    },
    {
      "cell_type": "code",
      "execution_count": null,
      "metadata": {
        "id": "ZuH3GUjgPO8O"
      },
      "outputs": [],
      "source": [
        "import pandas as pd\n",
        "import numpy as np\n",
        "import seaborn as sns\n",
        "from matplotlib import pyplot as plt\n",
        "import scipy.stats as ss\n",
        "import warnings\n",
        "warnings.filterwarnings(\"ignore\")\n",
        "from sklearn.metrics import mean_squared_error, r2_score, mean_absolute_error\n",
        "from sklearn.model_selection import train_test_split,KFold,cross_val_score,GridSearchCV,ParameterGrid,RepeatedKFold\n",
        "from sklearn import preprocessing\n",
        "from sklearn.linear_model import Lasso,Ridge,LogisticRegression,LinearRegression\n",
        "from sklearn.svm import SVR\n",
        "from sklearn.inspection import permutation_importance\n",
        "import multiprocessing\n",
        "from sklearn.preprocessing import StandardScaler"
      ]
    },
    {
      "cell_type": "code",
      "execution_count": null,
      "metadata": {
        "id": "hqcbGKwemZWv",
        "colab": {
          "base_uri": "https://localhost:8080/"
        },
        "outputId": "4be6d629-1748-4ca2-f2f0-96b8d62621c0"
      },
      "outputs": [
        {
          "output_type": "stream",
          "name": "stdout",
          "text": [
            "Mounted at /content/drive\n"
          ]
        }
      ],
      "source": [
        "from google.colab import drive\n",
        "drive.mount('/content/drive')"
      ]
    },
    {
      "cell_type": "code",
      "execution_count": null,
      "metadata": {
        "colab": {
          "base_uri": "https://localhost:8080/",
          "height": 540
        },
        "id": "0s6vUuPuQf6-",
        "outputId": "a5b97081-7005-4353-e4da-00926f523925"
      },
      "outputs": [
        {
          "output_type": "execute_result",
          "data": {
            "text/plain": [
              "       Price  Host Since  Host Response Rate  Host Total Listings Count  \\\n",
              "0      149.0         7.0           99.000000                      207.0   \n",
              "1      106.0         7.0           99.000000                      207.0   \n",
              "2       45.0        11.0          100.000000                        1.0   \n",
              "3      100.0         8.0          100.000000                        1.0   \n",
              "4      115.0        10.0           90.000000                        1.0   \n",
              "...      ...         ...                 ...                        ...   \n",
              "12330   25.0         7.0           83.000000                        4.0   \n",
              "12331   50.0         7.0          100.000000                        4.0   \n",
              "12332   16.0         8.0           60.000000                        2.0   \n",
              "12333  120.0        10.0           94.845885                        2.0   \n",
              "12334   99.0        10.0          100.000000                        1.0   \n",
              "\n",
              "        Latitude   Longitude  Property Type  Accommodates  Bathrooms  \\\n",
              "0      41.388685    2.155150              0             5        1.0   \n",
              "1      41.382537    2.149577              0             6        1.0   \n",
              "2      41.402357    2.171119              0             2        1.0   \n",
              "3      52.366679    4.865595              0             2        1.0   \n",
              "4      41.381369    2.180874              0             3        2.0   \n",
              "...          ...         ...            ...           ...        ...   \n",
              "12330  40.385395   -3.669958              8             7        1.0   \n",
              "12331  40.405239   -3.638197              0             6        1.0   \n",
              "12332  40.408779   -3.650200              0             1        1.0   \n",
              "12333  39.896533    3.076243              0             6        1.0   \n",
              "12334  39.742205 -104.959933              0             4        1.0   \n",
              "\n",
              "       Bedrooms  ...  Require Guest Profile Picture  \\\n",
              "0           2.0  ...                              0   \n",
              "1           2.0  ...                              0   \n",
              "2           1.0  ...                              0   \n",
              "3           1.0  ...                              0   \n",
              "4           1.0  ...                              0   \n",
              "...         ...  ...                            ...   \n",
              "12330       2.0  ...                              0   \n",
              "12331       3.0  ...                              0   \n",
              "12332       1.0  ...                              0   \n",
              "12333       2.0  ...                              0   \n",
              "12334       1.0  ...                              0   \n",
              "\n",
              "       Require Guest Phone Verification  Entire_home_apt  Shared_room  \\\n",
              "0                                     0              1.0          0.0   \n",
              "1                                     0              1.0          0.0   \n",
              "2                                     0              0.0          0.0   \n",
              "3                                     0              0.0          0.0   \n",
              "4                                     0              1.0          0.0   \n",
              "...                                 ...              ...          ...   \n",
              "12330                                 0              0.0          0.0   \n",
              "12331                                 0              1.0          0.0   \n",
              "12332                                 0              0.0          0.0   \n",
              "12333                                 0              1.0          0.0   \n",
              "12334                                 0              1.0          0.0   \n",
              "\n",
              "       Real_Bed  Updated_less_one_month  Updated_more_one_month  \\\n",
              "0           1.0                     0.0                     0.0   \n",
              "1           1.0                     1.0                     0.0   \n",
              "2           1.0                     0.0                     0.0   \n",
              "3           1.0                     1.0                     0.0   \n",
              "4           1.0                     1.0                     0.0   \n",
              "...         ...                     ...                     ...   \n",
              "12330       1.0                     1.0                     0.0   \n",
              "12331       1.0                     0.0                     0.0   \n",
              "12332       1.0                     1.0                     0.0   \n",
              "12333       1.0                     1.0                     0.0   \n",
              "12334       1.0                     0.0                     0.0   \n",
              "\n",
              "       Updated_today  flexible  moderate  \n",
              "0                1.0       1.0       0.0  \n",
              "1                0.0       0.0       0.0  \n",
              "2                0.0       1.0       0.0  \n",
              "3                0.0       0.0       1.0  \n",
              "4                0.0       1.0       0.0  \n",
              "...              ...       ...       ...  \n",
              "12330            0.0       0.0       0.0  \n",
              "12331            1.0       0.0       1.0  \n",
              "12332            0.0       1.0       0.0  \n",
              "12333            0.0       0.0       0.0  \n",
              "12334            0.0       0.0       1.0  \n",
              "\n",
              "[12335 rows x 39 columns]"
            ],
            "text/html": [
              "\n",
              "  <div id=\"df-1d9855d8-1100-4298-b4c5-c16ac87006d3\">\n",
              "    <div class=\"colab-df-container\">\n",
              "      <div>\n",
              "<style scoped>\n",
              "    .dataframe tbody tr th:only-of-type {\n",
              "        vertical-align: middle;\n",
              "    }\n",
              "\n",
              "    .dataframe tbody tr th {\n",
              "        vertical-align: top;\n",
              "    }\n",
              "\n",
              "    .dataframe thead th {\n",
              "        text-align: right;\n",
              "    }\n",
              "</style>\n",
              "<table border=\"1\" class=\"dataframe\">\n",
              "  <thead>\n",
              "    <tr style=\"text-align: right;\">\n",
              "      <th></th>\n",
              "      <th>Price</th>\n",
              "      <th>Host Since</th>\n",
              "      <th>Host Response Rate</th>\n",
              "      <th>Host Total Listings Count</th>\n",
              "      <th>Latitude</th>\n",
              "      <th>Longitude</th>\n",
              "      <th>Property Type</th>\n",
              "      <th>Accommodates</th>\n",
              "      <th>Bathrooms</th>\n",
              "      <th>Bedrooms</th>\n",
              "      <th>...</th>\n",
              "      <th>Require Guest Profile Picture</th>\n",
              "      <th>Require Guest Phone Verification</th>\n",
              "      <th>Entire_home_apt</th>\n",
              "      <th>Shared_room</th>\n",
              "      <th>Real_Bed</th>\n",
              "      <th>Updated_less_one_month</th>\n",
              "      <th>Updated_more_one_month</th>\n",
              "      <th>Updated_today</th>\n",
              "      <th>flexible</th>\n",
              "      <th>moderate</th>\n",
              "    </tr>\n",
              "  </thead>\n",
              "  <tbody>\n",
              "    <tr>\n",
              "      <th>0</th>\n",
              "      <td>149.0</td>\n",
              "      <td>7.0</td>\n",
              "      <td>99.000000</td>\n",
              "      <td>207.0</td>\n",
              "      <td>41.388685</td>\n",
              "      <td>2.155150</td>\n",
              "      <td>0</td>\n",
              "      <td>5</td>\n",
              "      <td>1.0</td>\n",
              "      <td>2.0</td>\n",
              "      <td>...</td>\n",
              "      <td>0</td>\n",
              "      <td>0</td>\n",
              "      <td>1.0</td>\n",
              "      <td>0.0</td>\n",
              "      <td>1.0</td>\n",
              "      <td>0.0</td>\n",
              "      <td>0.0</td>\n",
              "      <td>1.0</td>\n",
              "      <td>1.0</td>\n",
              "      <td>0.0</td>\n",
              "    </tr>\n",
              "    <tr>\n",
              "      <th>1</th>\n",
              "      <td>106.0</td>\n",
              "      <td>7.0</td>\n",
              "      <td>99.000000</td>\n",
              "      <td>207.0</td>\n",
              "      <td>41.382537</td>\n",
              "      <td>2.149577</td>\n",
              "      <td>0</td>\n",
              "      <td>6</td>\n",
              "      <td>1.0</td>\n",
              "      <td>2.0</td>\n",
              "      <td>...</td>\n",
              "      <td>0</td>\n",
              "      <td>0</td>\n",
              "      <td>1.0</td>\n",
              "      <td>0.0</td>\n",
              "      <td>1.0</td>\n",
              "      <td>1.0</td>\n",
              "      <td>0.0</td>\n",
              "      <td>0.0</td>\n",
              "      <td>0.0</td>\n",
              "      <td>0.0</td>\n",
              "    </tr>\n",
              "    <tr>\n",
              "      <th>2</th>\n",
              "      <td>45.0</td>\n",
              "      <td>11.0</td>\n",
              "      <td>100.000000</td>\n",
              "      <td>1.0</td>\n",
              "      <td>41.402357</td>\n",
              "      <td>2.171119</td>\n",
              "      <td>0</td>\n",
              "      <td>2</td>\n",
              "      <td>1.0</td>\n",
              "      <td>1.0</td>\n",
              "      <td>...</td>\n",
              "      <td>0</td>\n",
              "      <td>0</td>\n",
              "      <td>0.0</td>\n",
              "      <td>0.0</td>\n",
              "      <td>1.0</td>\n",
              "      <td>0.0</td>\n",
              "      <td>0.0</td>\n",
              "      <td>0.0</td>\n",
              "      <td>1.0</td>\n",
              "      <td>0.0</td>\n",
              "    </tr>\n",
              "    <tr>\n",
              "      <th>3</th>\n",
              "      <td>100.0</td>\n",
              "      <td>8.0</td>\n",
              "      <td>100.000000</td>\n",
              "      <td>1.0</td>\n",
              "      <td>52.366679</td>\n",
              "      <td>4.865595</td>\n",
              "      <td>0</td>\n",
              "      <td>2</td>\n",
              "      <td>1.0</td>\n",
              "      <td>1.0</td>\n",
              "      <td>...</td>\n",
              "      <td>0</td>\n",
              "      <td>0</td>\n",
              "      <td>0.0</td>\n",
              "      <td>0.0</td>\n",
              "      <td>1.0</td>\n",
              "      <td>1.0</td>\n",
              "      <td>0.0</td>\n",
              "      <td>0.0</td>\n",
              "      <td>0.0</td>\n",
              "      <td>1.0</td>\n",
              "    </tr>\n",
              "    <tr>\n",
              "      <th>4</th>\n",
              "      <td>115.0</td>\n",
              "      <td>10.0</td>\n",
              "      <td>90.000000</td>\n",
              "      <td>1.0</td>\n",
              "      <td>41.381369</td>\n",
              "      <td>2.180874</td>\n",
              "      <td>0</td>\n",
              "      <td>3</td>\n",
              "      <td>2.0</td>\n",
              "      <td>1.0</td>\n",
              "      <td>...</td>\n",
              "      <td>0</td>\n",
              "      <td>0</td>\n",
              "      <td>1.0</td>\n",
              "      <td>0.0</td>\n",
              "      <td>1.0</td>\n",
              "      <td>1.0</td>\n",
              "      <td>0.0</td>\n",
              "      <td>0.0</td>\n",
              "      <td>1.0</td>\n",
              "      <td>0.0</td>\n",
              "    </tr>\n",
              "    <tr>\n",
              "      <th>...</th>\n",
              "      <td>...</td>\n",
              "      <td>...</td>\n",
              "      <td>...</td>\n",
              "      <td>...</td>\n",
              "      <td>...</td>\n",
              "      <td>...</td>\n",
              "      <td>...</td>\n",
              "      <td>...</td>\n",
              "      <td>...</td>\n",
              "      <td>...</td>\n",
              "      <td>...</td>\n",
              "      <td>...</td>\n",
              "      <td>...</td>\n",
              "      <td>...</td>\n",
              "      <td>...</td>\n",
              "      <td>...</td>\n",
              "      <td>...</td>\n",
              "      <td>...</td>\n",
              "      <td>...</td>\n",
              "      <td>...</td>\n",
              "      <td>...</td>\n",
              "    </tr>\n",
              "    <tr>\n",
              "      <th>12330</th>\n",
              "      <td>25.0</td>\n",
              "      <td>7.0</td>\n",
              "      <td>83.000000</td>\n",
              "      <td>4.0</td>\n",
              "      <td>40.385395</td>\n",
              "      <td>-3.669958</td>\n",
              "      <td>8</td>\n",
              "      <td>7</td>\n",
              "      <td>1.0</td>\n",
              "      <td>2.0</td>\n",
              "      <td>...</td>\n",
              "      <td>0</td>\n",
              "      <td>0</td>\n",
              "      <td>0.0</td>\n",
              "      <td>0.0</td>\n",
              "      <td>1.0</td>\n",
              "      <td>1.0</td>\n",
              "      <td>0.0</td>\n",
              "      <td>0.0</td>\n",
              "      <td>0.0</td>\n",
              "      <td>0.0</td>\n",
              "    </tr>\n",
              "    <tr>\n",
              "      <th>12331</th>\n",
              "      <td>50.0</td>\n",
              "      <td>7.0</td>\n",
              "      <td>100.000000</td>\n",
              "      <td>4.0</td>\n",
              "      <td>40.405239</td>\n",
              "      <td>-3.638197</td>\n",
              "      <td>0</td>\n",
              "      <td>6</td>\n",
              "      <td>1.0</td>\n",
              "      <td>3.0</td>\n",
              "      <td>...</td>\n",
              "      <td>0</td>\n",
              "      <td>0</td>\n",
              "      <td>1.0</td>\n",
              "      <td>0.0</td>\n",
              "      <td>1.0</td>\n",
              "      <td>0.0</td>\n",
              "      <td>0.0</td>\n",
              "      <td>1.0</td>\n",
              "      <td>0.0</td>\n",
              "      <td>1.0</td>\n",
              "    </tr>\n",
              "    <tr>\n",
              "      <th>12332</th>\n",
              "      <td>16.0</td>\n",
              "      <td>8.0</td>\n",
              "      <td>60.000000</td>\n",
              "      <td>2.0</td>\n",
              "      <td>40.408779</td>\n",
              "      <td>-3.650200</td>\n",
              "      <td>0</td>\n",
              "      <td>1</td>\n",
              "      <td>1.0</td>\n",
              "      <td>1.0</td>\n",
              "      <td>...</td>\n",
              "      <td>0</td>\n",
              "      <td>0</td>\n",
              "      <td>0.0</td>\n",
              "      <td>0.0</td>\n",
              "      <td>1.0</td>\n",
              "      <td>1.0</td>\n",
              "      <td>0.0</td>\n",
              "      <td>0.0</td>\n",
              "      <td>1.0</td>\n",
              "      <td>0.0</td>\n",
              "    </tr>\n",
              "    <tr>\n",
              "      <th>12333</th>\n",
              "      <td>120.0</td>\n",
              "      <td>10.0</td>\n",
              "      <td>94.845885</td>\n",
              "      <td>2.0</td>\n",
              "      <td>39.896533</td>\n",
              "      <td>3.076243</td>\n",
              "      <td>0</td>\n",
              "      <td>6</td>\n",
              "      <td>1.0</td>\n",
              "      <td>2.0</td>\n",
              "      <td>...</td>\n",
              "      <td>0</td>\n",
              "      <td>0</td>\n",
              "      <td>1.0</td>\n",
              "      <td>0.0</td>\n",
              "      <td>1.0</td>\n",
              "      <td>1.0</td>\n",
              "      <td>0.0</td>\n",
              "      <td>0.0</td>\n",
              "      <td>0.0</td>\n",
              "      <td>0.0</td>\n",
              "    </tr>\n",
              "    <tr>\n",
              "      <th>12334</th>\n",
              "      <td>99.0</td>\n",
              "      <td>10.0</td>\n",
              "      <td>100.000000</td>\n",
              "      <td>1.0</td>\n",
              "      <td>39.742205</td>\n",
              "      <td>-104.959933</td>\n",
              "      <td>0</td>\n",
              "      <td>4</td>\n",
              "      <td>1.0</td>\n",
              "      <td>1.0</td>\n",
              "      <td>...</td>\n",
              "      <td>0</td>\n",
              "      <td>0</td>\n",
              "      <td>1.0</td>\n",
              "      <td>0.0</td>\n",
              "      <td>1.0</td>\n",
              "      <td>0.0</td>\n",
              "      <td>0.0</td>\n",
              "      <td>0.0</td>\n",
              "      <td>0.0</td>\n",
              "      <td>1.0</td>\n",
              "    </tr>\n",
              "  </tbody>\n",
              "</table>\n",
              "<p>12335 rows × 39 columns</p>\n",
              "</div>\n",
              "      <button class=\"colab-df-convert\" onclick=\"convertToInteractive('df-1d9855d8-1100-4298-b4c5-c16ac87006d3')\"\n",
              "              title=\"Convert this dataframe to an interactive table.\"\n",
              "              style=\"display:none;\">\n",
              "        \n",
              "  <svg xmlns=\"http://www.w3.org/2000/svg\" height=\"24px\"viewBox=\"0 0 24 24\"\n",
              "       width=\"24px\">\n",
              "    <path d=\"M0 0h24v24H0V0z\" fill=\"none\"/>\n",
              "    <path d=\"M18.56 5.44l.94 2.06.94-2.06 2.06-.94-2.06-.94-.94-2.06-.94 2.06-2.06.94zm-11 1L8.5 8.5l.94-2.06 2.06-.94-2.06-.94L8.5 2.5l-.94 2.06-2.06.94zm10 10l.94 2.06.94-2.06 2.06-.94-2.06-.94-.94-2.06-.94 2.06-2.06.94z\"/><path d=\"M17.41 7.96l-1.37-1.37c-.4-.4-.92-.59-1.43-.59-.52 0-1.04.2-1.43.59L10.3 9.45l-7.72 7.72c-.78.78-.78 2.05 0 2.83L4 21.41c.39.39.9.59 1.41.59.51 0 1.02-.2 1.41-.59l7.78-7.78 2.81-2.81c.8-.78.8-2.07 0-2.86zM5.41 20L4 18.59l7.72-7.72 1.47 1.35L5.41 20z\"/>\n",
              "  </svg>\n",
              "      </button>\n",
              "      \n",
              "  <style>\n",
              "    .colab-df-container {\n",
              "      display:flex;\n",
              "      flex-wrap:wrap;\n",
              "      gap: 12px;\n",
              "    }\n",
              "\n",
              "    .colab-df-convert {\n",
              "      background-color: #E8F0FE;\n",
              "      border: none;\n",
              "      border-radius: 50%;\n",
              "      cursor: pointer;\n",
              "      display: none;\n",
              "      fill: #1967D2;\n",
              "      height: 32px;\n",
              "      padding: 0 0 0 0;\n",
              "      width: 32px;\n",
              "    }\n",
              "\n",
              "    .colab-df-convert:hover {\n",
              "      background-color: #E2EBFA;\n",
              "      box-shadow: 0px 1px 2px rgba(60, 64, 67, 0.3), 0px 1px 3px 1px rgba(60, 64, 67, 0.15);\n",
              "      fill: #174EA6;\n",
              "    }\n",
              "\n",
              "    [theme=dark] .colab-df-convert {\n",
              "      background-color: #3B4455;\n",
              "      fill: #D2E3FC;\n",
              "    }\n",
              "\n",
              "    [theme=dark] .colab-df-convert:hover {\n",
              "      background-color: #434B5C;\n",
              "      box-shadow: 0px 1px 3px 1px rgba(0, 0, 0, 0.15);\n",
              "      filter: drop-shadow(0px 1px 2px rgba(0, 0, 0, 0.3));\n",
              "      fill: #FFFFFF;\n",
              "    }\n",
              "  </style>\n",
              "\n",
              "      <script>\n",
              "        const buttonEl =\n",
              "          document.querySelector('#df-1d9855d8-1100-4298-b4c5-c16ac87006d3 button.colab-df-convert');\n",
              "        buttonEl.style.display =\n",
              "          google.colab.kernel.accessAllowed ? 'block' : 'none';\n",
              "\n",
              "        async function convertToInteractive(key) {\n",
              "          const element = document.querySelector('#df-1d9855d8-1100-4298-b4c5-c16ac87006d3');\n",
              "          const dataTable =\n",
              "            await google.colab.kernel.invokeFunction('convertToInteractive',\n",
              "                                                     [key], {});\n",
              "          if (!dataTable) return;\n",
              "\n",
              "          const docLinkHtml = 'Like what you see? Visit the ' +\n",
              "            '<a target=\"_blank\" href=https://colab.research.google.com/notebooks/data_table.ipynb>data table notebook</a>'\n",
              "            + ' to learn more about interactive tables.';\n",
              "          element.innerHTML = '';\n",
              "          dataTable['output_type'] = 'display_data';\n",
              "          await google.colab.output.renderOutput(dataTable, element);\n",
              "          const docLink = document.createElement('div');\n",
              "          docLink.innerHTML = docLinkHtml;\n",
              "          element.appendChild(docLink);\n",
              "        }\n",
              "      </script>\n",
              "    </div>\n",
              "  </div>\n",
              "  "
            ]
          },
          "metadata": {},
          "execution_count": 4
        }
      ],
      "source": [
        "df = pd.read_csv('/content/drive/MyDrive/airbnb-listings-extract-limpio.csv',sep=';',index_col=0)\n",
        "#df=pd.read_csv('/content/airbnb-listings-extract-limpio.csv',sep=';',index_col=0)\n",
        "df"
      ]
    },
    {
      "cell_type": "code",
      "execution_count": null,
      "metadata": {
        "colab": {
          "base_uri": "https://localhost:8080/"
        },
        "id": "xAKDhg43Xh0S",
        "outputId": "8b3c79a2-176e-4bcc-8b83-db73faa21bd8"
      },
      "outputs": [
        {
          "output_type": "stream",
          "name": "stdout",
          "text": [
            "<class 'pandas.core.frame.DataFrame'>\n",
            "Int64Index: 12335 entries, 0 to 12334\n",
            "Data columns (total 39 columns):\n",
            " #   Column                            Non-Null Count  Dtype  \n",
            "---  ------                            --------------  -----  \n",
            " 0   Price                             12335 non-null  float64\n",
            " 1   Host Since                        12335 non-null  float64\n",
            " 2   Host Response Rate                12335 non-null  float64\n",
            " 3   Host Total Listings Count         12335 non-null  float64\n",
            " 4   Latitude                          12335 non-null  float64\n",
            " 5   Longitude                         12335 non-null  float64\n",
            " 6   Property Type                     12335 non-null  int64  \n",
            " 7   Accommodates                      12335 non-null  int64  \n",
            " 8   Bathrooms                         12335 non-null  float64\n",
            " 9   Bedrooms                          12335 non-null  float64\n",
            " 10  Beds                              12335 non-null  float64\n",
            " 11  Security Deposit                  12335 non-null  float64\n",
            " 12  Cleaning Fee                      12335 non-null  float64\n",
            " 13  Guests Included                   12335 non-null  int64  \n",
            " 14  Extra People                      12335 non-null  int64  \n",
            " 15  Minimum Nights                    12335 non-null  int64  \n",
            " 16  Availability 30                   12335 non-null  int64  \n",
            " 17  Availability 90                   12335 non-null  int64  \n",
            " 18  Availability 365                  12335 non-null  int64  \n",
            " 19  Review Scores Rating              12335 non-null  float64\n",
            " 20  Reviews per Month                 12335 non-null  float64\n",
            " 21  Num_Amenities                     12335 non-null  int64  \n",
            " 22  Num_Verificaciones                12335 non-null  int64  \n",
            " 23  Host Is Superhost                 12335 non-null  int64  \n",
            " 24  Host Has Profile Pic              12335 non-null  int64  \n",
            " 25  Host Identity Verified            12335 non-null  int64  \n",
            " 26  Is Location Exact                 12335 non-null  int64  \n",
            " 27  Requires License                  12335 non-null  int64  \n",
            " 28  Instant Bookable                  12335 non-null  int64  \n",
            " 29  Require Guest Profile Picture     12335 non-null  int64  \n",
            " 30  Require Guest Phone Verification  12335 non-null  int64  \n",
            " 31  Entire_home_apt                   12335 non-null  float64\n",
            " 32  Shared_room                       12335 non-null  float64\n",
            " 33  Real_Bed                          12335 non-null  float64\n",
            " 34  Updated_less_one_month            12335 non-null  float64\n",
            " 35  Updated_more_one_month            12335 non-null  float64\n",
            " 36  Updated_today                     12335 non-null  float64\n",
            " 37  flexible                          12335 non-null  float64\n",
            " 38  moderate                          12335 non-null  float64\n",
            "dtypes: float64(21), int64(18)\n",
            "memory usage: 3.8 MB\n"
          ]
        }
      ],
      "source": [
        "df.info()"
      ]
    },
    {
      "cell_type": "markdown",
      "metadata": {
        "id": "mrdA_Z3hRxEK"
      },
      "source": [
        "# 1. Selección y evaluación del modelos"
      ]
    },
    {
      "cell_type": "markdown",
      "metadata": {
        "id": "rGeNj6Oxfu32"
      },
      "source": [
        "En este notebook vamos a entrenar y evaluar los distintos modelos requeridos.\n",
        "\n",
        "Nuestro objetivo es construir un estimador de precios en función de las distintas características del Airbnb. Además, usaremos una regresión logística para complementar el evaluador de precios con un modelo que nos diga si el Airbnb tiene o no disponibilidad alta.\n",
        "\n",
        "Para ello, necesitaremos realizar una serie de pasos:"
      ]
    },
    {
      "cell_type": "markdown",
      "metadata": {
        "id": "I_JxMF41dxAo"
      },
      "source": [
        "En primer lugar, necesitamos dividir nuestros datos en 2 conjuntos denominados de entrenamiento y de test. El conjunto de entrenamiento será el que utilicemos para entrenar nuestros modelos, es decir, encontrar los parámetros más adecuados para nuestros datos. El conjunto de test será el que empleemos para evaluar el modelo previamente entrenado. Cada uno de estos nos dará un error en función de las distintas métricas evaluadas. El error de entrenamiento nos servirá para elegir con qué parámetros nos quedamos en el entrenamiento del modelo y el error de generalización (test) nos servirá para comparar los distintos modelos y quedarnos con el mejor de ellos."
      ]
    },
    {
      "cell_type": "markdown",
      "metadata": {
        "id": "sQ5nKj6hZbBY"
      },
      "source": [
        "Tras realizar las particiones necesarias en el conjunto de datos, presentaremos las métricas escogidas para evaluar los modelos:\n",
        "- **RMSE** (root mean squared error): es la raíz cuadrada de la media de los errores al cuadrado. Nos dice cuanto se desvía, en media, la predicción que hacemos del valor real\n",
        "- **MSE**: es la media de los errores al cuadrado. Nos dice cuanto se desvía, en media, la predicción que hacemos del valor real\n",
        "- **$R^2$ score**: representa el porcentaje de varianza explicada por el modelo\n",
        "- **MAE** (mean absolute error): similar al MSE, es la media de los errores en valor absoluto. \n",
        "\n",
        "La principal diferencia entre RMSE y MAE es que el RMSE penaliza mucho los errores grandes, mientras que el MAE los trata a todos por igual.\n",
        "\n",
        "Estas métricas nos servirán para evaluar los modelos de regresión, es decir LASSO, Ridge, Regresión Múltiple y Support Vector Machine."
      ]
    },
    {
      "cell_type": "markdown",
      "metadata": {
        "id": "FSwBPa9wSFhX"
      },
      "source": [
        "## 1.0 Consideraciones iniciales\n"
      ]
    },
    {
      "cell_type": "markdown",
      "metadata": {
        "id": "-UiRnXPufr43"
      },
      "source": [
        "Particionamos el conjunto de datos en un subconjunto de entrenamiento y otro de test. Para ello, primero escribimos el dataset en formato array:"
      ]
    },
    {
      "cell_type": "code",
      "execution_count": null,
      "metadata": {
        "id": "Z2eVYE-MKkDD"
      },
      "outputs": [],
      "source": [
        "data = df.values \n",
        "\n",
        "y = data[:,0:1]     # nos quedamos con la 1ª columna, price\n",
        "X = data[:,1:]      # nos quedamos con el resto\n",
        "\n",
        "feature_names = df.columns[1:]"
      ]
    },
    {
      "cell_type": "code",
      "execution_count": null,
      "metadata": {
        "id": "ViAWdIp8LCQ_"
      },
      "outputs": [],
      "source": [
        "#Usamos StandardScaler para estandarizar los datos\n",
        "scaled_features = StandardScaler().fit_transform(X, y)"
      ]
    },
    {
      "cell_type": "code",
      "execution_count": null,
      "metadata": {
        "colab": {
          "base_uri": "https://localhost:8080/",
          "height": 352
        },
        "id": "aadTmp_sMBiC",
        "outputId": "bb4373a8-9528-477b-d6f0-5bdc7e3d8581"
      },
      "outputs": [
        {
          "output_type": "execute_result",
          "data": {
            "text/plain": [
              "   Host Since  Host Response Rate  Host Total Listings Count  Latitude  \\\n",
              "0   -1.029626            0.279649                   7.007328  0.458549   \n",
              "1   -1.029626            0.279649                   7.007328  0.455521   \n",
              "2    1.446938            0.356166                  -0.295494  0.465282   \n",
              "3   -0.410485            0.356166                  -0.295494  5.865328   \n",
              "4    0.827797           -0.409008                  -0.295494  0.454945   \n",
              "\n",
              "   Longitude  Property Type  Accommodates  Bathrooms  Bedrooms      Beds  ...  \\\n",
              "0   0.926851      -0.380202      1.353587  -0.375841  1.310284  0.241117  ...   \n",
              "1   0.925972      -0.380202      2.003661  -0.375841  1.310284  1.193464  ...   \n",
              "2   0.929370      -0.380202     -0.596634  -0.375841 -0.282537 -0.711230  ...   \n",
              "3   1.354453      -0.380202     -0.596634  -0.375841 -0.282537 -0.711230  ...   \n",
              "4   0.930909      -0.380202      0.053439   1.686437 -0.282537 -0.711230  ...   \n",
              "\n",
              "   Require Guest Phone Verification  Entire_home_apt  Shared_room  Real_Bed  \\\n",
              "0                         -0.156258         0.833846    -0.092658  0.147026   \n",
              "1                         -0.156258         0.833846    -0.092658  0.147026   \n",
              "2                         -0.156258        -1.199262    -0.092658  0.147026   \n",
              "3                         -0.156258        -1.199262    -0.092658  0.147026   \n",
              "4                         -0.156258         0.833846    -0.092658  0.147026   \n",
              "\n",
              "   Updated_less_one_month  Updated_more_one_month  Updated_today  flexible  \\\n",
              "0               -0.654085                -0.45686       1.733081  1.430010   \n",
              "1                1.528853                -0.45686      -0.577007 -0.699296   \n",
              "2               -0.654085                -0.45686      -0.577007  1.430010   \n",
              "3                1.528853                -0.45686      -0.577007 -0.699296   \n",
              "4                1.528853                -0.45686      -0.577007  1.430010   \n",
              "\n",
              "   moderate  Price  \n",
              "0 -0.666364  149.0  \n",
              "1 -0.666364  106.0  \n",
              "2 -0.666364   45.0  \n",
              "3  1.500681  100.0  \n",
              "4 -0.666364  115.0  \n",
              "\n",
              "[5 rows x 39 columns]"
            ],
            "text/html": [
              "\n",
              "  <div id=\"df-f09f53f9-4940-4bee-8f7f-f4d396d3f97b\">\n",
              "    <div class=\"colab-df-container\">\n",
              "      <div>\n",
              "<style scoped>\n",
              "    .dataframe tbody tr th:only-of-type {\n",
              "        vertical-align: middle;\n",
              "    }\n",
              "\n",
              "    .dataframe tbody tr th {\n",
              "        vertical-align: top;\n",
              "    }\n",
              "\n",
              "    .dataframe thead th {\n",
              "        text-align: right;\n",
              "    }\n",
              "</style>\n",
              "<table border=\"1\" class=\"dataframe\">\n",
              "  <thead>\n",
              "    <tr style=\"text-align: right;\">\n",
              "      <th></th>\n",
              "      <th>Host Since</th>\n",
              "      <th>Host Response Rate</th>\n",
              "      <th>Host Total Listings Count</th>\n",
              "      <th>Latitude</th>\n",
              "      <th>Longitude</th>\n",
              "      <th>Property Type</th>\n",
              "      <th>Accommodates</th>\n",
              "      <th>Bathrooms</th>\n",
              "      <th>Bedrooms</th>\n",
              "      <th>Beds</th>\n",
              "      <th>...</th>\n",
              "      <th>Require Guest Phone Verification</th>\n",
              "      <th>Entire_home_apt</th>\n",
              "      <th>Shared_room</th>\n",
              "      <th>Real_Bed</th>\n",
              "      <th>Updated_less_one_month</th>\n",
              "      <th>Updated_more_one_month</th>\n",
              "      <th>Updated_today</th>\n",
              "      <th>flexible</th>\n",
              "      <th>moderate</th>\n",
              "      <th>Price</th>\n",
              "    </tr>\n",
              "  </thead>\n",
              "  <tbody>\n",
              "    <tr>\n",
              "      <th>0</th>\n",
              "      <td>-1.029626</td>\n",
              "      <td>0.279649</td>\n",
              "      <td>7.007328</td>\n",
              "      <td>0.458549</td>\n",
              "      <td>0.926851</td>\n",
              "      <td>-0.380202</td>\n",
              "      <td>1.353587</td>\n",
              "      <td>-0.375841</td>\n",
              "      <td>1.310284</td>\n",
              "      <td>0.241117</td>\n",
              "      <td>...</td>\n",
              "      <td>-0.156258</td>\n",
              "      <td>0.833846</td>\n",
              "      <td>-0.092658</td>\n",
              "      <td>0.147026</td>\n",
              "      <td>-0.654085</td>\n",
              "      <td>-0.45686</td>\n",
              "      <td>1.733081</td>\n",
              "      <td>1.430010</td>\n",
              "      <td>-0.666364</td>\n",
              "      <td>149.0</td>\n",
              "    </tr>\n",
              "    <tr>\n",
              "      <th>1</th>\n",
              "      <td>-1.029626</td>\n",
              "      <td>0.279649</td>\n",
              "      <td>7.007328</td>\n",
              "      <td>0.455521</td>\n",
              "      <td>0.925972</td>\n",
              "      <td>-0.380202</td>\n",
              "      <td>2.003661</td>\n",
              "      <td>-0.375841</td>\n",
              "      <td>1.310284</td>\n",
              "      <td>1.193464</td>\n",
              "      <td>...</td>\n",
              "      <td>-0.156258</td>\n",
              "      <td>0.833846</td>\n",
              "      <td>-0.092658</td>\n",
              "      <td>0.147026</td>\n",
              "      <td>1.528853</td>\n",
              "      <td>-0.45686</td>\n",
              "      <td>-0.577007</td>\n",
              "      <td>-0.699296</td>\n",
              "      <td>-0.666364</td>\n",
              "      <td>106.0</td>\n",
              "    </tr>\n",
              "    <tr>\n",
              "      <th>2</th>\n",
              "      <td>1.446938</td>\n",
              "      <td>0.356166</td>\n",
              "      <td>-0.295494</td>\n",
              "      <td>0.465282</td>\n",
              "      <td>0.929370</td>\n",
              "      <td>-0.380202</td>\n",
              "      <td>-0.596634</td>\n",
              "      <td>-0.375841</td>\n",
              "      <td>-0.282537</td>\n",
              "      <td>-0.711230</td>\n",
              "      <td>...</td>\n",
              "      <td>-0.156258</td>\n",
              "      <td>-1.199262</td>\n",
              "      <td>-0.092658</td>\n",
              "      <td>0.147026</td>\n",
              "      <td>-0.654085</td>\n",
              "      <td>-0.45686</td>\n",
              "      <td>-0.577007</td>\n",
              "      <td>1.430010</td>\n",
              "      <td>-0.666364</td>\n",
              "      <td>45.0</td>\n",
              "    </tr>\n",
              "    <tr>\n",
              "      <th>3</th>\n",
              "      <td>-0.410485</td>\n",
              "      <td>0.356166</td>\n",
              "      <td>-0.295494</td>\n",
              "      <td>5.865328</td>\n",
              "      <td>1.354453</td>\n",
              "      <td>-0.380202</td>\n",
              "      <td>-0.596634</td>\n",
              "      <td>-0.375841</td>\n",
              "      <td>-0.282537</td>\n",
              "      <td>-0.711230</td>\n",
              "      <td>...</td>\n",
              "      <td>-0.156258</td>\n",
              "      <td>-1.199262</td>\n",
              "      <td>-0.092658</td>\n",
              "      <td>0.147026</td>\n",
              "      <td>1.528853</td>\n",
              "      <td>-0.45686</td>\n",
              "      <td>-0.577007</td>\n",
              "      <td>-0.699296</td>\n",
              "      <td>1.500681</td>\n",
              "      <td>100.0</td>\n",
              "    </tr>\n",
              "    <tr>\n",
              "      <th>4</th>\n",
              "      <td>0.827797</td>\n",
              "      <td>-0.409008</td>\n",
              "      <td>-0.295494</td>\n",
              "      <td>0.454945</td>\n",
              "      <td>0.930909</td>\n",
              "      <td>-0.380202</td>\n",
              "      <td>0.053439</td>\n",
              "      <td>1.686437</td>\n",
              "      <td>-0.282537</td>\n",
              "      <td>-0.711230</td>\n",
              "      <td>...</td>\n",
              "      <td>-0.156258</td>\n",
              "      <td>0.833846</td>\n",
              "      <td>-0.092658</td>\n",
              "      <td>0.147026</td>\n",
              "      <td>1.528853</td>\n",
              "      <td>-0.45686</td>\n",
              "      <td>-0.577007</td>\n",
              "      <td>1.430010</td>\n",
              "      <td>-0.666364</td>\n",
              "      <td>115.0</td>\n",
              "    </tr>\n",
              "  </tbody>\n",
              "</table>\n",
              "<p>5 rows × 39 columns</p>\n",
              "</div>\n",
              "      <button class=\"colab-df-convert\" onclick=\"convertToInteractive('df-f09f53f9-4940-4bee-8f7f-f4d396d3f97b')\"\n",
              "              title=\"Convert this dataframe to an interactive table.\"\n",
              "              style=\"display:none;\">\n",
              "        \n",
              "  <svg xmlns=\"http://www.w3.org/2000/svg\" height=\"24px\"viewBox=\"0 0 24 24\"\n",
              "       width=\"24px\">\n",
              "    <path d=\"M0 0h24v24H0V0z\" fill=\"none\"/>\n",
              "    <path d=\"M18.56 5.44l.94 2.06.94-2.06 2.06-.94-2.06-.94-.94-2.06-.94 2.06-2.06.94zm-11 1L8.5 8.5l.94-2.06 2.06-.94-2.06-.94L8.5 2.5l-.94 2.06-2.06.94zm10 10l.94 2.06.94-2.06 2.06-.94-2.06-.94-.94-2.06-.94 2.06-2.06.94z\"/><path d=\"M17.41 7.96l-1.37-1.37c-.4-.4-.92-.59-1.43-.59-.52 0-1.04.2-1.43.59L10.3 9.45l-7.72 7.72c-.78.78-.78 2.05 0 2.83L4 21.41c.39.39.9.59 1.41.59.51 0 1.02-.2 1.41-.59l7.78-7.78 2.81-2.81c.8-.78.8-2.07 0-2.86zM5.41 20L4 18.59l7.72-7.72 1.47 1.35L5.41 20z\"/>\n",
              "  </svg>\n",
              "      </button>\n",
              "      \n",
              "  <style>\n",
              "    .colab-df-container {\n",
              "      display:flex;\n",
              "      flex-wrap:wrap;\n",
              "      gap: 12px;\n",
              "    }\n",
              "\n",
              "    .colab-df-convert {\n",
              "      background-color: #E8F0FE;\n",
              "      border: none;\n",
              "      border-radius: 50%;\n",
              "      cursor: pointer;\n",
              "      display: none;\n",
              "      fill: #1967D2;\n",
              "      height: 32px;\n",
              "      padding: 0 0 0 0;\n",
              "      width: 32px;\n",
              "    }\n",
              "\n",
              "    .colab-df-convert:hover {\n",
              "      background-color: #E2EBFA;\n",
              "      box-shadow: 0px 1px 2px rgba(60, 64, 67, 0.3), 0px 1px 3px 1px rgba(60, 64, 67, 0.15);\n",
              "      fill: #174EA6;\n",
              "    }\n",
              "\n",
              "    [theme=dark] .colab-df-convert {\n",
              "      background-color: #3B4455;\n",
              "      fill: #D2E3FC;\n",
              "    }\n",
              "\n",
              "    [theme=dark] .colab-df-convert:hover {\n",
              "      background-color: #434B5C;\n",
              "      box-shadow: 0px 1px 3px 1px rgba(0, 0, 0, 0.15);\n",
              "      filter: drop-shadow(0px 1px 2px rgba(0, 0, 0, 0.3));\n",
              "      fill: #FFFFFF;\n",
              "    }\n",
              "  </style>\n",
              "\n",
              "      <script>\n",
              "        const buttonEl =\n",
              "          document.querySelector('#df-f09f53f9-4940-4bee-8f7f-f4d396d3f97b button.colab-df-convert');\n",
              "        buttonEl.style.display =\n",
              "          google.colab.kernel.accessAllowed ? 'block' : 'none';\n",
              "\n",
              "        async function convertToInteractive(key) {\n",
              "          const element = document.querySelector('#df-f09f53f9-4940-4bee-8f7f-f4d396d3f97b');\n",
              "          const dataTable =\n",
              "            await google.colab.kernel.invokeFunction('convertToInteractive',\n",
              "                                                     [key], {});\n",
              "          if (!dataTable) return;\n",
              "\n",
              "          const docLinkHtml = 'Like what you see? Visit the ' +\n",
              "            '<a target=\"_blank\" href=https://colab.research.google.com/notebooks/data_table.ipynb>data table notebook</a>'\n",
              "            + ' to learn more about interactive tables.';\n",
              "          element.innerHTML = '';\n",
              "          dataTable['output_type'] = 'display_data';\n",
              "          await google.colab.output.renderOutput(dataTable, element);\n",
              "          const docLink = document.createElement('div');\n",
              "          docLink.innerHTML = docLinkHtml;\n",
              "          element.appendChild(docLink);\n",
              "        }\n",
              "      </script>\n",
              "    </div>\n",
              "  </div>\n",
              "  "
            ]
          },
          "metadata": {},
          "execution_count": 8
        }
      ],
      "source": [
        "scaled_features_df = pd.DataFrame(scaled_features, index=df.index, columns=df.iloc[:,1:].columns)\n",
        "scaled_features_df['Price']= y\n",
        "scaled_features_df.head()"
      ]
    },
    {
      "cell_type": "markdown",
      "source": [
        "Los coeficientes de regresión del modelo son los que controlan la influencia de cada predictor en el modelo. Sin embargo, la magnitud de cada coeficiente depende de las unidades en las que se midan los predictores, por lo que su magnitud no está asociada con la importancia de cada predictor. Para poder considerar que, cuanto más próximo a cero es el coeficiente un predictor, menor es su influencia sobre la variable respuesta en comparación al resto, es necesario estandarizar todos los predictores antes de ajustar el modelo.\n"
      ],
      "metadata": {
        "id": "fQ7zXlG6olFa"
      }
    },
    {
      "cell_type": "code",
      "execution_count": null,
      "metadata": {
        "colab": {
          "base_uri": "https://localhost:8080/"
        },
        "id": "VzZFI21aN4W7",
        "outputId": "1b3de67e-8cfe-4fd9-9de8-efc741b55b1a"
      },
      "outputs": [
        {
          "output_type": "execute_result",
          "data": {
            "text/plain": [
              "((9251, 38), (3084, 38))"
            ]
          },
          "metadata": {},
          "execution_count": 9
        }
      ],
      "source": [
        "X_sc = scaled_features_df.iloc[:, 0:38].values\n",
        "y_sc = scaled_features_df['Price'].values\n",
        "\n",
        "from sklearn.model_selection import train_test_split\n",
        "\n",
        "X_train_sc, X_test_sc, y_train_sc, y_test_sc = train_test_split(X_sc, y_sc, test_size=0.25, random_state=0)\n",
        "\n",
        "X_train_sc.shape, X_test_sc.shape"
      ]
    },
    {
      "cell_type": "code",
      "execution_count": null,
      "metadata": {
        "id": "KhdALjSqrwjD"
      },
      "outputs": [],
      "source": [
        "#Para guardar las metricas de cada modelo\n",
        "vector_rmse=[]\n",
        "vector_mse=[]\n",
        "vector_mae=[]\n",
        "vector_r2_score=[]"
      ]
    },
    {
      "cell_type": "markdown",
      "source": [
        "Con el fin de que la predicción esté lo menos influida posible por la partición de los datos realizada, comprobaremos si las proporciones de la variable respuesta es la misma en los conjuntos de entrenamiento y test."
      ],
      "metadata": {
        "id": "2SqwpmLsia_B"
      }
    },
    {
      "cell_type": "code",
      "execution_count": null,
      "metadata": {
        "colab": {
          "base_uri": "https://localhost:8080/",
          "height": 542
        },
        "id": "5Ojfp7QDthsN",
        "outputId": "95e9308d-55ce-4a4b-98c7-415cc7d31c97"
      },
      "outputs": [
        {
          "output_type": "display_data",
          "data": {
            "text/plain": [
              "<Figure size 1200x600 with 2 Axes>"
            ],
            "image/png": "[encoded data removed]"
          },
          "metadata": {}
        }
      ],
      "source": [
        "fig , ax = plt.subplots(1,2,figsize=(12,6))\n",
        "\n",
        "ax[0].hist(y_train_sc)\n",
        "ax[0].set_xlabel('y_train')\n",
        "ax[0].set_ylabel('Numero de observaciones')\n",
        "\n",
        "ax[1].hist(y_test_sc,color='r')\n",
        "ax[1].set_xlabel('y_test')\n",
        "ax[1].set_ylabel('Numero de observaciones')\n",
        "\n",
        "plt.show()"
      ]
    },
    {
      "cell_type": "markdown",
      "metadata": {
        "id": "LMnXGspkEkv5"
      },
      "source": [
        "## 1.1 Regresion LASSO"
      ]
    },
    {
      "cell_type": "markdown",
      "source": [
        "LASSO (Least Absolute Shrinkage and Selection Operator) es un modelo lineal que penaliza el vector de coeficientes añadiendo su norma L1 (basada en la distancia Manhattan) a la función de coste:\n",
        "\n",
        "![RSS_lasso.jpg](data:image/jpeg;base64,/9j/4AAQSkZJRgABAQEAYABgAAD/4REURXhpZgAATU0AKgAAAAgABAE7AAIAAAAZAAAISodpAAQAAAABAAAIZJydAAEAAAAwAAAQ3OocAAcAAAgMAAAAPgAAAAAc6gAAAAgAAAAAAAAAAAAAAAAAAAAAAAAAAAAAAAAAAAAAAAAAAAAAAAAAAAAAAAAAAAAAAAAAAAAAAAAAAAAAAAAAAAAAAAAAAAAAAAAAAAAAAAAAAAAAAAAAAAAAAAAAAAAAAAAAAAAAAAAAAAAAAAAAAAAAAAAAAAAAAAAAAAAAAAAAAAAAAAAAAAAAAAAAAAAAAAAAAAAAAAAAAAAAAAAAAAAAAAAAAAAAAAAAAAAAAAAAAAAAAAAAAAAAAAAAAAAAAAAAAAAAAAAAAAAAAAAAAAAAAAAAAAAAAAAAAAAAAAAAAAAAAAAAAAAAAAAAAAAAAAAAAAAAAAAAAAAAAAAAAAAAAAAAAAAAAAAAAAAAAAAAAAAAAAAAAAAAAAAAAAAAAAAAAAAAAAAAAAAAAAAAAAAAAAAAAAAAAAAAAAAAAAAAAAAAAAAAAAAAAAAAAAAAAAAAAAAAAAAAAAAAAAAAAAAAAAAAAAAAAAAAAAAAAAAAAAAAAAAAAAAAAAAAAAAAAAAAAAAAAAAAAAAAAAAAAAAAAAAAAAAAAAAAAAAAAAAAAAAAAAAAAAAAAAAAAAAAAAAAAAAAAAAAAAAAAAAAAAAAAAAAAAAAAAAAAAAAAAAAAAAAAAAAAAAAAAAAAAAAAAAAAAAAAAAAAAAAAAAAAAAAAAAAAAAAAAAAAAAAAAAAAAAAAAAAAAAAAAAAAAAAAAAAAAAAAAAAAAAAAAAAAAAAAAAAAAAAAAAAAAAAAAAAAAAAAAAAAAAAAAAAAAAAAAAAAAAAAAAAAAAAAAAAAAAAAAAAAAAAAAAAAAAAAAAAAAAAAAAAAAAAAAAAAAAAAAAAAAAAAAAAAAAAAAAAAAAAAAAAAAAAAAAAAAAAAAAAAAAAAAAAAAAAAAAAAAAAAAAAAAAAAAAAAAAAAAAAAAAAAAAAAAAAAAAAAAAAAAAAAAAAAAAAAAAAAAAAAAAAAAAAAAAAAAAAAAAAAAAAAAAAAAAAAAAAAAAAAAAAAAAAAAAAAAAAAAAAAAAAAAAAAAAAAAAAAAAAAAAAAAAAAAAAAAAAAAAAAAAAAAAAAAAAAAAAAAAAAAAAAAAAAAAAAAAAAAAAAAAAAAAAAAAAAAAAAAAAAAAAAAAAAAAAAAAAAAAAAAAAAAAAAAAAAAAAAAAAAAAAAAAAAAAAAAAAAAAAAAAAAAAAAAAAAAAAAAAAAAAAAAAAAAAAAAAAAAAAAAAAAAAAAAAAAAAAAAAAAAAAAAAAAAAAAAAAAAAAAAAAAAAAAAAAAAAAAAAAAAAAAAAAAAAAAAAAAAAAAAAAAAAAAAAAAAAAAAAAAAAAAAAAAAAAAAAAAAAAAAAAAAAAAAAAAAAAAAAAAAAAAAAAAAAAAAAAAAAAAAAAAAAAAAAAAAAAAAAAAAAAAAAAAAAAAAAAAAAAAAAAAAAAAAAAAAAAAAAAAAAAAAAAAAAAAAAAAAAAAAAAAAAAAAAAAAAAAAAAAAAAAAAAAAAAAAAAAAAAAAAAAAAAAAAAAAAAAAAAAAAAAAAAAAAAAAAAAAAAAAAAAAAAAAAAAAAAAAAAAAAAAAAAAAAAAAAAAAAAAAAAAAAAAAAAAAAAAAAAAAAAAAAAAAAAAAAAAAAAAAAAAAAAAAAAAAAAAAAAAAAAAAAAAAAAAAAAAAAAAAAAAAAAAAAAAAAAAAAAAAAAAAAAAAAAAAAAAAAAAAAAAAAAAAAAAAAAAAAAAAAAAAAAAAAAAAAAAAAAAAAAAAAAAAAAAAAAAAAAAAAAAAAAAAAAAAAAAAAAAAAAAAAAAAAAAAAAAAAAAAAAAAAAAAAAAAAAAAAAAAAAAAAAAAAAAAAAAAAAAAAAAAAAAAAAAAAAAAAAAAAAAAAAAAAAAAAAAAAAAAAAAAAAAAAAAAAAAAAAAAAAAAAAAAAAAAAAAAAAAAAAAAAAAAAAAAAAAAAAAAAAAAAAAAAAAAAAAAAAAAAAAAAAAAAAAAAAAAAAAAAAAAAAAAAAAAAAAAAAAAAAAAAAAAAAAAAAAAAAAAAAAAAAAAAAAAAAAAAAAAAAAAAAAAAAAAAAAAAAAAAAAAAAAAAAAAAAAAAAAAAAAAAAAAAAAAAAAAAAAAAAAAAAAAAAAAAAAAAAAAAAAAAAAAAAAAAAAAAAAAAAAAAAAAAAAAAAAAAAAAAAAAAAAAAAAAAAAAAAAAAAAAAAAAAAAAAAAAAAAAAAAAAAAAAAAAAAAAAAAAAAAAAAAAAAAAAAAAAAAAAAAAAAAAAAAAAAAAAAAAAAAAAAAAAAAAAAAAAAAAAAAAAAAAAAAAAAAAAAAAAAAAAAAAAAAAAAAAAAAAAAAAAAAAAAAAAAAAAAAAAAAAAAAAAAAAAAAAAAAAAAAAAAAAAAAAAAAAAAAAAAAAAAAAAAAAAAAAAAAAAAAAAAAAAAAAAAAAAAAAAAAAAAAAAAAAAAAAAAAAAAAAAAAAAAAAAAAAAAAAAAAAAAAAAAAAAAAAAAAAAAAAAAAAAAAAAAAAAAAAAAAAAAAAAAAAAAAAAAAAAAAAAAAAAAAAAAAAAAAAAAAAAAAAAAAAAAAAAAAAAAAAAAAAAAAAAAAAAAAAAAAAAAAAAAAAAAAAAAAAAAAAAAAAAAAAAAAAAAAAAAAAAAAAAAAAAAAAAAAAAAAAAAAAAAAAAAAAAAAAAAAAAAAAAAAAAAAAAAAAAAAAAAAAAAAAAAAAAAAAAAAAAAAAAAAAAAAAAAAAAAAAAAAAAAAAAAAAAAAAAAAERhbmllbCBCdXJydWVjbyBEZWwgUsOtbwAAAAWQAwACAAAAFAAAELKQBAACAAAAFAAAEMaSkQACAAAAAzM1AACSkgACAAAAAzM1AADqHAAHAAAIDAAACKYAAAAAHOoAAAAIAAAAAAAAAAAAAAAAAAAAAAAAAAAAAAAAAAAAAAAAAAAAAAAAAAAAAAAAAAAAAAAAAAAAAAAAAAAAAAAAAAAAAAAAAAAAAAAAAAAAAAAAAAAAAAAAAAAAAAAAAAAAAAAAAAAAAAAAAAAAAAAAAAAAAAAAAAAAAAAAAAAAAAAAAAAAAAAAAAAAAAAAAAAAAAAAAAAAAAAAAAAAAAAAAAAAAAAAAAAAAAAAAAAAAAAAAAAAAAAAAAAAAAAAAAAAAAAAAAAAAAAAAAAAAAAAAAAAAAAAAAAAAAAAAAAAAAAAAAAAAAAAAAAAAAAAAAAAAAAAAAAAAAAAAAAAAAAAAAAAAAAAAAAAAAAAAAAAAAAAAAAAAAAAAAAAAAAAAAAAAAAAAAAAAAAAAAAAAAAAAAAAAAAAAAAAAAAAAAAAAAAAAAAAAAAAAAAAAAAAAAAAAAAAAAAAAAAAAAAAAAAAAAAAAAAAAAAAAAAAAAAAAAAAAAAAAAAAAAAAAAAAAAAAAAAAAAAAAAAAAAAAAAAAAAAAAAAAAAAAAAAAAAAAAAAAAAAAAAAAAAAAAAAAAAAAAAAAAAAAAAAAAAAAAAAAAAAAAAAAAAAAAAAAAAAAAAAAAAAAAAAAAAAAAAAAAAAAAAAAAAAAAAAAAAAAAAAAAAAAAAAAAAAAAAAAAAAAAAAAAAAAAAAAAAAAAAAAAAAAAAAAAAAAAAAAAAAAAAAAAAAAAAAAAAAAAAAAAAAAAAAAAAAAAAAAAAAAAAAAAAAAAAAAAAAAAAAAAAAAAAAAAAAAAAAAAAAAAAAAAAAAAAAAAAAAAAAAAAAAAAAAAAAAAAAAAAAAAAAAAAAAAAAAAAAAAAAAAAAAAAAAAAAAAAAAAAAAAAAAAAAAAAAAAAAAAAAAAAAAAAAAAAAAAAAAAAAAAAAAAAAAAAAAAAAAAAAAAAAAAAAAAAAAAAAAAAAAAAAAAAAAAAAAAAAAAAAAAAAAAAAAAAAAAAAAAAAAAAAAAAAAAAAAAAAAAAAAAAAAAAAAAAAAAAAAAAAAAAAAAAAAAAAAAAAAAAAAAAAAAAAAAAAAAAAAAAAAAAAAAAAAAAAAAAAAAAAAAAAAAAAAAAAAAAAAAAAAAAAAAAAAAAAAAAAAAAAAAAAAAAAAAAAAAAAAAAAAAAAAAAAAAAAAAAAAAAAAAAAAAAAAAAAAAAAAAAAAAAAAAAAAAAAAAAAAAAAAAAAAAAAAAAAAAAAAAAAAAAAAAAAAAAAAAAAAAAAAAAAAAAAAAAAAAAAAAAAAAAAAAAAAAAAAAAAAAAAAAAAAAAAAAAAAAAAAAAAAAAAAAAAAAAAAAAAAAAAAAAAAAAAAAAAAAAAAAAAAAAAAAAAAAAAAAAAAAAAAAAAAAAAAAAAAAAAAAAAAAAAAAAAAAAAAAAAAAAAAAAAAAAAAAAAAAAAAAAAAAAAAAAAAAAAAAAAAAAAAAAAAAAAAAAAAAAAAAAAAAAAAAAAAAAAAAAAAAAAAAAAAAAAAAAAAAAAAAAAAAAAAAAAAAAAAAAAAAAAAAAAAAAAAAAAAAAAAAAAAAAAAAAAAAAAAAAAAAAAAAAAAAAAAAAAAAAAAAAAAAAAAAAAAAAAAAAAAAAAAAAAAAAAAAAAAAAAAAAAAAAAAAAAAAAAAAAAAAAAAAAAAAAAAAAAAAAAAAAAAAAAAAAAAAAAAAAAAAAAAAAAAAAAAAAAAAAAAAAAAAAAAAAAAAAAAAAAAAAAAAAAAAAAAAAAAAAAAAAAAAAAAAAAAAAAAAAAAAAAAAAAAAAAAAAAAAAAAAAAAAAAAAAAAAAAAAAAAAAAAAAAAAAAAAAAAAAAAAAAAAAAAAAAAAAAAAAAAAAAAAAAAAAAAAAAAAAAAAAAAAAAAAAAAAAAAAAAAAAAAAAAAAAAAAAAAAAAAAAAAAAAAAAAAAAAAAAAAAAAAAAAAAAAAAAAAAAAAAAAAAAAAAAAAAAAAAAAAAAAAAAAAAAAAAAAAAAAAAAAAAAAAAAAAAAAAAAAAAAAAAAAAAAAAAAAAAAAAAAAAAAAAAAAAAAAAAAAAAAAAAAAAAAAAAAAAAAAAAAAAAAAAAAAAAAAAAAAAAAAAAAAAAAAAAAAAAAAAAAAAAAAAAAAAAAAAAAAAAAAAAAAAAAAAAAAAAAAAAAAAAAAAAAAAAAAAAAAAAAAAAAAAAAAAAAAAAAAAAAAAAAAAAAAAAAAAAAAAAAAAAAAAAAAAAAAAAAAAAAAAAAAAAAAAAAAAAAAAAAAAAAAAAAAAAAAAAAAAAAAAAAAAAAAAAAAAAAAAAAAAAAAAAAAAAAAAAAAAAAAAAAAAAAAAAAAAAAAAAAAAAAAAAAAAAAAAAAAAAAAAAAAAAAAAAAAAAAAAAAAAAAAAAAAAAAAAAAAAAAAAAAAAAAAAAAAAAAAAAAAAAAAAAAAAAAAAAAAAAAAAAAAAAAAAAAAAAAAAAAAAAAAAAAAAAAAAAAAAAAAAAAAAAAAAAAAAAAAAAAAAAAAAAAAAAAAAAAAAAAAAAAAAAAAAAAAAAAAAAAAAAAAAAAAAAAAAAAAAAAAAAAAAAAAAAAAAAAAAAAAAAAAAAAAAAAAAAAAAAAAAAAAAAAAAAAAAAAAAAAAAAAAAAAAAAAAAAAAAAAAAAAAAAAAAAAAAAAAAAAAAAAAAAAAAAAAAAAAAAAAAAAAAAAAAAAAAAAAAAAAAAAAAAAAAAAAAAAAAAAAAAAAAAAAAAAAAAAAAAAAAAAAyMDE5OjAzOjIxIDEyOjAyOjIxADIwMTk6MDM6MjEgMTI6MDI6MjEAAABEAGEAbgBpAGUAbAAgAEIAdQByAHIAdQBlAGMAbwAgAEQAZQBsACAAUgDtAG8AAAD/4QsraHR0cDovL25zLmFkb2JlLmNvbS94YXAvMS4wLwA8P3hwYWNrZXQgYmVnaW49J++7vycgaWQ9J1c1TTBNcENlaGlIenJlU3pOVGN6a2M5ZCc/Pg0KPHg6eG1wbWV0YSB4bWxuczp4PSJhZG9iZTpuczptZXRhLyI+PHJkZjpSREYgeG1sbnM6cmRmPSJodHRwOi8vd3d3LnczLm9yZy8xOTk5LzAyLzIyLXJkZi1zeW50YXgtbnMjIj48cmRmOkRlc2NyaXB0aW9uIHJkZjphYm91dD0idXVpZDpmYWY1YmRkNS1iYTNkLTExZGEtYWQzMS1kMzNkNzUxODJmMWIiIHhtbG5zOmRjPSJodHRwOi8vcHVybC5vcmcvZGMvZWxlbWVudHMvMS4xLyIvPjxyZGY6RGVzY3JpcHRpb24gcmRmOmFib3V0PSJ1dWlkOmZhZjViZGQ1LWJhM2QtMTFkYS1hZDMxLWQzM2Q3NTE4MmYxYiIgeG1sbnM6eG1wPSJodHRwOi8vbnMuYWRvYmUuY29tL3hhcC8xLjAvIj48eG1wOkNyZWF0ZURhdGU+MjAxOS0wMy0yMVQxMjowMjoyMS4zNDg8L3htcDpDcmVhdGVEYXRlPjwvcmRmOkRlc2NyaXB0aW9uPjxyZGY6RGVzY3JpcHRpb24gcmRmOmFib3V0PSJ1dWlkOmZhZjViZGQ1LWJhM2QtMTFkYS1hZDMxLWQzM2Q3NTE4MmYxYiIgeG1sbnM6ZGM9Imh0dHA6Ly9wdXJsLm9yZy9kYy9lbGVtZW50cy8xLjEvIj48ZGM6Y3JlYXRvcj48cmRmOlNlcSB4bWxuczpyZGY9Imh0dHA6Ly93d3cudzMub3JnLzE5OTkvMDIvMjItcmRmLXN5bnRheC1ucyMiPjxyZGY6bGk+RGFuaWVsIEJ1cnJ1ZWNvIERlbCBSw61vPC9yZGY6bGk+PC9yZGY6U2VxPg0KCQkJPC9kYzpjcmVhdG9yPjwvcmRmOkRlc2NyaXB0aW9uPjwvcmRmOlJERj48L3g6eG1wbWV0YT4NCiAgICAgICAgICAgICAgICAgICAgICAgICAgICAgICAgICAgICAgICAgICAgICAgICAgICAgICAgICAgICAgICAgICAgICAgICAgICAgICAgICAgICAgICAgICAgICAgICAgICAKICAgICAgICAgICAgICAgICAgICAgICAgICAgICAgICAgICAgICAgICAgICAgICAgICAgICAgICAgICAgICAgICAgICAgICAgICAgICAgICAgICAgICAgICAgICAgICAgICAgIAogICAgICAgICAgICAgICAgICAgICAgICAgICAgICAgICAgICAgICAgICAgICAgICAgICAgICAgICAgICAgICAgICAgICAgICAgICAgICAgICAgICAgICAgICAgICAgICAgICAgCiAgICAgICAgICAgICAgICAgICAgICAgICAgICAgICAgICAgICAgICAgICAgICAgICAgICAgICAgICAgICAgICAgICAgICAgICAgICAgICAgICAgICAgICAgICAgICAgICAgICAKICAgICAgICAgICAgICAgICAgICAgICAgICAgICAgICAgICAgICAgICAgICAgICAgICAgICAgICAgICAgICAgICAgICAgICAgICAgICAgICAgICAgICAgICAgICAgICAgICAgIAogICAgICAgICAgICAgICAgICAgICAgICAgICAgICAgICAgICAgICAgICAgICAgICAgICAgICAgICAgICAgICAgICAgICAgICAgICAgICAgICAgICAgICAgICAgICAgICAgICAgCiAgICAgICAgICAgICAgICAgICAgICAgICAgICAgICAgICAgICAgICAgICAgICAgICAgICAgICAgICAgICAgICAgICAgICAgICAgICAgICAgICAgICAgICAgICAgICAgICAgICAKICAgICAgICAgICAgICAgICAgICAgICAgICAgICAgICAgICAgICAgICAgICAgICAgICAgICAgICAgICAgICAgICAgICAgICAgICAgICAgICAgICAgICAgICAgICAgICAgICAgIAogICAgICAgICAgICAgICAgICAgICAgICAgICAgICAgICAgICAgICAgICAgICAgICAgICAgICAgICAgICAgICAgICAgICAgICAgICAgICAgICAgICAgICAgICAgICAgICAgICAgCiAgICAgICAgICAgICAgICAgICAgICAgICAgICAgICAgICAgICAgICAgICAgICAgICAgICAgICAgICAgICAgICAgICAgICAgICAgICAgICAgICAgICAgICAgICAgICAgICAgICAKICAgICAgICAgICAgICAgICAgICAgICAgICAgICAgICAgICAgICAgICAgICAgICAgICAgICAgICAgICAgICAgICAgICAgICAgICAgICAgICAgICAgICAgICAgICAgICAgICAgIAogICAgICAgICAgICAgICAgICAgICAgICAgICAgICAgICAgICAgICAgICAgICAgICAgICAgICAgICAgICAgICAgICAgICAgICAgICAgICAgICAgICAgICAgICAgICAgICAgICAgCiAgICAgICAgICAgICAgICAgICAgICAgICAgICAgICAgICAgICAgICAgICAgICAgICAgICAgICAgICAgICAgICAgICAgICAgICAgICAgICAgICAgICAgICAgICAgICAgICAgICAKICAgICAgICAgICAgICAgICAgICAgICAgICAgICAgICAgICAgICAgICAgICAgICAgICAgICAgICAgICAgICAgICAgICAgICAgICAgICAgICAgICAgICAgICAgICAgICAgICAgIAogICAgICAgICAgICAgICAgICAgICAgICAgICAgICAgICAgICAgICAgICAgICAgICAgICAgICAgICAgICAgICAgICAgICAgICAgICAgICAgICAgICAgICAgICAgICAgICAgICAgCiAgICAgICAgICAgICAgICAgICAgICAgICAgICAgICAgICAgICAgICAgICAgICAgICAgICAgICAgICAgICAgICAgICAgICAgICAgICAgICAgICAgICAgICAgICAgICAgICAgICAKICAgICAgICAgICAgICAgICAgICAgICAgICAgICAgICAgICAgICAgICAgICAgICAgICAgICAgICAgICAgICAgICAgICAgICAgICAgICAgICAgICAgICAgICAgICAgICAgICAgIAogICAgICAgICAgICAgICAgICAgICAgICAgICAgICAgICAgICAgICAgICAgICAgICAgICAgICAgICAgICAgICAgICAgICAgICAgICAgICAgICAgICAgICAgICAgICAgICAgICAgCiAgICAgICAgICAgICAgICAgICAgICAgICAgICAgICAgICAgICAgICAgICAgICAgICAgICAgICAgICAgICAgICAgICAgICAgICAgICAgICAgICAgICAgICAgICAgICAgICAgICAKICAgICAgICAgICAgICAgICAgICAgICAgICAgICAgICAgICAgICAgICAgICAgICAgICAgICAgICAgICAgICAgICAgICAgICAgICAgICAgICAgICAgICAgICAgICAgICAgICAgIAogICAgICAgICAgICAgICAgICAgICAgICAgICAgPD94cGFja2V0IGVuZD0ndyc/Pv/bAEMABwUFBgUEBwYFBggHBwgKEQsKCQkKFQ8QDBEYFRoZGBUYFxseJyEbHSUdFxgiLiIlKCkrLCsaIC8zLyoyJyorKv/bAEMBBwgICgkKFAsLFCocGBwqKioqKioqKioqKioqKioqKioqKioqKioqKioqKioqKioqKioqKioqKioqKioqKioqKv/AABEIAF4BPwMBIgACEQEDEQH/xAAfAAABBQEBAQEBAQAAAAAAAAAAAQIDBAUGBwgJCgv/xAC1EAACAQMDAgQDBQUEBAAAAX0BAgMABBEFEiExQQYTUWEHInEUMoGRoQgjQrHBFVLR8CQzYnKCCQoWFxgZGiUmJygpKjQ1Njc4OTpDREVGR0hJSlNUVVZXWFlaY2RlZmdoaWpzdHV2d3h5eoOEhYaHiImKkpOUlZaXmJmaoqOkpaanqKmqsrO0tba3uLm6wsPExcbHyMnK0tPU1dbX2Nna4eLj5OXm5+jp6vHy8/T19vf4+fr/xAAfAQADAQEBAQEBAQEBAAAAAAAAAQIDBAUGBwgJCgv/xAC1EQACAQIEBAMEBwUEBAABAncAAQIDEQQFITEGEkFRB2FxEyIygQgUQpGhscEJIzNS8BVictEKFiQ04SXxFxgZGiYnKCkqNTY3ODk6Q0RFRkdISUpTVFVWV1hZWmNkZWZnaGlqc3R1dnd4eXqCg4SFhoeIiYqSk5SVlpeYmZqio6Slpqeoqaqys7S1tre4ubrCw8TFxsfIycrS09TV1tfY2dri4+Tl5ufo6ery8/T19vf4+fr/2gAMAwEAAhEDEQA/APpGiiigAooooAKKKKACiiigAooooAKKKKACiiigAooooAKKKKACiiigAooooAKKKKACiiigAooooAKKKKACiis3WvEOl+HbeKfWbr7NFLKkKuY2YBmYKN20HaNzKNxwASMnkUAaVFUNH1uw121kuNMleRIpmgkEkLxOjr1VkcBgenUdCD0NX6ACiiigAooooAKKKKACiiigAooooAKKKKACiiigAooooAKKKKACub8d6FL4i8Ox6fb24md722LOX2+QglUySDkfMqbiuOQcEc1s6rb3d3pF1b6bemwvJImWC6Eav5T44bawIOD2NeU/DrVvEniK71Pw94s8Y6xp3inSJSLm1ggsRHLET8sse62JKkEdz1B/iAoA7jwVos2hTa9A2mLYW1xqb3EGx1KSKUVAyqpJGRGpO7BLM3Hc9TXLXPhbXmtZRaePtcjnKHynltbB1VscEgWwJGe2R9ateBbjWbvwLpM/igSDV3gBu/NiETb8nOVAAH5CgDfooooAKKKKACiiigAooooAKKKKACiiigAooooAK5fxtp+sarHo1rosce0alHPczzRrLHCsas6M0ZkQuPNEfCnI69qu+L7TXb3wrexeEtSGnawE3WszRo6lhzsYOCMN0zjjOa4T4a6pqvjnw/I154016x1vT5DbapYfZ7AGCYcEgG1ztOCR17jJINAHoHh3QxoOnyxSXLXd1c3D3V1csgTzZXOSQo+6AAABzgAck81rVw3ifw/4ss/C2pXXh7xvrU2p29u8ttDNZ2MiyuoyE2rbgktjAwepHXpXX6W9xLo9nJehhctAjTBl2neVG7I7HOeKALVFFFABRRRQAUUUUAFFFFACNuCnYAWxwCcAn61wOh/EXU7+20C+1TQLW007X7o2trLbamZ5A2HZWZGhQbGEZOQxOCOPTovGx1f/AIQnVY/Ddk97qk1s8NtEsiJh2G0MS7KMLnPXtXI+G/BM/hjxFpFzaaTe3djHogiSO9vhM2m3S4+Vd8jBA6kqfLyoKDHBoA3YPF+rapq1/DoGhW95Z6bfixuZJtREMwYbd7LF5ZBVQ2fmdSQDgHjKTeMNWu9e1bTvDehW+o/2PKkN0bjURbyMzIr/ALtPLYEbXHLMgJBAzVGy0rU9V8f6X4h/4Rubw3NBFImqSyXML/b1MZVIh5TtvCuQwdwpAXAHPEZ0zVtf8YaHrTeF5vDt/Yyn7ffSXUDi4t9jAwDynLSAsUI3quMZHPFAHoNFeb6d4ku7eJodMvojc6zq9/LHNqU0lxFZW0JILbd4O0hVZYwygCTPAGKa/jrX5vCWjahZzaMJ7tPMu5zBJLHAJWAtt0SyCRFkDDL5baR90g8AHpVFef3/AI61HSdY1ia/NidK06ynvYoYoHaW6iiVQzpMHKZEh2MhQFcg5Na3hjXNZvPEGo6VrZ0+Z7W2t7gyafG6pC8pfMDFmbcwCq24bchx8o4yAaureKvD2g3CQa7rumabNIu9I7y8jhZlzjIDEZGR1o0nxV4e164eDQtd0zUpo13vHZ3kczKucZIUnAyetGraPe6jcJJZ+I9T0lVXaYrOO2ZXOfvHzYXOe3BA9qNJ0e9064eS88R6nqysu0RXkdsqoc/eHlQoc9uSR7UAateb/FPwjqMstp438Grt8TaGCwjUcX1vyXgYDrwSR9SOpBHpFYXi3xGfDulIbSD7Zql5ILbTrMHBnmIOAT2UAFmbsoJoAPBvi3TvG/hW01zSGPkzrh4m+9DIPvI3uD+fB6GpvEOtnRrW2W3gFzf39wtrZwF9oeQgtlj2VVVmJAJwpwCcCq/g3wtD4S8PiyRklu7iZ7u+uFQJ9ouJDl32jgDOAB2AAqj4v/0bxV4O1KZV+ywajJBK5/5ZtNBJHG34uVT/AIGPWgDft9Rt1vI9LutQs5NVEHnPbxsEcrnBcRliwXPGefrUunalY6vYx3uk3tvfWkmdlxbSrJG+Dg4ZSQcEEfhXI+MbKZfF3hm80CK3bV1uphKpGCYHt2R5XxyVVlg69cKuc4qzpkQ0rxpZ+HrOWJdPsNJ87y8usrTSSsAzYcI4YRynBTIYEg8kUAddRWZq/h+z1tomvJtRjMQIX7Fqdxag59RFIu7p3ziotL8MWGj3hubS41WSQqUxd6vdXKYP+xLIy5464zQBR8d+NbHwToIu7qe1S7uJFgs4bmcRLI7MF3Enoi7tzHsBVSbxBrNro+mQSXek32qa3eeRp11ZRuLcwlDL5xUuxOI0ZsBsMdoyM5pPFDHVPiB4U0SM7kt5ZtXulHZYk8uLPsZJQR67D6VL4z3WOs+Gtek4stNvnW8bHEUUsLxiQnsquUyegBJPAoA31v7OxuLXTLzVIXv5oyYknkRZrgKMswQYzjqcDAqW2vLXVdP+0aZexzwShljubaRZFyCVJU8qSCCO/I5ri/H+i6l4ga3bTtAS5Gm3lvdM0ksatqCA7XhjO8YHlyzA+ZtBPABDFhrQ6hdzePrawn+z28FvpIuHtUkffHNI5VRkOEddscmAUyChIPOKADS9W1W4u9Z0GSa3bVtLMTxXEsR2XEMgJR2VSMN8kiHHGV3AYO2s3WPFPhvUPA/2/wAWwW8cUV4bOawu5wsZu1ZkMTFiFZc5bLfKVwxHHFjw5F/aHxI8S67B81n5NtpsUo+7K8RkaUg9wGkCZ/vKw7UfDtGkTxLqCszW2oa9czWzHoyKqREj2LRMQe45oAu/D6DT7bwNYQ6PqEOo2aNKI54JN8WfNfckbd0Rsov+yorT1DVvsGraTZeT5n9ozSRb9+PL2xPJnGOc7MdutaNcHrvgazm8T6DLE+vPG13M1w6a1fERAwSYIIl/djdgcY646HFAHeVj+K73UdN8NXl9pM1jBNaxPO8l+jNGFRCxyFZepAGcjAJPOMG/p9hDplhHaWz3DxR52tc3MlxIcknmSRmY9e5OBx0Fct4y0PVfFly2jtb+XoUVs00rNIv+nT8+XDgHIRSA7ZAydo5G6gDqtOuvt2l2t3t2/aIUl2+m5QcfrXl/xH0e98F+Jovid4VgaQwqItfsY/8Al7tuB5gH99ABz6AHoDn0fQGuj4fsvt9idPnWFVa1MiuY8DGMqSvbsSPesfxprd1BHb+H9CCPrmsBo4N67ltohxJcOP7qA8A/eYqO5oA3NG1ex1/RbTVdJnW4s7uISwyL3B/kR0I7EYrn9X/5K54W/wCwXqf/AKHaVteG/D9h4V8OWWiaRF5dpZx7EHcnOWY+5JJPuTWJrTrH8WPDDuQqrpWpkk9hvtKAMvxP461ezbXJ9CXT0tdDZbcrdxvJJqN2yq/2eEKy7Th0Xdh8s2NvGa9AjZmjVnXYxAJXOdp9M15B4Z03V9f0/QdSttBktri41ZtabW5posC1ml8wxoA3mZeLZGVKhcDOTgV6BpV7c3vjjXopJI3tdPS3giEZkBV2TzHVwXKE4aMhgqnDYOaAKfwq/wCSR+F/+wXB/wCgCutrkvhV/wAkj8L/APYLg/8AQBXW0AFFFFABRRRQAUUUUAFFFFAGb/wjehlI0OjaftiuDdRr9lTCTHrKOOHOfvdahTwh4aiuLWePw9pSTWefs0i2UYaDkt8h2/LySeO5NbFFAGbaeHNEsJLuSx0bT7Z73P2pobVEM+eu8gfNnJ61Ppmk6dotmLXR9PtdPtgSwhtYViTPrtUAVbooAKKKKAIby8t9PsZ7y+mSC2t42kllc4VFAyST9K8w8K+N/Cmta3N4w8QeKNEtZpEa30qxn1KFXsrbPLMpbiWQgFu4AVexr0rVLO1v9LuLa/tLa8t3Q74LtQYnxyA2QRjIHY15SbLwhp/hHQtTvfCfgO2l1eFrry9euLeyZFbDqiFbX94FVwDlVIAXO4kmgDvG+JPgdVLHxloGAMnGpwk/kGqbw7q1p488EW+o3FgostTjc/ZpvnDR7iATkDqADjHGa4HUNC8M3/w31DXNH8PeBop7QO3maXbQajEQoBwJDEgDc8gqcD68erWdla6dZxWmn20NrbQrtjhgjCIg9Ao4AoAh0/R9P0ppWsLSKGSbBmmAzJMQMAu5+ZzgYyxJqU6fZHUhqJtIDerF5IuTEvmCPOdm7GduecdKsUUAFFFFAFaHTrK3vri9t7O3iurrb9onSJVebaAF3MBlsAADPQCrDKrqVcBlYYIIyCKWigCOCCG1t0gtokhhjXakcahVUegA4AqGXS7Ca+N7NY20l0YTbmd4VLmInJTdjO3PbpVqigCtLp1rNppsPK8u12hPLhYxAKOw2kYHbA7cdKlt7eG0tYre1iSGCFAkccahVRQMAADoAKkooAKKKKACiiigDM8ReINP8LeHbzWtYm8q0s4zI57t6KPUk4AHqa4Twb4s8KxG68Q+I/F/h5dd1ba0sQ1WBhZwj/V26nf0UEliPvMWPpXoOq6Rp2t2RtNY0601G33BxBeQrKm4dDhgRn3xXlSWfhC08H6VrF34U8B2z6oZJlTWbi3tUVC2UETi1/eDaR1UEAjJY80AdnqnxU8E6bpN3er4q0W6a3haQQQajE8kpAyFVVYkk9OBWjbadbeIpNF8SXsMkU66dIgtSweMLcCJnVsr82PLUDoOuRzx57faL4Z1H4daprej+HvAkc9kX/eaVbwalGQqhtu8xIFfnkFWwMHvx69HGkMSxxIqRooVUUYCgdAB2FADY7eOC1S3tkWCKNAkaxKAI1AwAB0AHYdKoaFoUOg2s8cVxcXc11O1xc3VyVMk8hAG5tqqo4VQAAAAoGK06KAM7w/otv4b8O2GjWLyyW1hAkETTEFyqjAJIAGfoBWjRRQAUUUUAFFFFABRRRQAUUUUAFFFFABRRRQAUUUUAMnhjubeSCdQ8UqlHU9wRgiq+l6XaaLpkGn6dG0dtAuyNXkaRgPdmJY/iTVuigDL8QeHdN8U6S2m61HPLaOwZ44bqWDfwRhjGyll5+6TjODjgVdsrOKwsorW3aZo4l2qZpnmcj3dyWY+5JqeigAooooAKKKKACiiigAooooAKKKKACiiigAooooAz9dsb3UtHns9NvksJZ1MbXDQeaUQ8NtG5cNjoTkA9QelT6dYQaVpdrp9muy3tIUgiX0RVCgfkKs0UAZfiDw7pvinSW03Wo55bR2DPHDdSwb+CMMY2UsvP3ScZwccCrtlZxWFlFa27TNHEu1TNM8zke7uSzH3JNT0UAFFFFABRRRQAUUUUAFFFFABRRRQAUUUUAFFFFABRRRQAUUUUAFFFFABRRRQAUUUUAFFFFABRRRQAUUUUAFFFFABRRRQAUUUUAFFFFABRRRQAUUUUAFFFFABRRRQB//Z)\n",
        "\n",
        "El grado de penalización está controlado por el hiperparámetro  λ\n",
        " . Cuando  λ=0\n",
        " , el resultado es equivalente al de un modelo lineal por mínimos cuadrados."
      ],
      "metadata": {
        "id": "ruq7FOfxEkv5"
      }
    },
    {
      "cell_type": "code",
      "execution_count": null,
      "metadata": {
        "colab": {
          "base_uri": "https://localhost:8080/",
          "height": 244
        },
        "outputId": "15b32512-8610-4ab9-e9be-904940b3e563",
        "id": "6QXzvDuHEkv7"
      },
      "outputs": [
        {
          "output_type": "stream",
          "name": "stdout",
          "text": [
            "----------------------------------------\n",
            "Mejores hiperparámetros encontrados (cv)\n",
            "----------------------------------------\n",
            "{'alpha': 0.051089697745069135} : -40.04634089789855 neg_root_mean_squared_error\n"
          ]
        },
        {
          "output_type": "execute_result",
          "data": {
            "text/plain": [
              "   param_alpha  mean_test_score  std_test_score  mean_train_score  \\\n",
              "19     0.05109       -40.046341        5.288612        -40.167606   \n",
              "18    0.017783       -40.047351        5.275947        -40.165550   \n",
              "17     0.00619       -40.048167        5.271465        -40.165299   \n",
              "16    0.002154       -40.048505        5.269902        -40.165268   \n",
              "\n",
              "    std_train_score  \n",
              "19         0.587379  \n",
              "18         0.587398  \n",
              "17         0.587400  \n",
              "16         0.587401  "
            ],
            "text/html": [
              "\n",
              "  <div id=\"df-237a9d20-4a32-4573-8375-5eb3b9bcf6af\">\n",
              "    <div class=\"colab-df-container\">\n",
              "      <div>\n",
              "<style scoped>\n",
              "    .dataframe tbody tr th:only-of-type {\n",
              "        vertical-align: middle;\n",
              "    }\n",
              "\n",
              "    .dataframe tbody tr th {\n",
              "        vertical-align: top;\n",
              "    }\n",
              "\n",
              "    .dataframe thead th {\n",
              "        text-align: right;\n",
              "    }\n",
              "</style>\n",
              "<table border=\"1\" class=\"dataframe\">\n",
              "  <thead>\n",
              "    <tr style=\"text-align: right;\">\n",
              "      <th></th>\n",
              "      <th>param_alpha</th>\n",
              "      <th>mean_test_score</th>\n",
              "      <th>std_test_score</th>\n",
              "      <th>mean_train_score</th>\n",
              "      <th>std_train_score</th>\n",
              "    </tr>\n",
              "  </thead>\n",
              "  <tbody>\n",
              "    <tr>\n",
              "      <th>19</th>\n",
              "      <td>0.05109</td>\n",
              "      <td>-40.046341</td>\n",
              "      <td>5.288612</td>\n",
              "      <td>-40.167606</td>\n",
              "      <td>0.587379</td>\n",
              "    </tr>\n",
              "    <tr>\n",
              "      <th>18</th>\n",
              "      <td>0.017783</td>\n",
              "      <td>-40.047351</td>\n",
              "      <td>5.275947</td>\n",
              "      <td>-40.165550</td>\n",
              "      <td>0.587398</td>\n",
              "    </tr>\n",
              "    <tr>\n",
              "      <th>17</th>\n",
              "      <td>0.00619</td>\n",
              "      <td>-40.048167</td>\n",
              "      <td>5.271465</td>\n",
              "      <td>-40.165299</td>\n",
              "      <td>0.587400</td>\n",
              "    </tr>\n",
              "    <tr>\n",
              "      <th>16</th>\n",
              "      <td>0.002154</td>\n",
              "      <td>-40.048505</td>\n",
              "      <td>5.269902</td>\n",
              "      <td>-40.165268</td>\n",
              "      <td>0.587401</td>\n",
              "    </tr>\n",
              "  </tbody>\n",
              "</table>\n",
              "</div>\n",
              "      <button class=\"colab-df-convert\" onclick=\"convertToInteractive('df-237a9d20-4a32-4573-8375-5eb3b9bcf6af')\"\n",
              "              title=\"Convert this dataframe to an interactive table.\"\n",
              "              style=\"display:none;\">\n",
              "        \n",
              "  <svg xmlns=\"http://www.w3.org/2000/svg\" height=\"24px\"viewBox=\"0 0 24 24\"\n",
              "       width=\"24px\">\n",
              "    <path d=\"M0 0h24v24H0V0z\" fill=\"none\"/>\n",
              "    <path d=\"M18.56 5.44l.94 2.06.94-2.06 2.06-.94-2.06-.94-.94-2.06-.94 2.06-2.06.94zm-11 1L8.5 8.5l.94-2.06 2.06-.94-2.06-.94L8.5 2.5l-.94 2.06-2.06.94zm10 10l.94 2.06.94-2.06 2.06-.94-2.06-.94-.94-2.06-.94 2.06-2.06.94z\"/><path d=\"M17.41 7.96l-1.37-1.37c-.4-.4-.92-.59-1.43-.59-.52 0-1.04.2-1.43.59L10.3 9.45l-7.72 7.72c-.78.78-.78 2.05 0 2.83L4 21.41c.39.39.9.59 1.41.59.51 0 1.02-.2 1.41-.59l7.78-7.78 2.81-2.81c.8-.78.8-2.07 0-2.86zM5.41 20L4 18.59l7.72-7.72 1.47 1.35L5.41 20z\"/>\n",
              "  </svg>\n",
              "      </button>\n",
              "      \n",
              "  <style>\n",
              "    .colab-df-container {\n",
              "      display:flex;\n",
              "      flex-wrap:wrap;\n",
              "      gap: 12px;\n",
              "    }\n",
              "\n",
              "    .colab-df-convert {\n",
              "      background-color: #E8F0FE;\n",
              "      border: none;\n",
              "      border-radius: 50%;\n",
              "      cursor: pointer;\n",
              "      display: none;\n",
              "      fill: #1967D2;\n",
              "      height: 32px;\n",
              "      padding: 0 0 0 0;\n",
              "      width: 32px;\n",
              "    }\n",
              "\n",
              "    .colab-df-convert:hover {\n",
              "      background-color: #E2EBFA;\n",
              "      box-shadow: 0px 1px 2px rgba(60, 64, 67, 0.3), 0px 1px 3px 1px rgba(60, 64, 67, 0.15);\n",
              "      fill: #174EA6;\n",
              "    }\n",
              "\n",
              "    [theme=dark] .colab-df-convert {\n",
              "      background-color: #3B4455;\n",
              "      fill: #D2E3FC;\n",
              "    }\n",
              "\n",
              "    [theme=dark] .colab-df-convert:hover {\n",
              "      background-color: #434B5C;\n",
              "      box-shadow: 0px 1px 3px 1px rgba(0, 0, 0, 0.15);\n",
              "      filter: drop-shadow(0px 1px 2px rgba(0, 0, 0, 0.3));\n",
              "      fill: #FFFFFF;\n",
              "    }\n",
              "  </style>\n",
              "\n",
              "      <script>\n",
              "        const buttonEl =\n",
              "          document.querySelector('#df-237a9d20-4a32-4573-8375-5eb3b9bcf6af button.colab-df-convert');\n",
              "        buttonEl.style.display =\n",
              "          google.colab.kernel.accessAllowed ? 'block' : 'none';\n",
              "\n",
              "        async function convertToInteractive(key) {\n",
              "          const element = document.querySelector('#df-237a9d20-4a32-4573-8375-5eb3b9bcf6af');\n",
              "          const dataTable =\n",
              "            await google.colab.kernel.invokeFunction('convertToInteractive',\n",
              "                                                     [key], {});\n",
              "          if (!dataTable) return;\n",
              "\n",
              "          const docLinkHtml = 'Like what you see? Visit the ' +\n",
              "            '<a target=\"_blank\" href=https://colab.research.google.com/notebooks/data_table.ipynb>data table notebook</a>'\n",
              "            + ' to learn more about interactive tables.';\n",
              "          element.innerHTML = '';\n",
              "          dataTable['output_type'] = 'display_data';\n",
              "          await google.colab.output.renderOutput(dataTable, element);\n",
              "          const docLink = document.createElement('div');\n",
              "          docLink.innerHTML = docLinkHtml;\n",
              "          element.appendChild(docLink);\n",
              "        }\n",
              "      </script>\n",
              "    </div>\n",
              "  </div>\n",
              "  "
            ]
          },
          "metadata": {},
          "execution_count": 12
        }
      ],
      "source": [
        "alpha_vector = np.logspace(-10,1,25)\n",
        "grid = GridSearchCV(Lasso(),param_grid = {'alpha': alpha_vector}, \n",
        "        scoring='neg_root_mean_squared_error',\n",
        "        n_jobs= multiprocessing.cpu_count() - 1,\n",
        "        cv= RepeatedKFold(n_splits=10, n_repeats=7, random_state=123), \n",
        "        refit=True,verbose= 0,return_train_score = True)\n",
        "grid.fit(X_train_sc, y_train_sc)\n",
        "\n",
        "# Mejores hiperparámetros por validación cruzada\n",
        "# ==============================================================================\n",
        "print(\"----------------------------------------\")\n",
        "print(\"Mejores hiperparámetros encontrados (cv)\")\n",
        "print(\"----------------------------------------\")\n",
        "print(grid.best_params_, \":\", grid.best_score_, grid.scoring)\n",
        "resultados = pd.DataFrame(grid.cv_results_)\n",
        "resultados.filter(regex = '(param.*|mean_t|std_t)') \\\n",
        "    .drop(columns = 'params') \\\n",
        "    .sort_values('mean_test_score', ascending = False) \\\n",
        "    .head(4)"
      ]
    },
    {
      "cell_type": "code",
      "execution_count": null,
      "metadata": {
        "colab": {
          "base_uri": "https://localhost:8080/"
        },
        "outputId": "67a128a2-38e9-4cbb-d605-fe913cd73e2c",
        "id": "ZDKECVMwEkv8"
      },
      "outputs": [
        {
          "output_type": "stream",
          "name": "stdout",
          "text": [
            "Coefficients: \n",
            " [-1.04594133  0.22337301  3.42904799 -0.74046658 -0.93356608  0.80600733\n",
            " 11.13215132  3.5753907   5.5178814  -1.39095293  0.43959534  3.78041047\n",
            "  0.41984978 -3.64493257 -0.31272781 10.06170984 -2.59944543  0.85572292\n",
            "  4.05809631 -5.55804928 -1.81012563 -3.63871356  2.2486414   0.37584689\n",
            "  1.71642151 -0.58847815 -3.11138158  3.779167    0.14381619 -0.\n",
            " 14.4342229  -0.25774928  0.72918603  1.31077904  1.61839911  0.73332755\n",
            "  2.22960878 -0.57821164]\n",
            "Independent term: \n",
            " 61.53309683355343\n",
            "RMSE: 42.49\n",
            "MSE: 1805.23\n",
            "Variance score: 0.30\n",
            "MAE: 21.01\n"
          ]
        }
      ],
      "source": [
        "modelo_LASSO = grid.best_estimator_\n",
        "y_pred = modelo_LASSO.predict(X = X_test_sc)\n",
        "# Veamos los coeficientes obtenidos\n",
        "print('Coefficients: \\n', modelo_LASSO.coef_)\n",
        "# Termino independiente\n",
        "print('Independent term: \\n', modelo_LASSO.intercept_)\n",
        "# Error Cuadrado Medio\n",
        "print(\"RMSE: %.2f\" % np.sqrt(mean_squared_error(y_test_sc, y_pred)))\n",
        "print(\"MSE: %.2f\" % mean_squared_error(y_test_sc, y_pred))\n",
        "# Porcentaje de varianza representada\n",
        "print('Variance score: %.2f' % r2_score(y_test_sc, y_pred))\n",
        "# Error medio absoluto\n",
        "print('MAE: %.2f' % mean_absolute_error(y_test_sc, y_pred))\n"
      ]
    },
    {
      "cell_type": "code",
      "source": [
        "w=modelo_LASSO.coef_\n",
        "plt.figure(figsize=(10,6))\n",
        "ax = plt.gca()\n",
        "plt.bar([x for x in range(len(w))], w,align=\"center\")\n",
        "plt.xticks(range(len(w)),feature_names, rotation = 90)\n",
        "labels = ax.get_xticklabels()\n",
        "for label, wi in zip(labels, w):\n",
        "  if wi == 0:\n",
        "    label.set_color('r')\n",
        "plt.xlabel('Features')\n",
        "plt.ylabel('Coefficients')\n",
        "plt.title('LASSO Regression for Features Selection')\n",
        "plt.show()"
      ],
      "metadata": {
        "colab": {
          "base_uri": "https://localhost:8080/",
          "height": 778
        },
        "outputId": "60dfbd27-4b7b-4b8c-c17a-924c253a5c64",
        "id": "XhXSvNPSEkv8"
      },
      "execution_count": null,
      "outputs": [
        {
          "output_type": "display_data",
          "data": {
            "text/plain": [
              "<Figure size 1000x600 with 1 Axes>"
            ],
            "image/png": "[encoded data removed]"
          },
          "metadata": {}
        }
      ]
    },
    {
      "cell_type": "markdown",
      "source": [
        "Vemos que un coeficiente es 0! Podemos eliminar esa variable del analisis."
      ],
      "metadata": {
        "id": "rB6yUQaXEkv8"
      }
    },
    {
      "cell_type": "code",
      "source": [
        "scaled_features_df.drop('Require Guest Phone Verification',axis=1,inplace=True)\n",
        "X_sc = scaled_features_df.iloc[:, 0:37].values\n",
        "y_sc = scaled_features_df['Price'].values\n",
        "feature_names = scaled_features_df.columns[0:37]\n",
        "\n",
        "from sklearn.model_selection import train_test_split\n",
        "\n",
        "X_train_sc, X_test_sc, y_train_sc, y_test_sc = train_test_split(X_sc, y_sc, test_size=0.25, random_state=0)\n",
        "\n",
        "X_train_sc.shape, X_test_sc.shape"
      ],
      "metadata": {
        "colab": {
          "base_uri": "https://localhost:8080/"
        },
        "outputId": "f234b323-0b5f-4e81-abb6-89efabd326f4",
        "id": "cmy-HeYrEkv9"
      },
      "execution_count": null,
      "outputs": [
        {
          "output_type": "execute_result",
          "data": {
            "text/plain": [
              "((9251, 37), (3084, 37))"
            ]
          },
          "metadata": {},
          "execution_count": 15
        }
      ]
    },
    {
      "cell_type": "code",
      "execution_count": null,
      "metadata": {
        "id": "lX_8PfiQEkv9"
      },
      "outputs": [],
      "source": [
        "vector_rmse.append(np.sqrt(mean_squared_error(y_test_sc, y_pred)))\n",
        "vector_mse.append(mean_squared_error(y_test_sc, y_pred))\n",
        "vector_mae.append(mean_absolute_error(y_test_sc, y_pred))\n",
        "vector_r2_score.append(r2_score(y_test_sc, y_pred))"
      ]
    },
    {
      "cell_type": "markdown",
      "metadata": {
        "id": "MfYl3kCGRL81"
      },
      "source": [
        "## 1.2 Regresion Ridge"
      ]
    },
    {
      "cell_type": "markdown",
      "source": [
        "La Regresión Rigde regulariza el modelo resultante imponiendo una penalización al tamaño de los coeficientes de la relación lineal entre las características predictivas y la variable objetivo. En este caso, los coeficientes calculados minimizan la suma de los cuadrados de los residuos penalizada al añadir el cuadrado de la norma L2 del vector formado por los coeficientes:\n",
        "\n",
        "![RSS_ridge.jpg](data:image/jpeg;base64,/9j/4AAQSkZJRgABAQEAYABgAAD/4REURXhpZgAATU0AKgAAAAgABAE7AAIAAAAZAAAISodpAAQAAAABAAAIZJydAAEAAAAwAAAQ3OocAAcAAAgMAAAAPgAAAAAc6gAAAAgAAAAAAAAAAAAAAAAAAAAAAAAAAAAAAAAAAAAAAAAAAAAAAAAAAAAAAAAAAAAAAAAAAAAAAAAAAAAAAAAAAAAAAAAAAAAAAAAAAAAAAAAAAAAAAAAAAAAAAAAAAAAAAAAAAAAAAAAAAAAAAAAAAAAAAAAAAAAAAAAAAAAAAAAAAAAAAAAAAAAAAAAAAAAAAAAAAAAAAAAAAAAAAAAAAAAAAAAAAAAAAAAAAAAAAAAAAAAAAAAAAAAAAAAAAAAAAAAAAAAAAAAAAAAAAAAAAAAAAAAAAAAAAAAAAAAAAAAAAAAAAAAAAAAAAAAAAAAAAAAAAAAAAAAAAAAAAAAAAAAAAAAAAAAAAAAAAAAAAAAAAAAAAAAAAAAAAAAAAAAAAAAAAAAAAAAAAAAAAAAAAAAAAAAAAAAAAAAAAAAAAAAAAAAAAAAAAAAAAAAAAAAAAAAAAAAAAAAAAAAAAAAAAAAAAAAAAAAAAAAAAAAAAAAAAAAAAAAAAAAAAAAAAAAAAAAAAAAAAAAAAAAAAAAAAAAAAAAAAAAAAAAAAAAAAAAAAAAAAAAAAAAAAAAAAAAAAAAAAAAAAAAAAAAAAAAAAAAAAAAAAAAAAAAAAAAAAAAAAAAAAAAAAAAAAAAAAAAAAAAAAAAAAAAAAAAAAAAAAAAAAAAAAAAAAAAAAAAAAAAAAAAAAAAAAAAAAAAAAAAAAAAAAAAAAAAAAAAAAAAAAAAAAAAAAAAAAAAAAAAAAAAAAAAAAAAAAAAAAAAAAAAAAAAAAAAAAAAAAAAAAAAAAAAAAAAAAAAAAAAAAAAAAAAAAAAAAAAAAAAAAAAAAAAAAAAAAAAAAAAAAAAAAAAAAAAAAAAAAAAAAAAAAAAAAAAAAAAAAAAAAAAAAAAAAAAAAAAAAAAAAAAAAAAAAAAAAAAAAAAAAAAAAAAAAAAAAAAAAAAAAAAAAAAAAAAAAAAAAAAAAAAAAAAAAAAAAAAAAAAAAAAAAAAAAAAAAAAAAAAAAAAAAAAAAAAAAAAAAAAAAAAAAAAAAAAAAAAAAAAAAAAAAAAAAAAAAAAAAAAAAAAAAAAAAAAAAAAAAAAAAAAAAAAAAAAAAAAAAAAAAAAAAAAAAAAAAAAAAAAAAAAAAAAAAAAAAAAAAAAAAAAAAAAAAAAAAAAAAAAAAAAAAAAAAAAAAAAAAAAAAAAAAAAAAAAAAAAAAAAAAAAAAAAAAAAAAAAAAAAAAAAAAAAAAAAAAAAAAAAAAAAAAAAAAAAAAAAAAAAAAAAAAAAAAAAAAAAAAAAAAAAAAAAAAAAAAAAAAAAAAAAAAAAAAAAAAAAAAAAAAAAAAAAAAAAAAAAAAAAAAAAAAAAAAAAAAAAAAAAAAAAAAAAAAAAAAAAAAAAAAAAAAAAAAAAAAAAAAAAAAAAAAAAAAAAAAAAAAAAAAAAAAAAAAAAAAAAAAAAAAAAAAAAAAAAAAAAAAAAAAAAAAAAAAAAAAAAAAAAAAAAAAAAAAAAAAAAAAAAAAAAAAAAAAAAAAAAAAAAAAAAAAAAAAAAAAAAAAAAAAAAAAAAAAAAAAAAAAAAAAAAAAAAAAAAAAAAAAAAAAAAAAAAAAAAAAAAAAAAAAAAAAAAAAAAAAAAAAAAAAAAAAAAAAAAAAAAAAAAAAAAAAAAAAAAAAAAAAAAAAAAAAAAAAAAAAAAAAAAAAAAAAAAAAAAAAAAAAAAAAAAAAAAAAAAAAAAAAAAAAAAAAAAAAAAAAAAAAAAAAAAAAAAAAAAAAAAAAAAAAAAAAAAAAAAAAAAAAAAAAAAAAAAAAAAAAAAAAAAAAAAAAAAAAAAAAAAAAAAAAAAAAAAAAAAAAAAAAAAAAAAAAAAAAAAAAAAAAAAAAAAAAAAAAAAAAAAAAAAAAAAAAAAAAAAAAAAAAAAAAAAAAAAAAAAAAAAAAAAAAAAAAAAAAAAAAAAAAAAAAAAAAAAAAAAAAAAAAAAAAAAAAAAAAAAAAAAAAAAAAAAAAAAAAAAAAAAAAAAAAAAAAAAAAAAAAAAAAAAAAAAAAAAAAAAAAAAAAAAAAAAAAAAAAAAAAAAAAAAAAAAAAAAAAAAAAAAAAAAAAAAAAAAAAAAAAAAAAAAAAAAAAAAAAAAAAAAAAAAAAAAAAAAAAAAAAAAAAAAAAAAAAAAAAAAAAAAAAAAAAAAAAAAAAAAAAAAAAAAAAAAAAAAAAAAAAAAAAAAAAAAAAAAAAAAAAAAAAAAAAAAAAAAAAAAAAAAAAAAAAAAAAAAAAAAAAAAAAAAAAAAAAAAAAAAAAAAAAAAAAAAAAAAAAAAAAAAAAAAAAAAAAAAAAAAAAAAAAAAAAAAAAAAAAAAAAAAAAAAAAAAAAAAAAAAAAAAAAAAAAAAAAAAAAAAAAAAAAAAAAAAAAAAAAAAAAAAAAAAAAAAAAAAAAAAAAAAAAAAAAAAAAAAAAAAAAAAAAAAAAAAAAAAAAAAAAAAAAAAAAAAAAAAAAAAAAAAAAAAAAAAAAAAAAAAAAAAAAAAAAAAAAAAAAAAAAAAAAAAAAAAAAAAAAAAAAAAAAAAAAAAAAAAAAAAAAAAAAAAAAAAAAAAAAAAAAAAAAAAAAAAAAAAAAAAAAAAAAAAAAAAAAAAAAAAAAAAAAAAAAAAAAAAAAAAAAAAAAAAAAAAAAAAAAAAAAAAAAAAAAAAAAAAAAAAAAAAAAAAAAAAAAAAAAAAAAAAAAAAAAAAAAAAAAAAAAAAAAAAAAAAAAAAAAAAAAAAAAERhbmllbCBCdXJydWVjbyBEZWwgUsOtbwAAAAWQAwACAAAAFAAAELKQBAACAAAAFAAAEMaSkQACAAAAAzQ0AACSkgACAAAAAzQ0AADqHAAHAAAIDAAACKYAAAAAHOoAAAAIAAAAAAAAAAAAAAAAAAAAAAAAAAAAAAAAAAAAAAAAAAAAAAAAAAAAAAAAAAAAAAAAAAAAAAAAAAAAAAAAAAAAAAAAAAAAAAAAAAAAAAAAAAAAAAAAAAAAAAAAAAAAAAAAAAAAAAAAAAAAAAAAAAAAAAAAAAAAAAAAAAAAAAAAAAAAAAAAAAAAAAAAAAAAAAAAAAAAAAAAAAAAAAAAAAAAAAAAAAAAAAAAAAAAAAAAAAAAAAAAAAAAAAAAAAAAAAAAAAAAAAAAAAAAAAAAAAAAAAAAAAAAAAAAAAAAAAAAAAAAAAAAAAAAAAAAAAAAAAAAAAAAAAAAAAAAAAAAAAAAAAAAAAAAAAAAAAAAAAAAAAAAAAAAAAAAAAAAAAAAAAAAAAAAAAAAAAAAAAAAAAAAAAAAAAAAAAAAAAAAAAAAAAAAAAAAAAAAAAAAAAAAAAAAAAAAAAAAAAAAAAAAAAAAAAAAAAAAAAAAAAAAAAAAAAAAAAAAAAAAAAAAAAAAAAAAAAAAAAAAAAAAAAAAAAAAAAAAAAAAAAAAAAAAAAAAAAAAAAAAAAAAAAAAAAAAAAAAAAAAAAAAAAAAAAAAAAAAAAAAAAAAAAAAAAAAAAAAAAAAAAAAAAAAAAAAAAAAAAAAAAAAAAAAAAAAAAAAAAAAAAAAAAAAAAAAAAAAAAAAAAAAAAAAAAAAAAAAAAAAAAAAAAAAAAAAAAAAAAAAAAAAAAAAAAAAAAAAAAAAAAAAAAAAAAAAAAAAAAAAAAAAAAAAAAAAAAAAAAAAAAAAAAAAAAAAAAAAAAAAAAAAAAAAAAAAAAAAAAAAAAAAAAAAAAAAAAAAAAAAAAAAAAAAAAAAAAAAAAAAAAAAAAAAAAAAAAAAAAAAAAAAAAAAAAAAAAAAAAAAAAAAAAAAAAAAAAAAAAAAAAAAAAAAAAAAAAAAAAAAAAAAAAAAAAAAAAAAAAAAAAAAAAAAAAAAAAAAAAAAAAAAAAAAAAAAAAAAAAAAAAAAAAAAAAAAAAAAAAAAAAAAAAAAAAAAAAAAAAAAAAAAAAAAAAAAAAAAAAAAAAAAAAAAAAAAAAAAAAAAAAAAAAAAAAAAAAAAAAAAAAAAAAAAAAAAAAAAAAAAAAAAAAAAAAAAAAAAAAAAAAAAAAAAAAAAAAAAAAAAAAAAAAAAAAAAAAAAAAAAAAAAAAAAAAAAAAAAAAAAAAAAAAAAAAAAAAAAAAAAAAAAAAAAAAAAAAAAAAAAAAAAAAAAAAAAAAAAAAAAAAAAAAAAAAAAAAAAAAAAAAAAAAAAAAAAAAAAAAAAAAAAAAAAAAAAAAAAAAAAAAAAAAAAAAAAAAAAAAAAAAAAAAAAAAAAAAAAAAAAAAAAAAAAAAAAAAAAAAAAAAAAAAAAAAAAAAAAAAAAAAAAAAAAAAAAAAAAAAAAAAAAAAAAAAAAAAAAAAAAAAAAAAAAAAAAAAAAAAAAAAAAAAAAAAAAAAAAAAAAAAAAAAAAAAAAAAAAAAAAAAAAAAAAAAAAAAAAAAAAAAAAAAAAAAAAAAAAAAAAAAAAAAAAAAAAAAAAAAAAAAAAAAAAAAAAAAAAAAAAAAAAAAAAAAAAAAAAAAAAAAAAAAAAAAAAAAAAAAAAAAAAAAAAAAAAAAAAAAAAAAAAAAAAAAAAAAAAAAAAAAAAAAAAAAAAAAAAAAAAAAAAAAAAAAAAAAAAAAAAAAAAAAAAAAAAAAAAAAAAAAAAAAAAAAAAAAAAAAAAAAAAAAAAAAAAAAAAAAAAAAAAAAAAAAAAAAAAAAAAAAAAAAAAAAAAAAAAAAAAAAAAAAAAAAAAAAAAAAAAAAAAAAAAAAAAAAAAAAAAAAAAAAAAAAAAAAAAAAAAAAAAAAAAAAAAAAAAAAAAAAAAAAAAAAAAAAAAAAAAAAAAAAAAAAAAAAAAAAAAAAAAAAAAAAAAAAAAAAAAAAAAAAAAAAAAAAAAAAAAAAAAAAAAAAAAAAAAAAAAAAAAAAAAAAAAAAAAAAAAAAAAAAAAAAAAAAAAAAAAAAAAAAAAAAAAAAAAAAAAAAAAAAAAAAAAAAAAAAAAAAAAAAAAAAAAAAAAAAAAAAAAAAAAAAAAAAAAAAAAAAAAAAAAAAAAAAAAAAAAAAAAAAAAAAAAAAAAAAAAAAAAAAAAAAAAAAAAAAAAAAAAAAAAAAAAAAAAAAAAAAAAAAAAAAAAAAAAAAAAAAAAAAAAAAAAAAAAAAAAAAAAAAAAAAAAAAAAAAAAAAAAAAAAAAAAAAAAAAAAAAAAAAAAAAAAAAAAAAAAAAAAAAAAAAAAAAAAAAAAAAAAAAAAAAAAAAAAAAAAAAAAAAAAAAAAAAAAAAAAAAAAAAAAAAAAAAAAAAAAAAAAAAAAAAAAAAAAAAAAAAAAAAAAAAAAAAAAAAAAAAAAAAAAAAAAAAAAAAAAAAAAAAAAAAAAAAAAAAAAAAAAAAAAAAAAAAAAAAAAAAAAAAAAAAAAAAAAAAAAAAAAAAAAAAAAAAAAAAAAAAAAAAAAAAAAAAAAAAAAAAAAAAAAAAAAAAAAAAAAAAAAAAAAAAAAAAAAAAAAAAAAAAAAAAAAAAAAAAAAAAAAAAAAAAAAAAAAAAAAAAAAAAAAAAAAAAAAAAAAAAAAAAAAAAAAAAAAAAAAAAAAAAAAAAAAAAAAAAAAAAAAAAAAAAAAAAAAAAAAAAAAAAAAAAAAAAAAAAAAAAAAAAAAAAAAAAAAAAAAAAAAAAAAAAAAAAAAAAAyMDE5OjAzOjIxIDEyOjAyOjA5ADIwMTk6MDM6MjEgMTI6MDI6MDkAAABEAGEAbgBpAGUAbAAgAEIAdQByAHIAdQBlAGMAbwAgAEQAZQBsACAAUgDtAG8AAAD/4QsraHR0cDovL25zLmFkb2JlLmNvbS94YXAvMS4wLwA8P3hwYWNrZXQgYmVnaW49J++7vycgaWQ9J1c1TTBNcENlaGlIenJlU3pOVGN6a2M5ZCc/Pg0KPHg6eG1wbWV0YSB4bWxuczp4PSJhZG9iZTpuczptZXRhLyI+PHJkZjpSREYgeG1sbnM6cmRmPSJodHRwOi8vd3d3LnczLm9yZy8xOTk5LzAyLzIyLXJkZi1zeW50YXgtbnMjIj48cmRmOkRlc2NyaXB0aW9uIHJkZjphYm91dD0idXVpZDpmYWY1YmRkNS1iYTNkLTExZGEtYWQzMS1kMzNkNzUxODJmMWIiIHhtbG5zOmRjPSJodHRwOi8vcHVybC5vcmcvZGMvZWxlbWVudHMvMS4xLyIvPjxyZGY6RGVzY3JpcHRpb24gcmRmOmFib3V0PSJ1dWlkOmZhZjViZGQ1LWJhM2QtMTFkYS1hZDMxLWQzM2Q3NTE4MmYxYiIgeG1sbnM6eG1wPSJodHRwOi8vbnMuYWRvYmUuY29tL3hhcC8xLjAvIj48eG1wOkNyZWF0ZURhdGU+MjAxOS0wMy0yMVQxMjowMjowOS40NDM8L3htcDpDcmVhdGVEYXRlPjwvcmRmOkRlc2NyaXB0aW9uPjxyZGY6RGVzY3JpcHRpb24gcmRmOmFib3V0PSJ1dWlkOmZhZjViZGQ1LWJhM2QtMTFkYS1hZDMxLWQzM2Q3NTE4MmYxYiIgeG1sbnM6ZGM9Imh0dHA6Ly9wdXJsLm9yZy9kYy9lbGVtZW50cy8xLjEvIj48ZGM6Y3JlYXRvcj48cmRmOlNlcSB4bWxuczpyZGY9Imh0dHA6Ly93d3cudzMub3JnLzE5OTkvMDIvMjItcmRmLXN5bnRheC1ucyMiPjxyZGY6bGk+RGFuaWVsIEJ1cnJ1ZWNvIERlbCBSw61vPC9yZGY6bGk+PC9yZGY6U2VxPg0KCQkJPC9kYzpjcmVhdG9yPjwvcmRmOkRlc2NyaXB0aW9uPjwvcmRmOlJERj48L3g6eG1wbWV0YT4NCiAgICAgICAgICAgICAgICAgICAgICAgICAgICAgICAgICAgICAgICAgICAgICAgICAgICAgICAgICAgICAgICAgICAgICAgICAgICAgICAgICAgICAgICAgICAgICAgICAgICAKICAgICAgICAgICAgICAgICAgICAgICAgICAgICAgICAgICAgICAgICAgICAgICAgICAgICAgICAgICAgICAgICAgICAgICAgICAgICAgICAgICAgICAgICAgICAgICAgICAgIAogICAgICAgICAgICAgICAgICAgICAgICAgICAgICAgICAgICAgICAgICAgICAgICAgICAgICAgICAgICAgICAgICAgICAgICAgICAgICAgICAgICAgICAgICAgICAgICAgICAgCiAgICAgICAgICAgICAgICAgICAgICAgICAgICAgICAgICAgICAgICAgICAgICAgICAgICAgICAgICAgICAgICAgICAgICAgICAgICAgICAgICAgICAgICAgICAgICAgICAgICAKICAgICAgICAgICAgICAgICAgICAgICAgICAgICAgICAgICAgICAgICAgICAgICAgICAgICAgICAgICAgICAgICAgICAgICAgICAgICAgICAgICAgICAgICAgICAgICAgICAgIAogICAgICAgICAgICAgICAgICAgICAgICAgICAgICAgICAgICAgICAgICAgICAgICAgICAgICAgICAgICAgICAgICAgICAgICAgICAgICAgICAgICAgICAgICAgICAgICAgICAgCiAgICAgICAgICAgICAgICAgICAgICAgICAgICAgICAgICAgICAgICAgICAgICAgICAgICAgICAgICAgICAgICAgICAgICAgICAgICAgICAgICAgICAgICAgICAgICAgICAgICAKICAgICAgICAgICAgICAgICAgICAgICAgICAgICAgICAgICAgICAgICAgICAgICAgICAgICAgICAgICAgICAgICAgICAgICAgICAgICAgICAgICAgICAgICAgICAgICAgICAgIAogICAgICAgICAgICAgICAgICAgICAgICAgICAgICAgICAgICAgICAgICAgICAgICAgICAgICAgICAgICAgICAgICAgICAgICAgICAgICAgICAgICAgICAgICAgICAgICAgICAgCiAgICAgICAgICAgICAgICAgICAgICAgICAgICAgICAgICAgICAgICAgICAgICAgICAgICAgICAgICAgICAgICAgICAgICAgICAgICAgICAgICAgICAgICAgICAgICAgICAgICAKICAgICAgICAgICAgICAgICAgICAgICAgICAgICAgICAgICAgICAgICAgICAgICAgICAgICAgICAgICAgICAgICAgICAgICAgICAgICAgICAgICAgICAgICAgICAgICAgICAgIAogICAgICAgICAgICAgICAgICAgICAgICAgICAgICAgICAgICAgICAgICAgICAgICAgICAgICAgICAgICAgICAgICAgICAgICAgICAgICAgICAgICAgICAgICAgICAgICAgICAgCiAgICAgICAgICAgICAgICAgICAgICAgICAgICAgICAgICAgICAgICAgICAgICAgICAgICAgICAgICAgICAgICAgICAgICAgICAgICAgICAgICAgICAgICAgICAgICAgICAgICAKICAgICAgICAgICAgICAgICAgICAgICAgICAgICAgICAgICAgICAgICAgICAgICAgICAgICAgICAgICAgICAgICAgICAgICAgICAgICAgICAgICAgICAgICAgICAgICAgICAgIAogICAgICAgICAgICAgICAgICAgICAgICAgICAgICAgICAgICAgICAgICAgICAgICAgICAgICAgICAgICAgICAgICAgICAgICAgICAgICAgICAgICAgICAgICAgICAgICAgICAgCiAgICAgICAgICAgICAgICAgICAgICAgICAgICAgICAgICAgICAgICAgICAgICAgICAgICAgICAgICAgICAgICAgICAgICAgICAgICAgICAgICAgICAgICAgICAgICAgICAgICAKICAgICAgICAgICAgICAgICAgICAgICAgICAgICAgICAgICAgICAgICAgICAgICAgICAgICAgICAgICAgICAgICAgICAgICAgICAgICAgICAgICAgICAgICAgICAgICAgICAgIAogICAgICAgICAgICAgICAgICAgICAgICAgICAgICAgICAgICAgICAgICAgICAgICAgICAgICAgICAgICAgICAgICAgICAgICAgICAgICAgICAgICAgICAgICAgICAgICAgICAgCiAgICAgICAgICAgICAgICAgICAgICAgICAgICAgICAgICAgICAgICAgICAgICAgICAgICAgICAgICAgICAgICAgICAgICAgICAgICAgICAgICAgICAgICAgICAgICAgICAgICAKICAgICAgICAgICAgICAgICAgICAgICAgICAgICAgICAgICAgICAgICAgICAgICAgICAgICAgICAgICAgICAgICAgICAgICAgICAgICAgICAgICAgICAgICAgICAgICAgICAgIAogICAgICAgICAgICAgICAgICAgICAgICAgICAgPD94cGFja2V0IGVuZD0ndyc/Pv/bAEMABwUFBgUEBwYFBggHBwgKEQsKCQkKFQ8QDBEYFRoZGBUYFxseJyEbHSUdFxgiLiIlKCkrLCsaIC8zLyoyJyorKv/bAEMBBwgICgkKFAsLFCocGBwqKioqKioqKioqKioqKioqKioqKioqKioqKioqKioqKioqKioqKioqKioqKioqKioqKv/AABEIAFEBPAMBIgACEQEDEQH/xAAfAAABBQEBAQEBAQAAAAAAAAAAAQIDBAUGBwgJCgv/xAC1EAACAQMDAgQDBQUEBAAAAX0BAgMABBEFEiExQQYTUWEHInEUMoGRoQgjQrHBFVLR8CQzYnKCCQoWFxgZGiUmJygpKjQ1Njc4OTpDREVGR0hJSlNUVVZXWFlaY2RlZmdoaWpzdHV2d3h5eoOEhYaHiImKkpOUlZaXmJmaoqOkpaanqKmqsrO0tba3uLm6wsPExcbHyMnK0tPU1dbX2Nna4eLj5OXm5+jp6vHy8/T19vf4+fr/xAAfAQADAQEBAQEBAQEBAAAAAAAAAQIDBAUGBwgJCgv/xAC1EQACAQIEBAMEBwUEBAABAncAAQIDEQQFITEGEkFRB2FxEyIygQgUQpGhscEJIzNS8BVictEKFiQ04SXxFxgZGiYnKCkqNTY3ODk6Q0RFRkdISUpTVFVWV1hZWmNkZWZnaGlqc3R1dnd4eXqCg4SFhoeIiYqSk5SVlpeYmZqio6Slpqeoqaqys7S1tre4ubrCw8TFxsfIycrS09TV1tfY2dri4+Tl5ufo6ery8/T19vf4+fr/2gAMAwEAAhEDEQA/APpGiiigAooooAKKKKACiiigAooooAKKKKACiiuY8aWmoX0mh2+l3Go2zy6iqyzWTsoiiCM7s+OMEJsG7I3SDgnGADp6K5nwCbweHJY9QXUFljvroKNQMjSLGZnMahpDucBCo3HIOOCRXTUAFFFFABRRRQAUUUUAFFFFABRRRQAUUUUAFFFFABVS91XTtNeFNRv7W0afd5SzzKhk2rubbk84AJOOg5q3XFeOLa/vvEnhq30zSYL5op5bx3uxIkAMcZVFeVI32nMpdQQATHjINAHXWV7a6lZRXmnXMN3bTLujngkDo49Qw4IqesfwroZ8OeG7fTpJlnlV5ZppFXarSyyNK5Udl3O2B2GK2KACiiigAooooAKKKKACiiigAorD8TeKE8Mrp+7TL7UZNRuhaQRWXlbjIVZgD5kiDGEY5zxjmqsPjzSzoeralfQXmnnR5fJvbW4jBmjkKqyqAjMrFg6Y2sQdwoA6aiucj8YxxWWpXmt6LquiW2nW32qWa+jjKtH8xO0xO4LDacrwwyOORVjRvEc2r3hgm8P6vpimHzo572OLy5FyBgFJGKtznawU47UAbdFFFABRRRQAUUUUAYni+48QWnhW9ufCEFpc6tCnmQ292jMk2OSg2sp3EdOcZxXI+A/E/inx74Vh1iw1/QIJMmK6tH0OYvbTD70bf6WPqDgZBBwOlek14/4ws5/hV46/4T/RoWbw/qjrD4is4lz5ZJwtyoHfJ59z/tEgA6fxPcfEDQfC2patZap4dvpbG3e4+zNo88XmBBuYBvtTYOAcccn0611+l3T32j2d3KFEk8CSMFHALKCce3NSWl3b39nDd2UyT288ayRSxtlXUjIIPcEVR1nW10uWztYIGu9QvpCltbK23dgZZ2bnaijknB6gAEkAgGpRSLnaNwAOOQDmloAKKKKACisfxJ4hXQLW18u3+13t/cpaWdt5gTzZWyeWwdqhQzE4OApwCcA0JfEWqqul6dJpkFpr2pGUm3Nx58NtFG2GmLAKXXBTAAUkyKDt5IAOnopFztG4gnHJAxUV2LlrWQWLxR3GP3bTIXQH3AIP60ATUVzth4lutR0C4u7XS/Nv7G4e2vbBZgGSRPvBGIw2RhlztyGBJWq2t32ma/4YsL+3v9Sa3vRmzg0y5e2lu3ZTtTcuHBGCTyANpLcA0AdXRWZ4churfwxpsGo6gupXcVsiT3idJ3CgMw+pzUsuqwQ6/aaQySG4urWe6RgBsCxNErAnOc5mXHHY9OMgF6iisXxNrd5oNlFeW2nJeW6yKLp2uPKMSF1XKjad7fNnbwMKeQcAgGV8Tda8U+HPB02seDbSyvZ7M+Zc291E7loQPmZArryOuPQGq3hvVPE/ivw7Z61o3ifw/LaXcYdD/YM2VPQqw+2cMDkEeoruCMjB5FeNEf8ACk/iHvH7vwL4luPm7Jpd4f0CNj8AP9nkA6bxXqfjzwto8eqJf+H9ShS6giuIRpU8DCOSRULK32lwSNw4I6Z9MHv6AcjI5FVdT1K10fSbvUtQkEVrZwvPM5/hRRkn8hQBaqjqet6VoqRvrOp2enrM2yNru4WIO3oNxGT7Vg6J4w1C/wDENnpmq6ENOOoWMl/a4u/NkSNGRSJk2ARsfMXGGcdRniofH1zaCFNOuNLvJzqNvLbz31tpU12YLc43oDEjEM/GAcDjcc7QCAdkDkZHIoqvpyxrpdqsEMkEQhQJFKMMg2jCkeo6GrFABRRRQAUUUUAeeeLbXUPEPxQ0LTLObVdLg020ubxdUt7DzIhcsojRN8kbR5CGUnPrgEE1W0AWFr8OI7fxZ4e1i5uNYlkTWx/Z9xcO9wBhpGCrv2HaoQoCANuMAZHplFAHnuhzTaZ4Ju7XxRp+s6po91fyWtnFNZyXNytk0fBnjAMhG4OvILYKZHXFTRdV1Xwf4fvpYNP1C+0X+1Le30mDUpGiulhl8tCoEg3nErkIr4OAckACvTaq32m2mpC3F7F5otp0uIgWI2yL91uDzjrg8UAc2/iTVIdcsbfWrFNLhS3vL66MN6syiGEqg3Zi6N5quMMrAqRyAQaOkeKda1bxfBNewrpWix6O1/JbmdZXYO6+U0g8sGNtqykqrsDgdwa6m/8ADmlapqCXt/a+dOtu9tzIwVon+8rIDtb8QcdsVkP4A0u1spxoO+wvpLVbVbqeSW6/dqSQHWR/nwGdck7grEAgUAZg+Jj2sE9/rWjrY6YmlnVIpftgeYxFlWNZIyoVGfccDeQNpyRWz4M8VTeK7W8nksYbeO3mEcU9rdfaYbhSitlJNqhsFtpxlcg4Y1n+H/htY6Zp2o22ryrqJ1CGK2k2CWNUii3GNVLyvICCxIYyEjCgYCgDqdM0u00i0+z2KOqFtzvLK8skjYA3M7ksxwAMkk4AoA5jxN4F/wCEg1k332TwnLlFTdqvh37ZNx/0085OPQY4q94R8K/8Iz9s/wBH8Pw/aNn/ACBdG+wZ27vv/vX3/e46Y56546SigArmfHerx2Wg/wBmRWcWo6jrO6ysrCUZSZmHzFx/zzVcsx9B6kVu6lqNppGl3Oo6lOtvaWsbSzSueEUDJNcx4P0+71XUJvGWvwPBeX0fl6faSj5rG0zkKR2kfh3/AOAr/DQBq+DvDMHg7wfpugWksk0djFs8yQkl2JLMfYbicDsMDtWZefu/jJpTzqdkuiXcdu5PG8TQF1HuV2n6Ka6TVNSttH0m71K/kEdtaQtNK5I4VRk9fpVGS1sfFei6dflZ7dmWO8tJlwk1uzLkEHkA7WII5BBIOQaAOT8SaQbH4iWz6RarLJ4i0y7sr1WG9SwaMpNICeVRWkGPQhR1FbnhZP7P1W98PWUJg0rQrW1tbULOriQlNxLDywyuBt/jYEMDgHNbVho1nptxcXFusj3Fy2ZZp5nlduSdoLE7VBJwgwozwBSWuiWFlrF7qltCyXd+VNw/mMQ5VVQHaTtB2ooJAGdoznAoAr6ro19qN0stn4l1TSkVAphs47VkY5J3HzYXbPOODjgcdcv0nSb3TZZGvPEOpasHUBUvI7ZQnuPKhQ5+pNalFAHAeJ9F0rxT8WdC07U9Ksr6LTdOuL64+026Sgh2EUSHcDxkytjplAeorRvlFj8XNGnlRVt7vSbmygfpiVZIpNg/3kVj/wBsz6Vv2OiWGnahe39rCwu75g1xNJK8jPjO1QWJ2qMnCjCjJwKm1DTrTVbX7NfwiaPcHHJBVgchlYcqwPIIIIoA898YWa3HjTTdXs9F1SWC3uGstXuIIJRJPDImBGq43PEHSMsV+TDNgnLkdTo11IPE95o9tZLYabpdjbiGGF08vMm75NgQbGQRgYVyuHHHp0KjaoAzgDHJzWY/hzTH1C+vvJlS5v41juHjuJE3hQAMAMApwACRgkAA5xQBheAkaXU/F2pISbW91t/s7dnEcMULMPbfG4/4DWd4C8P6T4g8BRf2/pVjqlt/aV/PZreWyTKsb3UpVlDA4BHIx2IrsrnRbabRV0m3aSxswgi8uzIi/d4xsBAyoxxlcEdiKt2trBZWkNrZwpBbwoI4oo1wqKBgADsAKAG21nb2VjHZ2EMdpbxII4o4ECLEoGAFUDAA9MYrgrzw5qg+JOjRHxprjO2k37CYw2O9AJrMFR/o23B3AnIJ+UYI5z6JRQBFaQvb2cUM1zLdyRqFaeYKHkP94hFVcn2AHtXn3jmLUvEk15bixv10TRGiuJEjhcSalOGVgqKBl40Xn5c7n2gfdOfRqKAI7eb7RbRzeXJF5ihtkq7WXPYjsfauL+JJi1/T08D28EV1fa4pD+Yu5bO3UjfcMOxHAT1cr6Guk8R6/aeGdBuNUv8AeyRAKkUY3STSMcJGg7szEAD3rN8G6Dd2MNzrPiDY+vaswluyp3LboP8AV26H+4gOPdizd6ANzTNPh0nSbTTrUuYLOBIIzIxZtqKFGSepwOtcr8UrkDwpb6aY5Zf7V1C3tHjhjMjtFv8AMm2qOWPlRycDmug8R+ILLwvoU+ramX8iEqu2MAu7MwVVUEjJJI71ZutLs72/sry5h8y4sHaS2csR5bMhQnAOCdrMOfU0AcNot1Jpd1418Twabcx6cIFuLaTV1kgmmdEkeUZkUypCMqFDLhfn2rjFdvorXD6FYvfNI1y9ujS+aVLBioJBKqoJB4yFX6CqfifQpvEeljTPtiW1jOwF6nkb3niyCY1bcAmcYJIbgnAB5rZoAKKKKACiiigAooooAKKKKACiiigAooooAKKKKACiiigDnvHWk6Nq/g2/i8S2M2oabBGbma1gnaJpBGN2Mh0z0zgsBkCvNh8G/AsGm6fJ/wAK21LVpbi2SWWSyvvIVGIyVKTXoKn2BYD+8a9c1vSYNf0C/wBIvHljt763e3laIgMFdSpxkEdD3BFUrzwfoGqpAdf0ix1qeCPy1udStIppCM56leMkk4AA54AoA8r1n4O+B7LRtO1CHwILPz9Qtba5t7/VJzLEst1HDwIpmQnD7gd/HGQeQPa7e3jtbWK3t12RQoERck4UDAGT7Vz2seB7HUtEs9I027uPD9hZzpcR2+kRQRIXSQSocNGwGJFDYGMnrmuihjaK3jjeV5mRQrSyABnIH3jtAGT14AHtQA+iiigAooooAKKKKACiiigAooooAKKKKACiiigDmvHPhLw94r0MjxVpsupW1gHuUt47l4dzBT/ddATjIG44Geo5rza2+EfgN9F028i+Guqap9utUuS9pfeQI94yEZJb0EMARnBYe/avUvF2m6nrXh240nSngh/tBGtri4llZWghcEOyAKdz4JABKjnOeMGTUfCPhvWGhbWNA0vUGgjEUTXdnHMUQdFBYEge1AHluofCbwZo1jpGtWHgYWEp1Oziliv9TnaWESXccIIWOZ0J+fcPnIHGQeQPaq5rWPA9jqWiWekabd3Hh+ws50uI7fSIoIkLpIJUOGjYDEihsDGT1zXRQxtFbxxvK8zIoVpZAAzkD7x2gDJ68AD2oAfRRRQAUUUUAFFFFABRRRQAUUUUAFFFFABRRRQAUUUUAFFFFABRRRQAUUUUAFFFFABRRRQAUUUUAFFFFABRRRQAUUUUAFFFFABRRRQAUUUUAFFFFABRRRQAUUUUAFFFFABRRRQAUUUUAFFFFABRRRQAUUUUAFFFFABRRRQAUUUUAFFFFABRRRQAUUUUAFFFFABRRRQAUUUUAFFFFABRRRQAUUUUAFFFFABRRRQB/9k=)\n",
        "\n",
        "\n",
        "donde λ es un parámetro que controla el grado de penalización: cuanto mayor éste, los coeficientes serán menores resultando más robustos a la colinealidad. Cuando λ es igual a cero, Ridge es equivalente a la regresión lineal."
      ],
      "metadata": {
        "id": "0iYwzCGPqHqu"
      }
    },
    {
      "cell_type": "code",
      "execution_count": null,
      "metadata": {
        "id": "2Okx-Pvk_ZRF",
        "colab": {
          "base_uri": "https://localhost:8080/",
          "height": 244
        },
        "outputId": "49b41999-0b72-4314-ad01-4dd0c2122f5c"
      },
      "outputs": [
        {
          "output_type": "stream",
          "name": "stdout",
          "text": [
            "----------------------------------------\n",
            "Mejores hiperparámetros encontrados (cv)\n",
            "----------------------------------------\n",
            "{'alpha': 10.0} : -40.04716225632861 neg_root_mean_squared_error\n"
          ]
        },
        {
          "output_type": "execute_result",
          "data": {
            "text/plain": [
              "   param_alpha  mean_test_score  std_test_score  mean_train_score  \\\n",
              "24        10.0       -40.047162        5.271292        -40.165433   \n",
              "23    3.480701       -40.047596        5.270013        -40.165410   \n",
              "22    1.211528       -40.047752        5.269565        -40.165407   \n",
              "21    0.421697       -40.047808        5.269409        -40.165407   \n",
              "\n",
              "    std_train_score  \n",
              "24         0.587423  \n",
              "23         0.587423  \n",
              "22         0.587423  \n",
              "21         0.587423  "
            ],
            "text/html": [
              "\n",
              "  <div id=\"df-5b91ef52-ad46-438a-b1e4-9db9662e4da4\">\n",
              "    <div class=\"colab-df-container\">\n",
              "      <div>\n",
              "<style scoped>\n",
              "    .dataframe tbody tr th:only-of-type {\n",
              "        vertical-align: middle;\n",
              "    }\n",
              "\n",
              "    .dataframe tbody tr th {\n",
              "        vertical-align: top;\n",
              "    }\n",
              "\n",
              "    .dataframe thead th {\n",
              "        text-align: right;\n",
              "    }\n",
              "</style>\n",
              "<table border=\"1\" class=\"dataframe\">\n",
              "  <thead>\n",
              "    <tr style=\"text-align: right;\">\n",
              "      <th></th>\n",
              "      <th>param_alpha</th>\n",
              "      <th>mean_test_score</th>\n",
              "      <th>std_test_score</th>\n",
              "      <th>mean_train_score</th>\n",
              "      <th>std_train_score</th>\n",
              "    </tr>\n",
              "  </thead>\n",
              "  <tbody>\n",
              "    <tr>\n",
              "      <th>24</th>\n",
              "      <td>10.0</td>\n",
              "      <td>-40.047162</td>\n",
              "      <td>5.271292</td>\n",
              "      <td>-40.165433</td>\n",
              "      <td>0.587423</td>\n",
              "    </tr>\n",
              "    <tr>\n",
              "      <th>23</th>\n",
              "      <td>3.480701</td>\n",
              "      <td>-40.047596</td>\n",
              "      <td>5.270013</td>\n",
              "      <td>-40.165410</td>\n",
              "      <td>0.587423</td>\n",
              "    </tr>\n",
              "    <tr>\n",
              "      <th>22</th>\n",
              "      <td>1.211528</td>\n",
              "      <td>-40.047752</td>\n",
              "      <td>5.269565</td>\n",
              "      <td>-40.165407</td>\n",
              "      <td>0.587423</td>\n",
              "    </tr>\n",
              "    <tr>\n",
              "      <th>21</th>\n",
              "      <td>0.421697</td>\n",
              "      <td>-40.047808</td>\n",
              "      <td>5.269409</td>\n",
              "      <td>-40.165407</td>\n",
              "      <td>0.587423</td>\n",
              "    </tr>\n",
              "  </tbody>\n",
              "</table>\n",
              "</div>\n",
              "      <button class=\"colab-df-convert\" onclick=\"convertToInteractive('df-5b91ef52-ad46-438a-b1e4-9db9662e4da4')\"\n",
              "              title=\"Convert this dataframe to an interactive table.\"\n",
              "              style=\"display:none;\">\n",
              "        \n",
              "  <svg xmlns=\"http://www.w3.org/2000/svg\" height=\"24px\"viewBox=\"0 0 24 24\"\n",
              "       width=\"24px\">\n",
              "    <path d=\"M0 0h24v24H0V0z\" fill=\"none\"/>\n",
              "    <path d=\"M18.56 5.44l.94 2.06.94-2.06 2.06-.94-2.06-.94-.94-2.06-.94 2.06-2.06.94zm-11 1L8.5 8.5l.94-2.06 2.06-.94-2.06-.94L8.5 2.5l-.94 2.06-2.06.94zm10 10l.94 2.06.94-2.06 2.06-.94-2.06-.94-.94-2.06-.94 2.06-2.06.94z\"/><path d=\"M17.41 7.96l-1.37-1.37c-.4-.4-.92-.59-1.43-.59-.52 0-1.04.2-1.43.59L10.3 9.45l-7.72 7.72c-.78.78-.78 2.05 0 2.83L4 21.41c.39.39.9.59 1.41.59.51 0 1.02-.2 1.41-.59l7.78-7.78 2.81-2.81c.8-.78.8-2.07 0-2.86zM5.41 20L4 18.59l7.72-7.72 1.47 1.35L5.41 20z\"/>\n",
              "  </svg>\n",
              "      </button>\n",
              "      \n",
              "  <style>\n",
              "    .colab-df-container {\n",
              "      display:flex;\n",
              "      flex-wrap:wrap;\n",
              "      gap: 12px;\n",
              "    }\n",
              "\n",
              "    .colab-df-convert {\n",
              "      background-color: #E8F0FE;\n",
              "      border: none;\n",
              "      border-radius: 50%;\n",
              "      cursor: pointer;\n",
              "      display: none;\n",
              "      fill: #1967D2;\n",
              "      height: 32px;\n",
              "      padding: 0 0 0 0;\n",
              "      width: 32px;\n",
              "    }\n",
              "\n",
              "    .colab-df-convert:hover {\n",
              "      background-color: #E2EBFA;\n",
              "      box-shadow: 0px 1px 2px rgba(60, 64, 67, 0.3), 0px 1px 3px 1px rgba(60, 64, 67, 0.15);\n",
              "      fill: #174EA6;\n",
              "    }\n",
              "\n",
              "    [theme=dark] .colab-df-convert {\n",
              "      background-color: #3B4455;\n",
              "      fill: #D2E3FC;\n",
              "    }\n",
              "\n",
              "    [theme=dark] .colab-df-convert:hover {\n",
              "      background-color: #434B5C;\n",
              "      box-shadow: 0px 1px 3px 1px rgba(0, 0, 0, 0.15);\n",
              "      filter: drop-shadow(0px 1px 2px rgba(0, 0, 0, 0.3));\n",
              "      fill: #FFFFFF;\n",
              "    }\n",
              "  </style>\n",
              "\n",
              "      <script>\n",
              "        const buttonEl =\n",
              "          document.querySelector('#df-5b91ef52-ad46-438a-b1e4-9db9662e4da4 button.colab-df-convert');\n",
              "        buttonEl.style.display =\n",
              "          google.colab.kernel.accessAllowed ? 'block' : 'none';\n",
              "\n",
              "        async function convertToInteractive(key) {\n",
              "          const element = document.querySelector('#df-5b91ef52-ad46-438a-b1e4-9db9662e4da4');\n",
              "          const dataTable =\n",
              "            await google.colab.kernel.invokeFunction('convertToInteractive',\n",
              "                                                     [key], {});\n",
              "          if (!dataTable) return;\n",
              "\n",
              "          const docLinkHtml = 'Like what you see? Visit the ' +\n",
              "            '<a target=\"_blank\" href=https://colab.research.google.com/notebooks/data_table.ipynb>data table notebook</a>'\n",
              "            + ' to learn more about interactive tables.';\n",
              "          element.innerHTML = '';\n",
              "          dataTable['output_type'] = 'display_data';\n",
              "          await google.colab.output.renderOutput(dataTable, element);\n",
              "          const docLink = document.createElement('div');\n",
              "          docLink.innerHTML = docLinkHtml;\n",
              "          element.appendChild(docLink);\n",
              "        }\n",
              "      </script>\n",
              "    </div>\n",
              "  </div>\n",
              "  "
            ]
          },
          "metadata": {},
          "execution_count": 17
        }
      ],
      "source": [
        "# alpha seria el hiperparametro lambda\n",
        "n_alphas = 25\n",
        "alphas = np.logspace(-10, 1, n_alphas)\n",
        "grid = GridSearchCV(Ridge(),param_grid = {'alpha': alphas}, \n",
        "        scoring='neg_root_mean_squared_error',\n",
        "        n_jobs= multiprocessing.cpu_count() - 1,\n",
        "        cv= RepeatedKFold(n_splits=10, n_repeats=7, random_state=123), \n",
        "        refit=True,verbose= 0,return_train_score = True)\n",
        "grid.fit(X_train_sc, y_train_sc)\n",
        "\n",
        "# Mejores hiperparámetros por validación cruzada\n",
        "# ==============================================================================\n",
        "print(\"----------------------------------------\")\n",
        "print(\"Mejores hiperparámetros encontrados (cv)\")\n",
        "print(\"----------------------------------------\")\n",
        "print(grid.best_params_, \":\", grid.best_score_, grid.scoring)\n",
        "resultados = pd.DataFrame(grid.cv_results_)\n",
        "resultados.filter(regex = '(param.*|mean_t|std_t)') \\\n",
        "    .drop(columns = 'params') \\\n",
        "    .sort_values('mean_test_score', ascending = False) \\\n",
        "    .head(4)"
      ]
    },
    {
      "cell_type": "code",
      "execution_count": null,
      "metadata": {
        "id": "nTWz5GeXZMl5",
        "colab": {
          "base_uri": "https://localhost:8080/"
        },
        "outputId": "22bcc3a5-3718-427e-bf23-b2af441c1a6d"
      },
      "outputs": [
        {
          "output_type": "stream",
          "name": "stdout",
          "text": [
            "Coefficients: \n",
            " [-1.1419663   0.28766537  3.4447301  -0.85249808 -1.04762412  0.85487836\n",
            " 11.26129101  3.64263872  5.5620836  -1.59164177  0.49368048  3.78930891\n",
            "  0.4910015  -3.72356686 -0.35690081 10.35290143 -2.9543792   1.00588054\n",
            "  4.10610983 -5.60552918 -1.87080804 -3.79384347  2.30810839  0.429742\n",
            "  1.89854037 -0.65145305 -3.18152196  3.83500689  0.21585055 14.44767411\n",
            " -0.28666198  0.76719603  1.44649318  1.72625613  0.8531936   2.27480394\n",
            " -0.58829419]\n",
            "Independent term: \n",
            " 61.533090059316315\n",
            "RMSE: 42.51\n",
            "MSE: 1806.93\n",
            "Variance score: 0.30\n",
            "MAE: 21.09\n"
          ]
        }
      ],
      "source": [
        "modelo_ridge= grid.best_estimator_\n",
        "y_pred= modelo_ridge.predict(X = X_test_sc)\n",
        "# Veamos los coeficientes obtenidos\n",
        "print('Coefficients: \\n', modelo_ridge.coef_)\n",
        "# Termino independiente\n",
        "print('Independent term: \\n', modelo_ridge.intercept_)\n",
        "# Error Cuadrado Medio\n",
        "print(\"RMSE: %.2f\" % np.sqrt(mean_squared_error(y_test_sc, y_pred)))\n",
        "print(\"MSE: %.2f\" % mean_squared_error(y_test_sc, y_pred))\n",
        "# Porcentaje de varianza representada\n",
        "print('Variance score: %.2f' % r2_score(y_test_sc, y_pred))\n",
        "# Error medio absoluto\n",
        "print('MAE: %.2f' % mean_absolute_error(y_test_sc, y_pred))"
      ]
    },
    {
      "cell_type": "code",
      "source": [
        "w=modelo_ridge.coef_\n",
        "plt.figure(figsize=(10,6))\n",
        "ax = plt.gca()\n",
        "plt.bar([x for x in range(len(w))], w,align=\"center\")\n",
        "plt.xticks(range(len(w)),feature_names, rotation = 90)\n",
        "labels = ax.get_xticklabels()\n",
        "for label, wi in zip(labels, w):\n",
        "  if wi == 0:\n",
        "    label.set_color('r')\n",
        "plt.xlabel('Features')\n",
        "plt.ylabel('Coefficients')\n",
        "plt.title('Ridge Regression for Features Selection')\n",
        "plt.show()"
      ],
      "metadata": {
        "id": "KqojEHfimqII",
        "colab": {
          "base_uri": "https://localhost:8080/",
          "height": 748
        },
        "outputId": "641d999c-b87b-4418-a274-58f671804e31"
      },
      "execution_count": null,
      "outputs": [
        {
          "output_type": "display_data",
          "data": {
            "text/plain": [
              "<Figure size 1000x600 with 1 Axes>"
            ],
            "image/png": "[encoded data removed]"
          },
          "metadata": {}
        }
      ]
    },
    {
      "cell_type": "code",
      "execution_count": null,
      "metadata": {
        "id": "BleiGoccbeQq"
      },
      "outputs": [],
      "source": [
        "vector_rmse.append(np.sqrt(mean_squared_error(y_test_sc, y_pred)))\n",
        "vector_mse.append(mean_squared_error(y_test_sc, y_pred))\n",
        "vector_mae.append(mean_absolute_error(y_test_sc, y_pred))\n",
        "vector_r2_score.append(r2_score(y_test_sc, y_pred))"
      ]
    },
    {
      "cell_type": "markdown",
      "metadata": {
        "id": "sztv7EO-RMCk"
      },
      "source": [
        "## 1.3 Regresion Multiple"
      ]
    },
    {
      "cell_type": "markdown",
      "source": [
        "A diferencia de los modelos anteriores, aquí se realiza el ajuste por mínimos cuadrados sin incorporar ninguna penalización a dicho ajuste. "
      ],
      "metadata": {
        "id": "Ykoz5h9Ts_fc"
      }
    },
    {
      "cell_type": "code",
      "execution_count": null,
      "metadata": {
        "id": "9KfRbaImn-FE"
      },
      "outputs": [],
      "source": [
        "from sklearn import linear_model\n",
        "from sklearn.feature_selection import RFE\n",
        "regr = LinearRegression()"
      ]
    },
    {
      "cell_type": "code",
      "execution_count": null,
      "metadata": {
        "id": "B8Rq601siSHO",
        "colab": {
          "base_uri": "https://localhost:8080/",
          "height": 244
        },
        "outputId": "e470c582-9999-4afa-dde2-fa8798a3360c"
      },
      "outputs": [
        {
          "output_type": "stream",
          "name": "stdout",
          "text": [
            "----------------------------------------\n",
            "Mejores hiperparámetros encontrados (cv)\n",
            "----------------------------------------\n",
            "{'n_features_to_select': 37} : -40.04783732019752 neg_root_mean_squared_error\n"
          ]
        },
        {
          "output_type": "execute_result",
          "data": {
            "text/plain": [
              "   param_n_features_to_select  mean_test_score  std_test_score  \\\n",
              "36                         37       -40.047837        5.269326   \n",
              "35                         36       -40.050898        5.268544   \n",
              "34                         35       -40.054286        5.268703   \n",
              "33                         34       -40.056972        5.269014   \n",
              "\n",
              "    mean_train_score  std_train_score  \n",
              "36        -40.165407         0.587423  \n",
              "35        -40.165706         0.587458  \n",
              "34        -40.166390         0.587597  \n",
              "33        -40.167478         0.587803  "
            ],
            "text/html": [
              "\n",
              "  <div id=\"df-354796bd-85c8-4cdc-913c-fab815b4c9a9\">\n",
              "    <div class=\"colab-df-container\">\n",
              "      <div>\n",
              "<style scoped>\n",
              "    .dataframe tbody tr th:only-of-type {\n",
              "        vertical-align: middle;\n",
              "    }\n",
              "\n",
              "    .dataframe tbody tr th {\n",
              "        vertical-align: top;\n",
              "    }\n",
              "\n",
              "    .dataframe thead th {\n",
              "        text-align: right;\n",
              "    }\n",
              "</style>\n",
              "<table border=\"1\" class=\"dataframe\">\n",
              "  <thead>\n",
              "    <tr style=\"text-align: right;\">\n",
              "      <th></th>\n",
              "      <th>param_n_features_to_select</th>\n",
              "      <th>mean_test_score</th>\n",
              "      <th>std_test_score</th>\n",
              "      <th>mean_train_score</th>\n",
              "      <th>std_train_score</th>\n",
              "    </tr>\n",
              "  </thead>\n",
              "  <tbody>\n",
              "    <tr>\n",
              "      <th>36</th>\n",
              "      <td>37</td>\n",
              "      <td>-40.047837</td>\n",
              "      <td>5.269326</td>\n",
              "      <td>-40.165407</td>\n",
              "      <td>0.587423</td>\n",
              "    </tr>\n",
              "    <tr>\n",
              "      <th>35</th>\n",
              "      <td>36</td>\n",
              "      <td>-40.050898</td>\n",
              "      <td>5.268544</td>\n",
              "      <td>-40.165706</td>\n",
              "      <td>0.587458</td>\n",
              "    </tr>\n",
              "    <tr>\n",
              "      <th>34</th>\n",
              "      <td>35</td>\n",
              "      <td>-40.054286</td>\n",
              "      <td>5.268703</td>\n",
              "      <td>-40.166390</td>\n",
              "      <td>0.587597</td>\n",
              "    </tr>\n",
              "    <tr>\n",
              "      <th>33</th>\n",
              "      <td>34</td>\n",
              "      <td>-40.056972</td>\n",
              "      <td>5.269014</td>\n",
              "      <td>-40.167478</td>\n",
              "      <td>0.587803</td>\n",
              "    </tr>\n",
              "  </tbody>\n",
              "</table>\n",
              "</div>\n",
              "      <button class=\"colab-df-convert\" onclick=\"convertToInteractive('df-354796bd-85c8-4cdc-913c-fab815b4c9a9')\"\n",
              "              title=\"Convert this dataframe to an interactive table.\"\n",
              "              style=\"display:none;\">\n",
              "        \n",
              "  <svg xmlns=\"http://www.w3.org/2000/svg\" height=\"24px\"viewBox=\"0 0 24 24\"\n",
              "       width=\"24px\">\n",
              "    <path d=\"M0 0h24v24H0V0z\" fill=\"none\"/>\n",
              "    <path d=\"M18.56 5.44l.94 2.06.94-2.06 2.06-.94-2.06-.94-.94-2.06-.94 2.06-2.06.94zm-11 1L8.5 8.5l.94-2.06 2.06-.94-2.06-.94L8.5 2.5l-.94 2.06-2.06.94zm10 10l.94 2.06.94-2.06 2.06-.94-2.06-.94-.94-2.06-.94 2.06-2.06.94z\"/><path d=\"M17.41 7.96l-1.37-1.37c-.4-.4-.92-.59-1.43-.59-.52 0-1.04.2-1.43.59L10.3 9.45l-7.72 7.72c-.78.78-.78 2.05 0 2.83L4 21.41c.39.39.9.59 1.41.59.51 0 1.02-.2 1.41-.59l7.78-7.78 2.81-2.81c.8-.78.8-2.07 0-2.86zM5.41 20L4 18.59l7.72-7.72 1.47 1.35L5.41 20z\"/>\n",
              "  </svg>\n",
              "      </button>\n",
              "      \n",
              "  <style>\n",
              "    .colab-df-container {\n",
              "      display:flex;\n",
              "      flex-wrap:wrap;\n",
              "      gap: 12px;\n",
              "    }\n",
              "\n",
              "    .colab-df-convert {\n",
              "      background-color: #E8F0FE;\n",
              "      border: none;\n",
              "      border-radius: 50%;\n",
              "      cursor: pointer;\n",
              "      display: none;\n",
              "      fill: #1967D2;\n",
              "      height: 32px;\n",
              "      padding: 0 0 0 0;\n",
              "      width: 32px;\n",
              "    }\n",
              "\n",
              "    .colab-df-convert:hover {\n",
              "      background-color: #E2EBFA;\n",
              "      box-shadow: 0px 1px 2px rgba(60, 64, 67, 0.3), 0px 1px 3px 1px rgba(60, 64, 67, 0.15);\n",
              "      fill: #174EA6;\n",
              "    }\n",
              "\n",
              "    [theme=dark] .colab-df-convert {\n",
              "      background-color: #3B4455;\n",
              "      fill: #D2E3FC;\n",
              "    }\n",
              "\n",
              "    [theme=dark] .colab-df-convert:hover {\n",
              "      background-color: #434B5C;\n",
              "      box-shadow: 0px 1px 3px 1px rgba(0, 0, 0, 0.15);\n",
              "      filter: drop-shadow(0px 1px 2px rgba(0, 0, 0, 0.3));\n",
              "      fill: #FFFFFF;\n",
              "    }\n",
              "  </style>\n",
              "\n",
              "      <script>\n",
              "        const buttonEl =\n",
              "          document.querySelector('#df-354796bd-85c8-4cdc-913c-fab815b4c9a9 button.colab-df-convert');\n",
              "        buttonEl.style.display =\n",
              "          google.colab.kernel.accessAllowed ? 'block' : 'none';\n",
              "\n",
              "        async function convertToInteractive(key) {\n",
              "          const element = document.querySelector('#df-354796bd-85c8-4cdc-913c-fab815b4c9a9');\n",
              "          const dataTable =\n",
              "            await google.colab.kernel.invokeFunction('convertToInteractive',\n",
              "                                                     [key], {});\n",
              "          if (!dataTable) return;\n",
              "\n",
              "          const docLinkHtml = 'Like what you see? Visit the ' +\n",
              "            '<a target=\"_blank\" href=https://colab.research.google.com/notebooks/data_table.ipynb>data table notebook</a>'\n",
              "            + ' to learn more about interactive tables.';\n",
              "          element.innerHTML = '';\n",
              "          dataTable['output_type'] = 'display_data';\n",
              "          await google.colab.output.renderOutput(dataTable, element);\n",
              "          const docLink = document.createElement('div');\n",
              "          docLink.innerHTML = docLinkHtml;\n",
              "          element.appendChild(docLink);\n",
              "        }\n",
              "      </script>\n",
              "    </div>\n",
              "  </div>\n",
              "  "
            ]
          },
          "metadata": {},
          "execution_count": 22
        }
      ],
      "source": [
        "hyper_params = [{'n_features_to_select': list(range(1, 38))}]\n",
        "\n",
        "lm = LinearRegression()\n",
        "lm.fit(X_train_sc, y_train_sc)\n",
        "rfe = RFE(lm)             \n",
        "\n",
        "grid = GridSearchCV(estimator = rfe,\n",
        "                    param_grid = hyper_params,\n",
        "                    scoring= 'neg_root_mean_squared_error',\n",
        "                    n_jobs= multiprocessing.cpu_count() - 1,\n",
        "                    cv= RepeatedKFold(n_splits=10, n_repeats=7, random_state=123), \n",
        "                    refit=True,verbose= 0,return_train_score = True)\n",
        "grid.fit(X_train_sc, y_train_sc)\n",
        "\n",
        "# Mejores hiperparámetros por validación cruzada\n",
        "# ==============================================================================\n",
        "print(\"----------------------------------------\")\n",
        "print(\"Mejores hiperparámetros encontrados (cv)\")\n",
        "print(\"----------------------------------------\")\n",
        "print(grid.best_params_, \":\", grid.best_score_, grid.scoring)\n",
        "resultados = pd.DataFrame(grid.cv_results_)\n",
        "resultados.filter(regex = '(param.*|mean_t|std_t)') \\\n",
        "    .drop(columns = 'params') \\\n",
        "    .sort_values('mean_test_score', ascending = False) \\\n",
        "    .head(4)"
      ]
    },
    {
      "cell_type": "code",
      "execution_count": null,
      "metadata": {
        "id": "yh4LziKsoBTG"
      },
      "outputs": [],
      "source": [
        "regr= grid.best_estimator_\n",
        "y_pred= regr.predict(X = X_test_sc)"
      ]
    },
    {
      "cell_type": "code",
      "execution_count": null,
      "metadata": {
        "id": "HfBr760I1-JR",
        "colab": {
          "base_uri": "https://localhost:8080/"
        },
        "outputId": "904b838f-5e3d-4a3b-a5b9-31fb32fd1f51"
      },
      "outputs": [
        {
          "output_type": "stream",
          "name": "stdout",
          "text": [
            "Coefficients: \n",
            " [-1.14461268  0.28939951  3.44331897 -0.85563299 -1.05058235  0.85660377\n",
            " 11.28700337  3.65115581  5.5663521  -1.61834397  0.48993355  3.78716379\n",
            "  0.48541776 -3.72870294 -0.35809532 10.40554663 -3.00099357  1.01319832\n",
            "  4.11235378 -5.61281328 -1.87434302 -3.80172047  2.31206841  0.43036691\n",
            "  1.90718951 -0.65287934 -3.18481787  3.84040559  0.21756471 14.46749923\n",
            " -0.28393737  0.76831848  1.45076041  1.72571942  0.85300851  2.27726075\n",
            " -0.58689593]\n",
            "Independent term: \n",
            " 61.53292595344887\n",
            "RMSE: 42.51\n",
            "MSE: 1807.03\n",
            "Variance score: 0.30\n",
            "MAE: 21.10\n"
          ]
        }
      ],
      "source": [
        "# Veamos los coeficientes obtenidos\n",
        "print('Coefficients: \\n', regr.estimator_.coef_)\n",
        "# Termino independiente\n",
        "print('Independent term: \\n', regr.estimator_.intercept_)\n",
        "# Error Cuadrado Medio\n",
        "print(\"RMSE: %.2f\" % np.sqrt(mean_squared_error(y_test_sc, y_pred)))\n",
        "print(\"MSE: %.2f\" % mean_squared_error(y_test_sc, y_pred))\n",
        "# Porcentaje de varianza representada\n",
        "print('Variance score: %.2f' % r2_score(y_test_sc, y_pred))\n",
        "# Error medio absoluto\n",
        "print('MAE: %.2f' % mean_absolute_error(y_test_sc, y_pred))"
      ]
    },
    {
      "cell_type": "code",
      "source": [
        "w=regr.estimator_.coef_\n",
        "plt.figure(figsize=(10,6))\n",
        "ax = plt.gca()\n",
        "plt.bar([x for x in range(len(w))], w,align=\"center\")\n",
        "plt.xticks(range(len(w)),feature_names, rotation = 90)\n",
        "labels = ax.get_xticklabels()\n",
        "for label, wi in zip(labels, w):\n",
        "  if wi == 0:\n",
        "    label.set_color('r')\n",
        "plt.xlabel('Features')\n",
        "plt.ylabel('Coefficients')\n",
        "plt.title('Multiple Linear Regression for Features Selection')\n",
        "plt.show()"
      ],
      "metadata": {
        "id": "RNdbVtjinO1Q",
        "colab": {
          "base_uri": "https://localhost:8080/",
          "height": 748
        },
        "outputId": "7130c1ad-10ff-4dfa-fafe-3fe2333a36e5"
      },
      "execution_count": null,
      "outputs": [
        {
          "output_type": "display_data",
          "data": {
            "text/plain": [
              "<Figure size 1000x600 with 1 Axes>"
            ],
            "image/png": "[encoded data removed]"
          },
          "metadata": {}
        }
      ]
    },
    {
      "cell_type": "code",
      "execution_count": null,
      "metadata": {
        "id": "0L6mnco47Jac"
      },
      "outputs": [],
      "source": [
        "vector_rmse.append(np.sqrt(mean_squared_error(y_test_sc, y_pred)))\n",
        "vector_mse.append(mean_squared_error(y_test_sc, y_pred))\n",
        "vector_mae.append(mean_absolute_error(y_test_sc, y_pred))\n",
        "vector_r2_score.append(r2_score(y_test_sc, y_pred))"
      ]
    },
    {
      "cell_type": "markdown",
      "metadata": {
        "id": "n3ASMzTtRMFN"
      },
      "source": [
        "## 1.4 Support Vector Regression"
      ]
    },
    {
      "cell_type": "markdown",
      "source": [
        "La regresión SVM o Support Vector Regression (SVR)  tiene como objetivo encontrar el hiperplano que se ajuste a los datos en un espacio continuo, en lugar de ajustar una recta. Este enfoque ayuda a reducir el error de predicción y permite que SVR maneje relaciones no lineales entre las variables de entrada y la variable objetivo  mediante una función kernel."
      ],
      "metadata": {
        "id": "_0tU0SX-uAES"
      }
    },
    {
      "cell_type": "code",
      "execution_count": null,
      "metadata": {
        "id": "9Un8QzPufYnu",
        "colab": {
          "base_uri": "https://localhost:8080/",
          "height": 244
        },
        "outputId": "e4658706-33c8-41d5-fa59-d8538d05f69f"
      },
      "outputs": [
        {
          "output_type": "stream",
          "name": "stdout",
          "text": [
            "----------------------------------------\n",
            "Mejores hiperparámetros encontrados (cv)\n",
            "----------------------------------------\n",
            "{'C': 784.7599703514607} : -33.327388844226746 neg_root_mean_squared_error\n"
          ]
        },
        {
          "output_type": "execute_result",
          "data": {
            "text/plain": [
              "        param_C  mean_test_score  std_test_score  mean_train_score  \\\n",
              "15    784.75997       -33.327389        1.417231        -19.873677   \n",
              "14   233.572147       -33.594758        1.736183        -25.645831   \n",
              "16  2636.650899       -34.682898        1.319724        -15.733565   \n",
              "13     69.51928       -36.746497        1.925113        -32.829519   \n",
              "\n",
              "    std_train_score  \n",
              "15         2.580153  \n",
              "14         2.501458  \n",
              "16         2.837100  \n",
              "13         2.157813  "
            ],
            "text/html": [
              "\n",
              "  <div id=\"df-d1735a6a-a9ca-4bb9-a7d5-7ea60d47a085\">\n",
              "    <div class=\"colab-df-container\">\n",
              "      <div>\n",
              "<style scoped>\n",
              "    .dataframe tbody tr th:only-of-type {\n",
              "        vertical-align: middle;\n",
              "    }\n",
              "\n",
              "    .dataframe tbody tr th {\n",
              "        vertical-align: top;\n",
              "    }\n",
              "\n",
              "    .dataframe thead th {\n",
              "        text-align: right;\n",
              "    }\n",
              "</style>\n",
              "<table border=\"1\" class=\"dataframe\">\n",
              "  <thead>\n",
              "    <tr style=\"text-align: right;\">\n",
              "      <th></th>\n",
              "      <th>param_C</th>\n",
              "      <th>mean_test_score</th>\n",
              "      <th>std_test_score</th>\n",
              "      <th>mean_train_score</th>\n",
              "      <th>std_train_score</th>\n",
              "    </tr>\n",
              "  </thead>\n",
              "  <tbody>\n",
              "    <tr>\n",
              "      <th>15</th>\n",
              "      <td>784.75997</td>\n",
              "      <td>-33.327389</td>\n",
              "      <td>1.417231</td>\n",
              "      <td>-19.873677</td>\n",
              "      <td>2.580153</td>\n",
              "    </tr>\n",
              "    <tr>\n",
              "      <th>14</th>\n",
              "      <td>233.572147</td>\n",
              "      <td>-33.594758</td>\n",
              "      <td>1.736183</td>\n",
              "      <td>-25.645831</td>\n",
              "      <td>2.501458</td>\n",
              "    </tr>\n",
              "    <tr>\n",
              "      <th>16</th>\n",
              "      <td>2636.650899</td>\n",
              "      <td>-34.682898</td>\n",
              "      <td>1.319724</td>\n",
              "      <td>-15.733565</td>\n",
              "      <td>2.837100</td>\n",
              "    </tr>\n",
              "    <tr>\n",
              "      <th>13</th>\n",
              "      <td>69.51928</td>\n",
              "      <td>-36.746497</td>\n",
              "      <td>1.925113</td>\n",
              "      <td>-32.829519</td>\n",
              "      <td>2.157813</td>\n",
              "    </tr>\n",
              "  </tbody>\n",
              "</table>\n",
              "</div>\n",
              "      <button class=\"colab-df-convert\" onclick=\"convertToInteractive('df-d1735a6a-a9ca-4bb9-a7d5-7ea60d47a085')\"\n",
              "              title=\"Convert this dataframe to an interactive table.\"\n",
              "              style=\"display:none;\">\n",
              "        \n",
              "  <svg xmlns=\"http://www.w3.org/2000/svg\" height=\"24px\"viewBox=\"0 0 24 24\"\n",
              "       width=\"24px\">\n",
              "    <path d=\"M0 0h24v24H0V0z\" fill=\"none\"/>\n",
              "    <path d=\"M18.56 5.44l.94 2.06.94-2.06 2.06-.94-2.06-.94-.94-2.06-.94 2.06-2.06.94zm-11 1L8.5 8.5l.94-2.06 2.06-.94-2.06-.94L8.5 2.5l-.94 2.06-2.06.94zm10 10l.94 2.06.94-2.06 2.06-.94-2.06-.94-.94-2.06-.94 2.06-2.06.94z\"/><path d=\"M17.41 7.96l-1.37-1.37c-.4-.4-.92-.59-1.43-.59-.52 0-1.04.2-1.43.59L10.3 9.45l-7.72 7.72c-.78.78-.78 2.05 0 2.83L4 21.41c.39.39.9.59 1.41.59.51 0 1.02-.2 1.41-.59l7.78-7.78 2.81-2.81c.8-.78.8-2.07 0-2.86zM5.41 20L4 18.59l7.72-7.72 1.47 1.35L5.41 20z\"/>\n",
              "  </svg>\n",
              "      </button>\n",
              "      \n",
              "  <style>\n",
              "    .colab-df-container {\n",
              "      display:flex;\n",
              "      flex-wrap:wrap;\n",
              "      gap: 12px;\n",
              "    }\n",
              "\n",
              "    .colab-df-convert {\n",
              "      background-color: #E8F0FE;\n",
              "      border: none;\n",
              "      border-radius: 50%;\n",
              "      cursor: pointer;\n",
              "      display: none;\n",
              "      fill: #1967D2;\n",
              "      height: 32px;\n",
              "      padding: 0 0 0 0;\n",
              "      width: 32px;\n",
              "    }\n",
              "\n",
              "    .colab-df-convert:hover {\n",
              "      background-color: #E2EBFA;\n",
              "      box-shadow: 0px 1px 2px rgba(60, 64, 67, 0.3), 0px 1px 3px 1px rgba(60, 64, 67, 0.15);\n",
              "      fill: #174EA6;\n",
              "    }\n",
              "\n",
              "    [theme=dark] .colab-df-convert {\n",
              "      background-color: #3B4455;\n",
              "      fill: #D2E3FC;\n",
              "    }\n",
              "\n",
              "    [theme=dark] .colab-df-convert:hover {\n",
              "      background-color: #434B5C;\n",
              "      box-shadow: 0px 1px 3px 1px rgba(0, 0, 0, 0.15);\n",
              "      filter: drop-shadow(0px 1px 2px rgba(0, 0, 0, 0.3));\n",
              "      fill: #FFFFFF;\n",
              "    }\n",
              "  </style>\n",
              "\n",
              "      <script>\n",
              "        const buttonEl =\n",
              "          document.querySelector('#df-d1735a6a-a9ca-4bb9-a7d5-7ea60d47a085 button.colab-df-convert');\n",
              "        buttonEl.style.display =\n",
              "          google.colab.kernel.accessAllowed ? 'block' : 'none';\n",
              "\n",
              "        async function convertToInteractive(key) {\n",
              "          const element = document.querySelector('#df-d1735a6a-a9ca-4bb9-a7d5-7ea60d47a085');\n",
              "          const dataTable =\n",
              "            await google.colab.kernel.invokeFunction('convertToInteractive',\n",
              "                                                     [key], {});\n",
              "          if (!dataTable) return;\n",
              "\n",
              "          const docLinkHtml = 'Like what you see? Visit the ' +\n",
              "            '<a target=\"_blank\" href=https://colab.research.google.com/notebooks/data_table.ipynb>data table notebook</a>'\n",
              "            + ' to learn more about interactive tables.';\n",
              "          element.innerHTML = '';\n",
              "          dataTable['output_type'] = 'display_data';\n",
              "          await google.colab.output.renderOutput(dataTable, element);\n",
              "          const docLink = document.createElement('div');\n",
              "          docLink.innerHTML = docLinkHtml;\n",
              "          element.appendChild(docLink);\n",
              "        }\n",
              "      </script>\n",
              "    </div>\n",
              "  </div>\n",
              "  "
            ]
          },
          "metadata": {},
          "execution_count": 27
        }
      ],
      "source": [
        "param_grid = {'C': np.logspace(-5, 5, 20)}\n",
        "grid = GridSearchCV(estimator  = SVR(kernel='rbf'),param_grid = param_grid, \n",
        "        scoring='neg_root_mean_squared_error',\n",
        "        n_jobs= multiprocessing.cpu_count() - 1,\n",
        "        cv=RepeatedKFold(n_splits=2, n_repeats=2, random_state=123) , \n",
        "        refit=True,verbose= 0,return_train_score = True)\n",
        "grid.fit(X_train_sc, y_train_sc)\n",
        "\n",
        "# Mejores hiperparámetros por validación cruzada\n",
        "# ==============================================================================\n",
        "print(\"----------------------------------------\")\n",
        "print(\"Mejores hiperparámetros encontrados (cv)\")\n",
        "print(\"----------------------------------------\")\n",
        "print(grid.best_params_, \":\", grid.best_score_, grid.scoring)\n",
        "resultados = pd.DataFrame(grid.cv_results_)\n",
        "resultados.filter(regex = '(param.*|mean_t|std_t)') \\\n",
        "    .drop(columns = 'params') \\\n",
        "    .sort_values('mean_test_score', ascending = False) \\\n",
        "    .head(4)"
      ]
    },
    {
      "cell_type": "code",
      "execution_count": null,
      "metadata": {
        "id": "klwxKxgnoJ04"
      },
      "outputs": [],
      "source": [
        "modelo_svm= grid.best_estimator_\n",
        "y_pred= modelo_svm.predict(X = X_test_sc)"
      ]
    },
    {
      "cell_type": "code",
      "source": [
        "from sklearn.inspection import permutation_importance\n",
        "%matplotlib inline\n",
        "\n",
        "perm_importance = permutation_importance(modelo_svm, X_test_sc, y_test_sc)\n",
        "features = np.array(feature_names)\n",
        "\n",
        "plt.figure(figsize=(6,10))\n",
        "sorted_idx = perm_importance.importances_mean.argsort()\n",
        "plt.barh(features[sorted_idx], perm_importance.importances_mean[sorted_idx])\n",
        "plt.xlabel(\"Permutation Importance\")\n",
        "plt.show()"
      ],
      "metadata": {
        "colab": {
          "base_uri": "https://localhost:8080/",
          "height": 850
        },
        "id": "dJQSqA8O0qJU",
        "outputId": "a2e6ef8d-ad46-42d4-83e0-4620486565ac"
      },
      "execution_count": null,
      "outputs": [
        {
          "output_type": "display_data",
          "data": {
            "text/plain": [
              "<Figure size 600x1000 with 1 Axes>"
            ],
            "image/png": "[encoded data removed]"
          },
          "metadata": {}
        }
      ]
    },
    {
      "cell_type": "code",
      "execution_count": null,
      "metadata": {
        "id": "Uqkgkmsd1595",
        "colab": {
          "base_uri": "https://localhost:8080/"
        },
        "outputId": "42eb9b3f-7c39-4376-d35b-d21355dcd67f"
      },
      "outputs": [
        {
          "output_type": "stream",
          "name": "stdout",
          "text": [
            "RMSE: 36.00\n",
            "MSE: 1296.22\n",
            "Variance score: 0.50\n",
            "MAE: 17.58\n"
          ]
        }
      ],
      "source": [
        "# Error Cuadrado Medio\n",
        "print(\"RMSE: %.2f\" % np.sqrt(mean_squared_error(y_test_sc, y_pred)))\n",
        "print(\"MSE: %.2f\" % mean_squared_error(y_test_sc, y_pred))\n",
        "# Porcentaje de varianza representada\n",
        "print('Variance score: %.2f' % r2_score(y_test_sc, y_pred))\n",
        "# Error medio absoluto\n",
        "print('MAE: %.2f' % mean_absolute_error(y_test_sc, y_pred))"
      ]
    },
    {
      "cell_type": "code",
      "execution_count": null,
      "metadata": {
        "id": "x3MU3Rf6zqx_"
      },
      "outputs": [],
      "source": [
        "vector_rmse.append(np.sqrt(mean_squared_error(y_test_sc, y_pred)))\n",
        "vector_mse.append(mean_squared_error(y_test_sc, y_pred))\n",
        "vector_mae.append(mean_absolute_error(y_test_sc, y_pred))\n",
        "vector_r2_score.append(r2_score(y_test_sc, y_pred))"
      ]
    },
    {
      "cell_type": "markdown",
      "metadata": {
        "id": "Z6gfLNEERMAM"
      },
      "source": [
        "## 1.5 Regresion Logistica"
      ]
    },
    {
      "cell_type": "markdown",
      "source": [
        "En esta sección plantearemos otro problema distinto a las anteriores: nuestro objetivo será determinar si la disponibilidad mensual de un Airbnb es alta o no. Para ello plantearemos un modelo de regresión logística. \n",
        "\n",
        "La regresión logística es un modelo que predice la probabilidad de que una variable binaria tome un valor u otro en función del resto de variables. En nuestro caso, entrenaremos una regresión logística múltiple, ya que tenemos más de 1 variable independiente.\n"
      ],
      "metadata": {
        "id": "di_x429ObK1j"
      }
    },
    {
      "cell_type": "markdown",
      "metadata": {
        "id": "vwT1r95FpDq7"
      },
      "source": [
        "Para evaluar dicho modelo utilizaremos las siguientes métricas:\n",
        "- **Matriz de Confusión**: representación matricial de las predicciones de nuestro modelo frente a los verdaderos valores de estas. La diagonal indica los valores que nuestro modelo y las demás posiciones indican los distintos tipos de errores cometidos.\n",
        "- **Precision**: mide la capacidad del modelo de no crear falsos positivos. En la matriz de confusión para la primera categoría, correspondería al valor de la diagonal entre el valor de la diagonal más los otros valores de la columna\n",
        "- **Recall**: es la capacidad del modelo de encontrar todos los valores de la misma categoría. En la matriz de confusión para la primera categoría, correspondería al valor de la diagonal entre el valor de la diagonal más los otros valores de la fila.\n",
        "- **F-score**: media armónica entre Precision y Recall. Toma valores entre 0 y 1"
      ]
    },
    {
      "cell_type": "markdown",
      "source": [
        "En primer lugar, definiremos la variable respuesta a partir de la variable *Availability 30*. "
      ],
      "metadata": {
        "id": "fY77qh3aAa-R"
      }
    },
    {
      "cell_type": "code",
      "execution_count": null,
      "metadata": {
        "id": "w2mf_7rl-f9X"
      },
      "outputs": [],
      "source": [
        "from sklearn.linear_model import LogisticRegression\n",
        "from sklearn.metrics import classification_report\n",
        "from sklearn.metrics import confusion_matrix\n",
        "import statsmodels.api as sm\n",
        "import statsmodels.formula.api as smf\n",
        "from sklearn import metrics"
      ]
    },
    {
      "cell_type": "code",
      "execution_count": null,
      "metadata": {
        "id": "XKhkLYoPy7Ed",
        "colab": {
          "base_uri": "https://localhost:8080/"
        },
        "outputId": "643951e0-fdef-4111-b00a-530a6c853212"
      },
      "outputs": [
        {
          "output_type": "execute_result",
          "data": {
            "text/plain": [
              "count    12335.000000\n",
              "mean         8.567653\n",
              "std          8.964876\n",
              "min          0.000000\n",
              "25%          0.000000\n",
              "50%          6.000000\n",
              "75%         13.000000\n",
              "max         30.000000\n",
              "Name: Availability 30, dtype: float64"
            ]
          },
          "metadata": {},
          "execution_count": 33
        }
      ],
      "source": [
        "df['Availability 30'].describe()"
      ]
    },
    {
      "cell_type": "markdown",
      "source": [
        "Haremos una copia de nuestro dataset para abordar nuestro problema sin alterar los datos originales:"
      ],
      "metadata": {
        "id": "yqZQwh0Bf7A9"
      }
    },
    {
      "cell_type": "code",
      "execution_count": null,
      "metadata": {
        "id": "WgAn8UIi0DPI"
      },
      "outputs": [],
      "source": [
        "datos=df.copy()"
      ]
    },
    {
      "cell_type": "markdown",
      "source": [
        "Creamos la variable objetivo que es Tipo de disponibilidad. Entendemos que disponibilidad alta es cuando el Airbnb está libre en 8 o más días del mes y disponibilidad baja en caso contrario. En nuestro caso, el 0 representa la disponibilidad baja y el 1 la disponibilidad alta."
      ],
      "metadata": {
        "id": "1UZ_e7u-dA2H"
      }
    },
    {
      "cell_type": "code",
      "execution_count": null,
      "metadata": {
        "id": "syhtdyz5yxqD"
      },
      "outputs": [],
      "source": [
        "datos['Tipo_disponibilidad']=np.where(df['Availability 30']<8,0,1)"
      ]
    },
    {
      "cell_type": "code",
      "source": [
        "datos['Tipo_disponibilidad'].value_counts()"
      ],
      "metadata": {
        "id": "E91pUwoIJDhd",
        "colab": {
          "base_uri": "https://localhost:8080/"
        },
        "outputId": "93c88bd8-0481-4af8-8928-2662faaa64ff"
      },
      "execution_count": null,
      "outputs": [
        {
          "output_type": "execute_result",
          "data": {
            "text/plain": [
              "0    7004\n",
              "1    5331\n",
              "Name: Tipo_disponibilidad, dtype: int64"
            ]
          },
          "metadata": {},
          "execution_count": 36
        }
      ]
    },
    {
      "cell_type": "markdown",
      "source": [
        "Pondremos en primer lugar la variable Tipo_disponibilidad al tratarse de nuestra variable objetivo, después eliminaremos las variables Availability 30, 60 y 365."
      ],
      "metadata": {
        "id": "Y7zm1q1MduLg"
      }
    },
    {
      "cell_type": "code",
      "execution_count": null,
      "metadata": {
        "id": "LU0EjpWd1JJE",
        "colab": {
          "base_uri": "https://localhost:8080/"
        },
        "outputId": "b5417400-96ae-4a82-fcb8-8de45aff33f2"
      },
      "outputs": [
        {
          "output_type": "stream",
          "name": "stdout",
          "text": [
            "<class 'pandas.core.frame.DataFrame'>\n",
            "Int64Index: 12335 entries, 0 to 12334\n",
            "Data columns (total 37 columns):\n",
            " #   Column                            Non-Null Count  Dtype  \n",
            "---  ------                            --------------  -----  \n",
            " 0   Price                             12335 non-null  float64\n",
            " 1   Host Since                        12335 non-null  float64\n",
            " 2   Host Response Rate                12335 non-null  float64\n",
            " 3   Host Total Listings Count         12335 non-null  float64\n",
            " 4   Latitude                          12335 non-null  float64\n",
            " 5   Longitude                         12335 non-null  float64\n",
            " 6   Property Type                     12335 non-null  int64  \n",
            " 7   Accommodates                      12335 non-null  int64  \n",
            " 8   Bathrooms                         12335 non-null  float64\n",
            " 9   Bedrooms                          12335 non-null  float64\n",
            " 10  Beds                              12335 non-null  float64\n",
            " 11  Security Deposit                  12335 non-null  float64\n",
            " 12  Cleaning Fee                      12335 non-null  float64\n",
            " 13  Guests Included                   12335 non-null  int64  \n",
            " 14  Extra People                      12335 non-null  int64  \n",
            " 15  Minimum Nights                    12335 non-null  int64  \n",
            " 16  Review Scores Rating              12335 non-null  float64\n",
            " 17  Reviews per Month                 12335 non-null  float64\n",
            " 18  Num_Amenities                     12335 non-null  int64  \n",
            " 19  Num_Verificaciones                12335 non-null  int64  \n",
            " 20  Host Is Superhost                 12335 non-null  int64  \n",
            " 21  Host Has Profile Pic              12335 non-null  int64  \n",
            " 22  Host Identity Verified            12335 non-null  int64  \n",
            " 23  Is Location Exact                 12335 non-null  int64  \n",
            " 24  Requires License                  12335 non-null  int64  \n",
            " 25  Instant Bookable                  12335 non-null  int64  \n",
            " 26  Require Guest Profile Picture     12335 non-null  int64  \n",
            " 27  Require Guest Phone Verification  12335 non-null  int64  \n",
            " 28  Entire_home_apt                   12335 non-null  float64\n",
            " 29  Shared_room                       12335 non-null  float64\n",
            " 30  Real_Bed                          12335 non-null  float64\n",
            " 31  Updated_less_one_month            12335 non-null  float64\n",
            " 32  Updated_more_one_month            12335 non-null  float64\n",
            " 33  Updated_today                     12335 non-null  float64\n",
            " 34  flexible                          12335 non-null  float64\n",
            " 35  moderate                          12335 non-null  float64\n",
            " 36  Tipo_disponibilidad               12335 non-null  int64  \n",
            "dtypes: float64(21), int64(16)\n",
            "memory usage: 3.6 MB\n"
          ]
        }
      ],
      "source": [
        "datos.drop(['Availability 30','Availability 90','Availability 365'] , axis=1,inplace=True)\n",
        "datos.info()"
      ]
    },
    {
      "cell_type": "code",
      "execution_count": null,
      "metadata": {
        "id": "1Nxby7yJ2Kby"
      },
      "outputs": [],
      "source": [
        "cols=['Tipo_disponibilidad','Price', 'Host Since', 'Host Response Rate',\n",
        "       'Host Total Listings Count', 'Latitude', 'Longitude', 'Property Type',\n",
        "       'Accommodates', 'Bathrooms', 'Bedrooms', 'Beds', 'Security Deposit',\n",
        "       'Cleaning Fee', 'Guests Included', 'Extra People', 'Minimum Nights',\n",
        "       'Review Scores Rating', 'Reviews per Month', 'Num_Amenities',\n",
        "       'Num_Verificaciones', 'Host Is Superhost', 'Host Has Profile Pic',\n",
        "       'Host Identity Verified', 'Is Location Exact', 'Requires License',\n",
        "       'Instant Bookable', 'Require Guest Profile Picture',\n",
        "       'Require Guest Phone Verification', 'Entire_home_apt', 'Shared_room',\n",
        "       'Real_Bed', 'Updated_less_one_month', 'Updated_more_one_month',\n",
        "       'Updated_today', 'flexible', 'moderate']"
      ]
    },
    {
      "cell_type": "code",
      "execution_count": null,
      "metadata": {
        "id": "goExEA9r2UbG",
        "colab": {
          "base_uri": "https://localhost:8080/",
          "height": 352
        },
        "outputId": "4d1455bd-9cd6-4e93-92f3-37b3bf787ebf"
      },
      "outputs": [
        {
          "output_type": "execute_result",
          "data": {
            "text/plain": [
              "   Tipo_disponibilidad  Price  Host Since  Host Response Rate  \\\n",
              "0                    0  149.0         7.0                99.0   \n",
              "1                    0  106.0         7.0                99.0   \n",
              "2                    1   45.0        11.0               100.0   \n",
              "3                    0  100.0         8.0               100.0   \n",
              "4                    0  115.0        10.0                90.0   \n",
              "\n",
              "   Host Total Listings Count   Latitude  Longitude  Property Type  \\\n",
              "0                      207.0  41.388685   2.155150              0   \n",
              "1                      207.0  41.382537   2.149577              0   \n",
              "2                        1.0  41.402357   2.171119              0   \n",
              "3                        1.0  52.366679   4.865595              0   \n",
              "4                        1.0  41.381369   2.180874              0   \n",
              "\n",
              "   Accommodates  Bathrooms  ...  Require Guest Profile Picture  \\\n",
              "0             5        1.0  ...                              0   \n",
              "1             6        1.0  ...                              0   \n",
              "2             2        1.0  ...                              0   \n",
              "3             2        1.0  ...                              0   \n",
              "4             3        2.0  ...                              0   \n",
              "\n",
              "   Require Guest Phone Verification  Entire_home_apt  Shared_room  Real_Bed  \\\n",
              "0                                 0              1.0          0.0       1.0   \n",
              "1                                 0              1.0          0.0       1.0   \n",
              "2                                 0              0.0          0.0       1.0   \n",
              "3                                 0              0.0          0.0       1.0   \n",
              "4                                 0              1.0          0.0       1.0   \n",
              "\n",
              "   Updated_less_one_month  Updated_more_one_month  Updated_today  flexible  \\\n",
              "0                     0.0                     0.0            1.0       1.0   \n",
              "1                     1.0                     0.0            0.0       0.0   \n",
              "2                     0.0                     0.0            0.0       1.0   \n",
              "3                     1.0                     0.0            0.0       0.0   \n",
              "4                     1.0                     0.0            0.0       1.0   \n",
              "\n",
              "   moderate  \n",
              "0       0.0  \n",
              "1       0.0  \n",
              "2       0.0  \n",
              "3       1.0  \n",
              "4       0.0  \n",
              "\n",
              "[5 rows x 37 columns]"
            ],
            "text/html": [
              "\n",
              "  <div id=\"df-42472987-5aad-4c0b-8c16-d1d0083159cf\">\n",
              "    <div class=\"colab-df-container\">\n",
              "      <div>\n",
              "<style scoped>\n",
              "    .dataframe tbody tr th:only-of-type {\n",
              "        vertical-align: middle;\n",
              "    }\n",
              "\n",
              "    .dataframe tbody tr th {\n",
              "        vertical-align: top;\n",
              "    }\n",
              "\n",
              "    .dataframe thead th {\n",
              "        text-align: right;\n",
              "    }\n",
              "</style>\n",
              "<table border=\"1\" class=\"dataframe\">\n",
              "  <thead>\n",
              "    <tr style=\"text-align: right;\">\n",
              "      <th></th>\n",
              "      <th>Tipo_disponibilidad</th>\n",
              "      <th>Price</th>\n",
              "      <th>Host Since</th>\n",
              "      <th>Host Response Rate</th>\n",
              "      <th>Host Total Listings Count</th>\n",
              "      <th>Latitude</th>\n",
              "      <th>Longitude</th>\n",
              "      <th>Property Type</th>\n",
              "      <th>Accommodates</th>\n",
              "      <th>Bathrooms</th>\n",
              "      <th>...</th>\n",
              "      <th>Require Guest Profile Picture</th>\n",
              "      <th>Require Guest Phone Verification</th>\n",
              "      <th>Entire_home_apt</th>\n",
              "      <th>Shared_room</th>\n",
              "      <th>Real_Bed</th>\n",
              "      <th>Updated_less_one_month</th>\n",
              "      <th>Updated_more_one_month</th>\n",
              "      <th>Updated_today</th>\n",
              "      <th>flexible</th>\n",
              "      <th>moderate</th>\n",
              "    </tr>\n",
              "  </thead>\n",
              "  <tbody>\n",
              "    <tr>\n",
              "      <th>0</th>\n",
              "      <td>0</td>\n",
              "      <td>149.0</td>\n",
              "      <td>7.0</td>\n",
              "      <td>99.0</td>\n",
              "      <td>207.0</td>\n",
              "      <td>41.388685</td>\n",
              "      <td>2.155150</td>\n",
              "      <td>0</td>\n",
              "      <td>5</td>\n",
              "      <td>1.0</td>\n",
              "      <td>...</td>\n",
              "      <td>0</td>\n",
              "      <td>0</td>\n",
              "      <td>1.0</td>\n",
              "      <td>0.0</td>\n",
              "      <td>1.0</td>\n",
              "      <td>0.0</td>\n",
              "      <td>0.0</td>\n",
              "      <td>1.0</td>\n",
              "      <td>1.0</td>\n",
              "      <td>0.0</td>\n",
              "    </tr>\n",
              "    <tr>\n",
              "      <th>1</th>\n",
              "      <td>0</td>\n",
              "      <td>106.0</td>\n",
              "      <td>7.0</td>\n",
              "      <td>99.0</td>\n",
              "      <td>207.0</td>\n",
              "      <td>41.382537</td>\n",
              "      <td>2.149577</td>\n",
              "      <td>0</td>\n",
              "      <td>6</td>\n",
              "      <td>1.0</td>\n",
              "      <td>...</td>\n",
              "      <td>0</td>\n",
              "      <td>0</td>\n",
              "      <td>1.0</td>\n",
              "      <td>0.0</td>\n",
              "      <td>1.0</td>\n",
              "      <td>1.0</td>\n",
              "      <td>0.0</td>\n",
              "      <td>0.0</td>\n",
              "      <td>0.0</td>\n",
              "      <td>0.0</td>\n",
              "    </tr>\n",
              "    <tr>\n",
              "      <th>2</th>\n",
              "      <td>1</td>\n",
              "      <td>45.0</td>\n",
              "      <td>11.0</td>\n",
              "      <td>100.0</td>\n",
              "      <td>1.0</td>\n",
              "      <td>41.402357</td>\n",
              "      <td>2.171119</td>\n",
              "      <td>0</td>\n",
              "      <td>2</td>\n",
              "      <td>1.0</td>\n",
              "      <td>...</td>\n",
              "      <td>0</td>\n",
              "      <td>0</td>\n",
              "      <td>0.0</td>\n",
              "      <td>0.0</td>\n",
              "      <td>1.0</td>\n",
              "      <td>0.0</td>\n",
              "      <td>0.0</td>\n",
              "      <td>0.0</td>\n",
              "      <td>1.0</td>\n",
              "      <td>0.0</td>\n",
              "    </tr>\n",
              "    <tr>\n",
              "      <th>3</th>\n",
              "      <td>0</td>\n",
              "      <td>100.0</td>\n",
              "      <td>8.0</td>\n",
              "      <td>100.0</td>\n",
              "      <td>1.0</td>\n",
              "      <td>52.366679</td>\n",
              "      <td>4.865595</td>\n",
              "      <td>0</td>\n",
              "      <td>2</td>\n",
              "      <td>1.0</td>\n",
              "      <td>...</td>\n",
              "      <td>0</td>\n",
              "      <td>0</td>\n",
              "      <td>0.0</td>\n",
              "      <td>0.0</td>\n",
              "      <td>1.0</td>\n",
              "      <td>1.0</td>\n",
              "      <td>0.0</td>\n",
              "      <td>0.0</td>\n",
              "      <td>0.0</td>\n",
              "      <td>1.0</td>\n",
              "    </tr>\n",
              "    <tr>\n",
              "      <th>4</th>\n",
              "      <td>0</td>\n",
              "      <td>115.0</td>\n",
              "      <td>10.0</td>\n",
              "      <td>90.0</td>\n",
              "      <td>1.0</td>\n",
              "      <td>41.381369</td>\n",
              "      <td>2.180874</td>\n",
              "      <td>0</td>\n",
              "      <td>3</td>\n",
              "      <td>2.0</td>\n",
              "      <td>...</td>\n",
              "      <td>0</td>\n",
              "      <td>0</td>\n",
              "      <td>1.0</td>\n",
              "      <td>0.0</td>\n",
              "      <td>1.0</td>\n",
              "      <td>1.0</td>\n",
              "      <td>0.0</td>\n",
              "      <td>0.0</td>\n",
              "      <td>1.0</td>\n",
              "      <td>0.0</td>\n",
              "    </tr>\n",
              "  </tbody>\n",
              "</table>\n",
              "<p>5 rows × 37 columns</p>\n",
              "</div>\n",
              "      <button class=\"colab-df-convert\" onclick=\"convertToInteractive('df-42472987-5aad-4c0b-8c16-d1d0083159cf')\"\n",
              "              title=\"Convert this dataframe to an interactive table.\"\n",
              "              style=\"display:none;\">\n",
              "        \n",
              "  <svg xmlns=\"http://www.w3.org/2000/svg\" height=\"24px\"viewBox=\"0 0 24 24\"\n",
              "       width=\"24px\">\n",
              "    <path d=\"M0 0h24v24H0V0z\" fill=\"none\"/>\n",
              "    <path d=\"M18.56 5.44l.94 2.06.94-2.06 2.06-.94-2.06-.94-.94-2.06-.94 2.06-2.06.94zm-11 1L8.5 8.5l.94-2.06 2.06-.94-2.06-.94L8.5 2.5l-.94 2.06-2.06.94zm10 10l.94 2.06.94-2.06 2.06-.94-2.06-.94-.94-2.06-.94 2.06-2.06.94z\"/><path d=\"M17.41 7.96l-1.37-1.37c-.4-.4-.92-.59-1.43-.59-.52 0-1.04.2-1.43.59L10.3 9.45l-7.72 7.72c-.78.78-.78 2.05 0 2.83L4 21.41c.39.39.9.59 1.41.59.51 0 1.02-.2 1.41-.59l7.78-7.78 2.81-2.81c.8-.78.8-2.07 0-2.86zM5.41 20L4 18.59l7.72-7.72 1.47 1.35L5.41 20z\"/>\n",
              "  </svg>\n",
              "      </button>\n",
              "      \n",
              "  <style>\n",
              "    .colab-df-container {\n",
              "      display:flex;\n",
              "      flex-wrap:wrap;\n",
              "      gap: 12px;\n",
              "    }\n",
              "\n",
              "    .colab-df-convert {\n",
              "      background-color: #E8F0FE;\n",
              "      border: none;\n",
              "      border-radius: 50%;\n",
              "      cursor: pointer;\n",
              "      display: none;\n",
              "      fill: #1967D2;\n",
              "      height: 32px;\n",
              "      padding: 0 0 0 0;\n",
              "      width: 32px;\n",
              "    }\n",
              "\n",
              "    .colab-df-convert:hover {\n",
              "      background-color: #E2EBFA;\n",
              "      box-shadow: 0px 1px 2px rgba(60, 64, 67, 0.3), 0px 1px 3px 1px rgba(60, 64, 67, 0.15);\n",
              "      fill: #174EA6;\n",
              "    }\n",
              "\n",
              "    [theme=dark] .colab-df-convert {\n",
              "      background-color: #3B4455;\n",
              "      fill: #D2E3FC;\n",
              "    }\n",
              "\n",
              "    [theme=dark] .colab-df-convert:hover {\n",
              "      background-color: #434B5C;\n",
              "      box-shadow: 0px 1px 3px 1px rgba(0, 0, 0, 0.15);\n",
              "      filter: drop-shadow(0px 1px 2px rgba(0, 0, 0, 0.3));\n",
              "      fill: #FFFFFF;\n",
              "    }\n",
              "  </style>\n",
              "\n",
              "      <script>\n",
              "        const buttonEl =\n",
              "          document.querySelector('#df-42472987-5aad-4c0b-8c16-d1d0083159cf button.colab-df-convert');\n",
              "        buttonEl.style.display =\n",
              "          google.colab.kernel.accessAllowed ? 'block' : 'none';\n",
              "\n",
              "        async function convertToInteractive(key) {\n",
              "          const element = document.querySelector('#df-42472987-5aad-4c0b-8c16-d1d0083159cf');\n",
              "          const dataTable =\n",
              "            await google.colab.kernel.invokeFunction('convertToInteractive',\n",
              "                                                     [key], {});\n",
              "          if (!dataTable) return;\n",
              "\n",
              "          const docLinkHtml = 'Like what you see? Visit the ' +\n",
              "            '<a target=\"_blank\" href=https://colab.research.google.com/notebooks/data_table.ipynb>data table notebook</a>'\n",
              "            + ' to learn more about interactive tables.';\n",
              "          element.innerHTML = '';\n",
              "          dataTable['output_type'] = 'display_data';\n",
              "          await google.colab.output.renderOutput(dataTable, element);\n",
              "          const docLink = document.createElement('div');\n",
              "          docLink.innerHTML = docLinkHtml;\n",
              "          element.appendChild(docLink);\n",
              "        }\n",
              "      </script>\n",
              "    </div>\n",
              "  </div>\n",
              "  "
            ]
          },
          "metadata": {},
          "execution_count": 39
        }
      ],
      "source": [
        "datos=datos.reindex(columns=cols)\n",
        "datos.head(5)"
      ]
    },
    {
      "cell_type": "markdown",
      "source": [
        "Procedemos a dividir los datos en los conjuntos de entrenamiento y test y a estandarizar los datos."
      ],
      "metadata": {
        "id": "4qEvqb6ReNTN"
      }
    },
    {
      "cell_type": "code",
      "execution_count": null,
      "metadata": {
        "id": "wmZTOKLp6xuG"
      },
      "outputs": [],
      "source": [
        "data1 = datos.values \n",
        "\n",
        "y1 = data1[:,0:1]     # nos quedamos con la 1ª columna\n",
        "X1 = data1[:,1:]      # nos quedamos con el resto\n",
        "\n",
        "feature_names = datos.columns[1:]"
      ]
    },
    {
      "cell_type": "code",
      "execution_count": null,
      "metadata": {
        "id": "lRXhHlsn7D_D"
      },
      "outputs": [],
      "source": [
        "scaled_features = StandardScaler().fit_transform(X1, y1)"
      ]
    },
    {
      "cell_type": "code",
      "execution_count": null,
      "metadata": {
        "id": "PMWM1M347PhR",
        "colab": {
          "base_uri": "https://localhost:8080/",
          "height": 352
        },
        "outputId": "896e4d23-4e18-4109-d749-25f7ee9c8e79"
      },
      "outputs": [
        {
          "output_type": "execute_result",
          "data": {
            "text/plain": [
              "      Price  Host Since  Host Response Rate  Host Total Listings Count  \\\n",
              "0  1.764567   -1.029626            0.279649                   7.007328   \n",
              "1  0.894774   -1.029626            0.279649                   7.007328   \n",
              "2 -0.339118    1.446938            0.356166                  -0.295494   \n",
              "3  0.773408   -0.410485            0.356166                  -0.295494   \n",
              "4  1.076824    0.827797           -0.409008                  -0.295494   \n",
              "\n",
              "   Latitude  Longitude  Property Type  Accommodates  Bathrooms  Bedrooms  ...  \\\n",
              "0  0.458549   0.926851      -0.380202      1.353587  -0.375841  1.310284  ...   \n",
              "1  0.455521   0.925972      -0.380202      2.003661  -0.375841  1.310284  ...   \n",
              "2  0.465282   0.929370      -0.380202     -0.596634  -0.375841 -0.282537  ...   \n",
              "3  5.865328   1.354453      -0.380202     -0.596634  -0.375841 -0.282537  ...   \n",
              "4  0.454945   0.930909      -0.380202      0.053439   1.686437 -0.282537  ...   \n",
              "\n",
              "   Require Guest Phone Verification  Entire_home_apt  Shared_room  Real_Bed  \\\n",
              "0                         -0.156258         0.833846    -0.092658  0.147026   \n",
              "1                         -0.156258         0.833846    -0.092658  0.147026   \n",
              "2                         -0.156258        -1.199262    -0.092658  0.147026   \n",
              "3                         -0.156258        -1.199262    -0.092658  0.147026   \n",
              "4                         -0.156258         0.833846    -0.092658  0.147026   \n",
              "\n",
              "   Updated_less_one_month  Updated_more_one_month  Updated_today  flexible  \\\n",
              "0               -0.654085                -0.45686       1.733081  1.430010   \n",
              "1                1.528853                -0.45686      -0.577007 -0.699296   \n",
              "2               -0.654085                -0.45686      -0.577007  1.430010   \n",
              "3                1.528853                -0.45686      -0.577007 -0.699296   \n",
              "4                1.528853                -0.45686      -0.577007  1.430010   \n",
              "\n",
              "   moderate  Tipo_disponibilidad  \n",
              "0 -0.666364                  0.0  \n",
              "1 -0.666364                  0.0  \n",
              "2 -0.666364                  1.0  \n",
              "3  1.500681                  0.0  \n",
              "4 -0.666364                  0.0  \n",
              "\n",
              "[5 rows x 37 columns]"
            ],
            "text/html": [
              "\n",
              "  <div id=\"df-f304015d-8e2a-4b5f-8b8f-a3cb2503263c\">\n",
              "    <div class=\"colab-df-container\">\n",
              "      <div>\n",
              "<style scoped>\n",
              "    .dataframe tbody tr th:only-of-type {\n",
              "        vertical-align: middle;\n",
              "    }\n",
              "\n",
              "    .dataframe tbody tr th {\n",
              "        vertical-align: top;\n",
              "    }\n",
              "\n",
              "    .dataframe thead th {\n",
              "        text-align: right;\n",
              "    }\n",
              "</style>\n",
              "<table border=\"1\" class=\"dataframe\">\n",
              "  <thead>\n",
              "    <tr style=\"text-align: right;\">\n",
              "      <th></th>\n",
              "      <th>Price</th>\n",
              "      <th>Host Since</th>\n",
              "      <th>Host Response Rate</th>\n",
              "      <th>Host Total Listings Count</th>\n",
              "      <th>Latitude</th>\n",
              "      <th>Longitude</th>\n",
              "      <th>Property Type</th>\n",
              "      <th>Accommodates</th>\n",
              "      <th>Bathrooms</th>\n",
              "      <th>Bedrooms</th>\n",
              "      <th>...</th>\n",
              "      <th>Require Guest Phone Verification</th>\n",
              "      <th>Entire_home_apt</th>\n",
              "      <th>Shared_room</th>\n",
              "      <th>Real_Bed</th>\n",
              "      <th>Updated_less_one_month</th>\n",
              "      <th>Updated_more_one_month</th>\n",
              "      <th>Updated_today</th>\n",
              "      <th>flexible</th>\n",
              "      <th>moderate</th>\n",
              "      <th>Tipo_disponibilidad</th>\n",
              "    </tr>\n",
              "  </thead>\n",
              "  <tbody>\n",
              "    <tr>\n",
              "      <th>0</th>\n",
              "      <td>1.764567</td>\n",
              "      <td>-1.029626</td>\n",
              "      <td>0.279649</td>\n",
              "      <td>7.007328</td>\n",
              "      <td>0.458549</td>\n",
              "      <td>0.926851</td>\n",
              "      <td>-0.380202</td>\n",
              "      <td>1.353587</td>\n",
              "      <td>-0.375841</td>\n",
              "      <td>1.310284</td>\n",
              "      <td>...</td>\n",
              "      <td>-0.156258</td>\n",
              "      <td>0.833846</td>\n",
              "      <td>-0.092658</td>\n",
              "      <td>0.147026</td>\n",
              "      <td>-0.654085</td>\n",
              "      <td>-0.45686</td>\n",
              "      <td>1.733081</td>\n",
              "      <td>1.430010</td>\n",
              "      <td>-0.666364</td>\n",
              "      <td>0.0</td>\n",
              "    </tr>\n",
              "    <tr>\n",
              "      <th>1</th>\n",
              "      <td>0.894774</td>\n",
              "      <td>-1.029626</td>\n",
              "      <td>0.279649</td>\n",
              "      <td>7.007328</td>\n",
              "      <td>0.455521</td>\n",
              "      <td>0.925972</td>\n",
              "      <td>-0.380202</td>\n",
              "      <td>2.003661</td>\n",
              "      <td>-0.375841</td>\n",
              "      <td>1.310284</td>\n",
              "      <td>...</td>\n",
              "      <td>-0.156258</td>\n",
              "      <td>0.833846</td>\n",
              "      <td>-0.092658</td>\n",
              "      <td>0.147026</td>\n",
              "      <td>1.528853</td>\n",
              "      <td>-0.45686</td>\n",
              "      <td>-0.577007</td>\n",
              "      <td>-0.699296</td>\n",
              "      <td>-0.666364</td>\n",
              "      <td>0.0</td>\n",
              "    </tr>\n",
              "    <tr>\n",
              "      <th>2</th>\n",
              "      <td>-0.339118</td>\n",
              "      <td>1.446938</td>\n",
              "      <td>0.356166</td>\n",
              "      <td>-0.295494</td>\n",
              "      <td>0.465282</td>\n",
              "      <td>0.929370</td>\n",
              "      <td>-0.380202</td>\n",
              "      <td>-0.596634</td>\n",
              "      <td>-0.375841</td>\n",
              "      <td>-0.282537</td>\n",
              "      <td>...</td>\n",
              "      <td>-0.156258</td>\n",
              "      <td>-1.199262</td>\n",
              "      <td>-0.092658</td>\n",
              "      <td>0.147026</td>\n",
              "      <td>-0.654085</td>\n",
              "      <td>-0.45686</td>\n",
              "      <td>-0.577007</td>\n",
              "      <td>1.430010</td>\n",
              "      <td>-0.666364</td>\n",
              "      <td>1.0</td>\n",
              "    </tr>\n",
              "    <tr>\n",
              "      <th>3</th>\n",
              "      <td>0.773408</td>\n",
              "      <td>-0.410485</td>\n",
              "      <td>0.356166</td>\n",
              "      <td>-0.295494</td>\n",
              "      <td>5.865328</td>\n",
              "      <td>1.354453</td>\n",
              "      <td>-0.380202</td>\n",
              "      <td>-0.596634</td>\n",
              "      <td>-0.375841</td>\n",
              "      <td>-0.282537</td>\n",
              "      <td>...</td>\n",
              "      <td>-0.156258</td>\n",
              "      <td>-1.199262</td>\n",
              "      <td>-0.092658</td>\n",
              "      <td>0.147026</td>\n",
              "      <td>1.528853</td>\n",
              "      <td>-0.45686</td>\n",
              "      <td>-0.577007</td>\n",
              "      <td>-0.699296</td>\n",
              "      <td>1.500681</td>\n",
              "      <td>0.0</td>\n",
              "    </tr>\n",
              "    <tr>\n",
              "      <th>4</th>\n",
              "      <td>1.076824</td>\n",
              "      <td>0.827797</td>\n",
              "      <td>-0.409008</td>\n",
              "      <td>-0.295494</td>\n",
              "      <td>0.454945</td>\n",
              "      <td>0.930909</td>\n",
              "      <td>-0.380202</td>\n",
              "      <td>0.053439</td>\n",
              "      <td>1.686437</td>\n",
              "      <td>-0.282537</td>\n",
              "      <td>...</td>\n",
              "      <td>-0.156258</td>\n",
              "      <td>0.833846</td>\n",
              "      <td>-0.092658</td>\n",
              "      <td>0.147026</td>\n",
              "      <td>1.528853</td>\n",
              "      <td>-0.45686</td>\n",
              "      <td>-0.577007</td>\n",
              "      <td>1.430010</td>\n",
              "      <td>-0.666364</td>\n",
              "      <td>0.0</td>\n",
              "    </tr>\n",
              "  </tbody>\n",
              "</table>\n",
              "<p>5 rows × 37 columns</p>\n",
              "</div>\n",
              "      <button class=\"colab-df-convert\" onclick=\"convertToInteractive('df-f304015d-8e2a-4b5f-8b8f-a3cb2503263c')\"\n",
              "              title=\"Convert this dataframe to an interactive table.\"\n",
              "              style=\"display:none;\">\n",
              "        \n",
              "  <svg xmlns=\"http://www.w3.org/2000/svg\" height=\"24px\"viewBox=\"0 0 24 24\"\n",
              "       width=\"24px\">\n",
              "    <path d=\"M0 0h24v24H0V0z\" fill=\"none\"/>\n",
              "    <path d=\"M18.56 5.44l.94 2.06.94-2.06 2.06-.94-2.06-.94-.94-2.06-.94 2.06-2.06.94zm-11 1L8.5 8.5l.94-2.06 2.06-.94-2.06-.94L8.5 2.5l-.94 2.06-2.06.94zm10 10l.94 2.06.94-2.06 2.06-.94-2.06-.94-.94-2.06-.94 2.06-2.06.94z\"/><path d=\"M17.41 7.96l-1.37-1.37c-.4-.4-.92-.59-1.43-.59-.52 0-1.04.2-1.43.59L10.3 9.45l-7.72 7.72c-.78.78-.78 2.05 0 2.83L4 21.41c.39.39.9.59 1.41.59.51 0 1.02-.2 1.41-.59l7.78-7.78 2.81-2.81c.8-.78.8-2.07 0-2.86zM5.41 20L4 18.59l7.72-7.72 1.47 1.35L5.41 20z\"/>\n",
              "  </svg>\n",
              "      </button>\n",
              "      \n",
              "  <style>\n",
              "    .colab-df-container {\n",
              "      display:flex;\n",
              "      flex-wrap:wrap;\n",
              "      gap: 12px;\n",
              "    }\n",
              "\n",
              "    .colab-df-convert {\n",
              "      background-color: #E8F0FE;\n",
              "      border: none;\n",
              "      border-radius: 50%;\n",
              "      cursor: pointer;\n",
              "      display: none;\n",
              "      fill: #1967D2;\n",
              "      height: 32px;\n",
              "      padding: 0 0 0 0;\n",
              "      width: 32px;\n",
              "    }\n",
              "\n",
              "    .colab-df-convert:hover {\n",
              "      background-color: #E2EBFA;\n",
              "      box-shadow: 0px 1px 2px rgba(60, 64, 67, 0.3), 0px 1px 3px 1px rgba(60, 64, 67, 0.15);\n",
              "      fill: #174EA6;\n",
              "    }\n",
              "\n",
              "    [theme=dark] .colab-df-convert {\n",
              "      background-color: #3B4455;\n",
              "      fill: #D2E3FC;\n",
              "    }\n",
              "\n",
              "    [theme=dark] .colab-df-convert:hover {\n",
              "      background-color: #434B5C;\n",
              "      box-shadow: 0px 1px 3px 1px rgba(0, 0, 0, 0.15);\n",
              "      filter: drop-shadow(0px 1px 2px rgba(0, 0, 0, 0.3));\n",
              "      fill: #FFFFFF;\n",
              "    }\n",
              "  </style>\n",
              "\n",
              "      <script>\n",
              "        const buttonEl =\n",
              "          document.querySelector('#df-f304015d-8e2a-4b5f-8b8f-a3cb2503263c button.colab-df-convert');\n",
              "        buttonEl.style.display =\n",
              "          google.colab.kernel.accessAllowed ? 'block' : 'none';\n",
              "\n",
              "        async function convertToInteractive(key) {\n",
              "          const element = document.querySelector('#df-f304015d-8e2a-4b5f-8b8f-a3cb2503263c');\n",
              "          const dataTable =\n",
              "            await google.colab.kernel.invokeFunction('convertToInteractive',\n",
              "                                                     [key], {});\n",
              "          if (!dataTable) return;\n",
              "\n",
              "          const docLinkHtml = 'Like what you see? Visit the ' +\n",
              "            '<a target=\"_blank\" href=https://colab.research.google.com/notebooks/data_table.ipynb>data table notebook</a>'\n",
              "            + ' to learn more about interactive tables.';\n",
              "          element.innerHTML = '';\n",
              "          dataTable['output_type'] = 'display_data';\n",
              "          await google.colab.output.renderOutput(dataTable, element);\n",
              "          const docLink = document.createElement('div');\n",
              "          docLink.innerHTML = docLinkHtml;\n",
              "          element.appendChild(docLink);\n",
              "        }\n",
              "      </script>\n",
              "    </div>\n",
              "  </div>\n",
              "  "
            ]
          },
          "metadata": {},
          "execution_count": 42
        }
      ],
      "source": [
        "scaled_features_datos = pd.DataFrame(scaled_features, index=datos.index, columns=datos.iloc[:,1:].columns)\n",
        "scaled_features_datos['Tipo_disponibilidad']= y1\n",
        "scaled_features_datos.head()"
      ]
    },
    {
      "cell_type": "code",
      "execution_count": null,
      "metadata": {
        "id": "nhCVIIi-72Hv",
        "colab": {
          "base_uri": "https://localhost:8080/"
        },
        "outputId": "bda6dea4-f585-40a4-e40d-585ee75f9db6"
      },
      "outputs": [
        {
          "output_type": "execute_result",
          "data": {
            "text/plain": [
              "((8634, 36), (3701, 36))"
            ]
          },
          "metadata": {},
          "execution_count": 43
        }
      ],
      "source": [
        "X_sc1 = scaled_features_datos.iloc[:, 0:36].values\n",
        "y_sc1 = scaled_features_datos['Tipo_disponibilidad'].values\n",
        "\n",
        "from sklearn.model_selection import train_test_split\n",
        "\n",
        "X_train_sc1, X_test_sc1, y_train_sc1, y_test_sc1 = train_test_split(X_sc1, y_sc1, test_size=0.3, random_state=0)\n",
        "\n",
        "X_train_sc1.shape, X_test_sc1.shape"
      ]
    },
    {
      "cell_type": "code",
      "source": [
        "from sklearn.linear_model import LogisticRegression\n",
        "from sklearn import metrics\n",
        "param_grid = {'C': np.logspace(-5, 5, 25),'penalty':['l1', 'l2', 'elasticnet']}\n",
        "logreg = LogisticRegression()\n",
        "grid = GridSearchCV(estimator = logreg,\n",
        "                    param_grid=param_grid,\n",
        "                    scoring= 'accuracy',\n",
        "                    n_jobs= multiprocessing.cpu_count() - 1,\n",
        "                    cv= RepeatedKFold(n_splits=10, n_repeats=7, random_state=123), \n",
        "                    refit=True,verbose= 0,return_train_score = True)\n",
        "grid.fit(X_train_sc1, y_train_sc1)\n",
        "\n",
        "# Mejores hiperparámetros por validación cruzada\n",
        "# ==============================================================================\n",
        "print(\"----------------------------------------\")\n",
        "print(\"Mejores hiperparámetros encontrados (cv)\")\n",
        "print(\"----------------------------------------\")\n",
        "print(grid.best_params_, \":\", grid.best_score_, grid.scoring)\n",
        "resultados = pd.DataFrame(grid.cv_results_)\n",
        "resultados.filter(regex = '(param.*|mean_t|std_t)') \\\n",
        "    .drop(columns = 'params') \\\n",
        "    .sort_values('mean_test_score', ascending = False) \\\n",
        "    .head(4)"
      ],
      "metadata": {
        "id": "o6cMq-IMY9et",
        "colab": {
          "base_uri": "https://localhost:8080/",
          "height": 244
        },
        "outputId": "08055768-baa4-4896-bf89-e59acd3190f9"
      },
      "execution_count": null,
      "outputs": [
        {
          "output_type": "stream",
          "name": "stdout",
          "text": [
            "----------------------------------------\n",
            "Mejores hiperparámetros encontrados (cv)\n",
            "----------------------------------------\n",
            "{'C': 2.6101572156825386, 'penalty': 'l2'} : 0.6268571972692774 accuracy\n"
          ]
        },
        {
          "output_type": "execute_result",
          "data": {
            "text/plain": [
              "         param_C param_penalty  mean_test_score  std_test_score  \\\n",
              "40      2.610157            l2         0.626857        0.016299   \n",
              "73      100000.0            l2         0.626857        0.016319   \n",
              "70  38311.868496            l2         0.626857        0.016319   \n",
              "67  14677.992676            l2         0.626857        0.016319   \n",
              "\n",
              "    mean_train_score  std_train_score  \n",
              "40          0.632362         0.002148  \n",
              "73          0.632349         0.002138  \n",
              "70          0.632349         0.002138  \n",
              "67          0.632349         0.002138  "
            ],
            "text/html": [
              "\n",
              "  <div id=\"df-032cc43c-9c6e-4b8a-bc3e-5de0d5eb34a4\">\n",
              "    <div class=\"colab-df-container\">\n",
              "      <div>\n",
              "<style scoped>\n",
              "    .dataframe tbody tr th:only-of-type {\n",
              "        vertical-align: middle;\n",
              "    }\n",
              "\n",
              "    .dataframe tbody tr th {\n",
              "        vertical-align: top;\n",
              "    }\n",
              "\n",
              "    .dataframe thead th {\n",
              "        text-align: right;\n",
              "    }\n",
              "</style>\n",
              "<table border=\"1\" class=\"dataframe\">\n",
              "  <thead>\n",
              "    <tr style=\"text-align: right;\">\n",
              "      <th></th>\n",
              "      <th>param_C</th>\n",
              "      <th>param_penalty</th>\n",
              "      <th>mean_test_score</th>\n",
              "      <th>std_test_score</th>\n",
              "      <th>mean_train_score</th>\n",
              "      <th>std_train_score</th>\n",
              "    </tr>\n",
              "  </thead>\n",
              "  <tbody>\n",
              "    <tr>\n",
              "      <th>40</th>\n",
              "      <td>2.610157</td>\n",
              "      <td>l2</td>\n",
              "      <td>0.626857</td>\n",
              "      <td>0.016299</td>\n",
              "      <td>0.632362</td>\n",
              "      <td>0.002148</td>\n",
              "    </tr>\n",
              "    <tr>\n",
              "      <th>73</th>\n",
              "      <td>100000.0</td>\n",
              "      <td>l2</td>\n",
              "      <td>0.626857</td>\n",
              "      <td>0.016319</td>\n",
              "      <td>0.632349</td>\n",
              "      <td>0.002138</td>\n",
              "    </tr>\n",
              "    <tr>\n",
              "      <th>70</th>\n",
              "      <td>38311.868496</td>\n",
              "      <td>l2</td>\n",
              "      <td>0.626857</td>\n",
              "      <td>0.016319</td>\n",
              "      <td>0.632349</td>\n",
              "      <td>0.002138</td>\n",
              "    </tr>\n",
              "    <tr>\n",
              "      <th>67</th>\n",
              "      <td>14677.992676</td>\n",
              "      <td>l2</td>\n",
              "      <td>0.626857</td>\n",
              "      <td>0.016319</td>\n",
              "      <td>0.632349</td>\n",
              "      <td>0.002138</td>\n",
              "    </tr>\n",
              "  </tbody>\n",
              "</table>\n",
              "</div>\n",
              "      <button class=\"colab-df-convert\" onclick=\"convertToInteractive('df-032cc43c-9c6e-4b8a-bc3e-5de0d5eb34a4')\"\n",
              "              title=\"Convert this dataframe to an interactive table.\"\n",
              "              style=\"display:none;\">\n",
              "        \n",
              "  <svg xmlns=\"http://www.w3.org/2000/svg\" height=\"24px\"viewBox=\"0 0 24 24\"\n",
              "       width=\"24px\">\n",
              "    <path d=\"M0 0h24v24H0V0z\" fill=\"none\"/>\n",
              "    <path d=\"M18.56 5.44l.94 2.06.94-2.06 2.06-.94-2.06-.94-.94-2.06-.94 2.06-2.06.94zm-11 1L8.5 8.5l.94-2.06 2.06-.94-2.06-.94L8.5 2.5l-.94 2.06-2.06.94zm10 10l.94 2.06.94-2.06 2.06-.94-2.06-.94-.94-2.06-.94 2.06-2.06.94z\"/><path d=\"M17.41 7.96l-1.37-1.37c-.4-.4-.92-.59-1.43-.59-.52 0-1.04.2-1.43.59L10.3 9.45l-7.72 7.72c-.78.78-.78 2.05 0 2.83L4 21.41c.39.39.9.59 1.41.59.51 0 1.02-.2 1.41-.59l7.78-7.78 2.81-2.81c.8-.78.8-2.07 0-2.86zM5.41 20L4 18.59l7.72-7.72 1.47 1.35L5.41 20z\"/>\n",
              "  </svg>\n",
              "      </button>\n",
              "      \n",
              "  <style>\n",
              "    .colab-df-container {\n",
              "      display:flex;\n",
              "      flex-wrap:wrap;\n",
              "      gap: 12px;\n",
              "    }\n",
              "\n",
              "    .colab-df-convert {\n",
              "      background-color: #E8F0FE;\n",
              "      border: none;\n",
              "      border-radius: 50%;\n",
              "      cursor: pointer;\n",
              "      display: none;\n",
              "      fill: #1967D2;\n",
              "      height: 32px;\n",
              "      padding: 0 0 0 0;\n",
              "      width: 32px;\n",
              "    }\n",
              "\n",
              "    .colab-df-convert:hover {\n",
              "      background-color: #E2EBFA;\n",
              "      box-shadow: 0px 1px 2px rgba(60, 64, 67, 0.3), 0px 1px 3px 1px rgba(60, 64, 67, 0.15);\n",
              "      fill: #174EA6;\n",
              "    }\n",
              "\n",
              "    [theme=dark] .colab-df-convert {\n",
              "      background-color: #3B4455;\n",
              "      fill: #D2E3FC;\n",
              "    }\n",
              "\n",
              "    [theme=dark] .colab-df-convert:hover {\n",
              "      background-color: #434B5C;\n",
              "      box-shadow: 0px 1px 3px 1px rgba(0, 0, 0, 0.15);\n",
              "      filter: drop-shadow(0px 1px 2px rgba(0, 0, 0, 0.3));\n",
              "      fill: #FFFFFF;\n",
              "    }\n",
              "  </style>\n",
              "\n",
              "      <script>\n",
              "        const buttonEl =\n",
              "          document.querySelector('#df-032cc43c-9c6e-4b8a-bc3e-5de0d5eb34a4 button.colab-df-convert');\n",
              "        buttonEl.style.display =\n",
              "          google.colab.kernel.accessAllowed ? 'block' : 'none';\n",
              "\n",
              "        async function convertToInteractive(key) {\n",
              "          const element = document.querySelector('#df-032cc43c-9c6e-4b8a-bc3e-5de0d5eb34a4');\n",
              "          const dataTable =\n",
              "            await google.colab.kernel.invokeFunction('convertToInteractive',\n",
              "                                                     [key], {});\n",
              "          if (!dataTable) return;\n",
              "\n",
              "          const docLinkHtml = 'Like what you see? Visit the ' +\n",
              "            '<a target=\"_blank\" href=https://colab.research.google.com/notebooks/data_table.ipynb>data table notebook</a>'\n",
              "            + ' to learn more about interactive tables.';\n",
              "          element.innerHTML = '';\n",
              "          dataTable['output_type'] = 'display_data';\n",
              "          await google.colab.output.renderOutput(dataTable, element);\n",
              "          const docLink = document.createElement('div');\n",
              "          docLink.innerHTML = docLinkHtml;\n",
              "          element.appendChild(docLink);\n",
              "        }\n",
              "      </script>\n",
              "    </div>\n",
              "  </div>\n",
              "  "
            ]
          },
          "metadata": {},
          "execution_count": 44
        }
      ]
    },
    {
      "cell_type": "code",
      "source": [
        "logistic_reg= grid.best_estimator_\n",
        "y_pred= logistic_reg.predict(X = X_test_sc1)"
      ],
      "metadata": {
        "id": "-9wxTCwNaE6Z"
      },
      "execution_count": null,
      "outputs": []
    },
    {
      "cell_type": "code",
      "source": [
        "clasificacion = np.where(y_pred<0.5, 0, 1)\n",
        "print(classification_report(y_test_sc1, clasificacion))"
      ],
      "metadata": {
        "id": "08GTjC5caMOs",
        "colab": {
          "base_uri": "https://localhost:8080/"
        },
        "outputId": "53265a04-715a-4551-9a0b-c30025fd86ea"
      },
      "execution_count": null,
      "outputs": [
        {
          "output_type": "stream",
          "name": "stdout",
          "text": [
            "              precision    recall  f1-score   support\n",
            "\n",
            "         0.0       0.63      0.78      0.70      2071\n",
            "         1.0       0.60      0.42      0.49      1630\n",
            "\n",
            "    accuracy                           0.62      3701\n",
            "   macro avg       0.61      0.60      0.59      3701\n",
            "weighted avg       0.62      0.62      0.61      3701\n",
            "\n"
          ]
        }
      ]
    },
    {
      "cell_type": "code",
      "execution_count": null,
      "metadata": {
        "id": "StUpxr6B9KcY",
        "colab": {
          "base_uri": "https://localhost:8080/",
          "height": 468
        },
        "outputId": "f92ba0ec-f439-46f5-a7ba-7b5c51c0569f"
      },
      "outputs": [
        {
          "output_type": "display_data",
          "data": {
            "text/plain": [
              "<Figure size 1500x500 with 2 Axes>"
            ],
            "image/png": "[encoded data removed]"
          },
          "metadata": {}
        }
      ],
      "source": [
        "C = metrics.confusion_matrix(y_test_sc1, clasificacion)\n",
        "plt.figure(figsize=(15,5))\n",
        "sns.heatmap(data=C,linewidths=1, annot=True, square = True,  cmap = 'Blues',fmt='g',xticklabels=['Baja', 'Alta'],yticklabels=['Baja', 'Alta'])\n",
        "plt.ylabel('Actual label')\n",
        "plt.xlabel('Predicted label')\n",
        "plt.show()"
      ]
    },
    {
      "cell_type": "markdown",
      "source": [
        "Se puede observar que un alto porcentaje de las predicciones estarían correctamente clasificadas en la clase baja, aunque 463 observaciones que pertenecen a la clase baja se clasificarían en la clase alta. Sin embargo, se observa que el modelo clasifica peor la clase alta, ya que 945 predicciones que deberían estar en clase alta están en clase baja.\n",
        "Podrian mejorarse los resultados aplicando tecnicas de balanceo de la muestra (como SMOTE o random UnderSampling). "
      ],
      "metadata": {
        "id": "BpOvNJvhequD"
      }
    },
    {
      "cell_type": "markdown",
      "source": [
        "**Curva ROC**"
      ],
      "metadata": {
        "id": "OoAxceFjNnos"
      }
    },
    {
      "cell_type": "code",
      "source": [
        "from sklearn.metrics import RocCurveDisplay\n",
        "fpr, tpr, thresholds = metrics.roc_curve(y_test_sc1, clasificacion)\n",
        "roc_auc = metrics.auc(fpr, tpr)\n",
        "display = metrics.RocCurveDisplay(fpr=fpr, tpr=tpr, roc_auc=roc_auc,\n",
        "                                  estimator_name='logistic_reg')\n",
        "display.plot()\n",
        "plt.show()"
      ],
      "metadata": {
        "id": "qFgUOu2DIIvW",
        "colab": {
          "base_uri": "https://localhost:8080/",
          "height": 449
        },
        "outputId": "0fcccf73-3a58-4dc8-9c01-c74ec971f36c"
      },
      "execution_count": null,
      "outputs": [
        {
          "output_type": "display_data",
          "data": {
            "text/plain": [
              "<Figure size 640x480 with 1 Axes>"
            ],
            "image/png": "[encoded data removed]"
          },
          "metadata": {}
        }
      ]
    },
    {
      "cell_type": "markdown",
      "source": [
        "**Curva PR**"
      ],
      "metadata": {
        "id": "btCFFe9BN5UU"
      }
    },
    {
      "cell_type": "code",
      "source": [
        "from sklearn.metrics import PrecisionRecallDisplay\n",
        "from sklearn.metrics import precision_recall_curve\n",
        "PrecisionRecallDisplay.from_estimator(logistic_reg, X_test_sc1, y_test_sc1)\n",
        "plt.show()"
      ],
      "metadata": {
        "id": "EASJtd-VLSKt",
        "colab": {
          "base_uri": "https://localhost:8080/",
          "height": 449
        },
        "outputId": "679209c9-09d7-4502-ac1e-5219fc4b012e"
      },
      "execution_count": null,
      "outputs": [
        {
          "output_type": "display_data",
          "data": {
            "text/plain": [
              "<Figure size 640x480 with 1 Axes>"
            ],
            "image/png": "[encoded data removed]"
          },
          "metadata": {}
        }
      ]
    },
    {
      "cell_type": "markdown",
      "metadata": {
        "id": "TE3QOBZcRMMf"
      },
      "source": [
        "# 2. Comparativa de distintos modelos"
      ]
    },
    {
      "cell_type": "code",
      "execution_count": null,
      "metadata": {
        "id": "_1Zrwedbz01Y"
      },
      "outputs": [],
      "source": [
        "metricas=pd.DataFrame(columns=['RMSE','R2','MAE'],index=['LASSO','Ridge','Regresion Multiple','SVR'])\n",
        "metricas['RMSE']=vector_rmse\n",
        "metricas['MSE']=vector_mse\n",
        "metricas['MAE']=vector_mae\n",
        "metricas['R2']=vector_r2_score"
      ]
    },
    {
      "cell_type": "code",
      "execution_count": null,
      "metadata": {
        "id": "V1xG2OhQ0_ZA",
        "colab": {
          "base_uri": "https://localhost:8080/",
          "height": 175
        },
        "outputId": "8d2ac8f1-1563-4538-f48d-a5d687953a5c"
      },
      "outputs": [
        {
          "output_type": "execute_result",
          "data": {
            "text/plain": [
              "                         RMSE        R2        MAE          MSE\n",
              "LASSO               42.488001  0.301412  21.014290  1805.230243\n",
              "Ridge               42.508022  0.300753  21.092778  1806.931917\n",
              "Regresion Multiple  42.509139  0.300717  21.100322  1807.026926\n",
              "SVR                 36.003000  0.498390  17.580858  1296.216024"
            ],
            "text/html": [
              "\n",
              "  <div id=\"df-0ae45fda-f4b0-40a1-aba1-aab5db01b55b\">\n",
              "    <div class=\"colab-df-container\">\n",
              "      <div>\n",
              "<style scoped>\n",
              "    .dataframe tbody tr th:only-of-type {\n",
              "        vertical-align: middle;\n",
              "    }\n",
              "\n",
              "    .dataframe tbody tr th {\n",
              "        vertical-align: top;\n",
              "    }\n",
              "\n",
              "    .dataframe thead th {\n",
              "        text-align: right;\n",
              "    }\n",
              "</style>\n",
              "<table border=\"1\" class=\"dataframe\">\n",
              "  <thead>\n",
              "    <tr style=\"text-align: right;\">\n",
              "      <th></th>\n",
              "      <th>RMSE</th>\n",
              "      <th>R2</th>\n",
              "      <th>MAE</th>\n",
              "      <th>MSE</th>\n",
              "    </tr>\n",
              "  </thead>\n",
              "  <tbody>\n",
              "    <tr>\n",
              "      <th>LASSO</th>\n",
              "      <td>42.488001</td>\n",
              "      <td>0.301412</td>\n",
              "      <td>21.014290</td>\n",
              "      <td>1805.230243</td>\n",
              "    </tr>\n",
              "    <tr>\n",
              "      <th>Ridge</th>\n",
              "      <td>42.508022</td>\n",
              "      <td>0.300753</td>\n",
              "      <td>21.092778</td>\n",
              "      <td>1806.931917</td>\n",
              "    </tr>\n",
              "    <tr>\n",
              "      <th>Regresion Multiple</th>\n",
              "      <td>42.509139</td>\n",
              "      <td>0.300717</td>\n",
              "      <td>21.100322</td>\n",
              "      <td>1807.026926</td>\n",
              "    </tr>\n",
              "    <tr>\n",
              "      <th>SVR</th>\n",
              "      <td>36.003000</td>\n",
              "      <td>0.498390</td>\n",
              "      <td>17.580858</td>\n",
              "      <td>1296.216024</td>\n",
              "    </tr>\n",
              "  </tbody>\n",
              "</table>\n",
              "</div>\n",
              "      <button class=\"colab-df-convert\" onclick=\"convertToInteractive('df-0ae45fda-f4b0-40a1-aba1-aab5db01b55b')\"\n",
              "              title=\"Convert this dataframe to an interactive table.\"\n",
              "              style=\"display:none;\">\n",
              "        \n",
              "  <svg xmlns=\"http://www.w3.org/2000/svg\" height=\"24px\"viewBox=\"0 0 24 24\"\n",
              "       width=\"24px\">\n",
              "    <path d=\"M0 0h24v24H0V0z\" fill=\"none\"/>\n",
              "    <path d=\"M18.56 5.44l.94 2.06.94-2.06 2.06-.94-2.06-.94-.94-2.06-.94 2.06-2.06.94zm-11 1L8.5 8.5l.94-2.06 2.06-.94-2.06-.94L8.5 2.5l-.94 2.06-2.06.94zm10 10l.94 2.06.94-2.06 2.06-.94-2.06-.94-.94-2.06-.94 2.06-2.06.94z\"/><path d=\"M17.41 7.96l-1.37-1.37c-.4-.4-.92-.59-1.43-.59-.52 0-1.04.2-1.43.59L10.3 9.45l-7.72 7.72c-.78.78-.78 2.05 0 2.83L4 21.41c.39.39.9.59 1.41.59.51 0 1.02-.2 1.41-.59l7.78-7.78 2.81-2.81c.8-.78.8-2.07 0-2.86zM5.41 20L4 18.59l7.72-7.72 1.47 1.35L5.41 20z\"/>\n",
              "  </svg>\n",
              "      </button>\n",
              "      \n",
              "  <style>\n",
              "    .colab-df-container {\n",
              "      display:flex;\n",
              "      flex-wrap:wrap;\n",
              "      gap: 12px;\n",
              "    }\n",
              "\n",
              "    .colab-df-convert {\n",
              "      background-color: #E8F0FE;\n",
              "      border: none;\n",
              "      border-radius: 50%;\n",
              "      cursor: pointer;\n",
              "      display: none;\n",
              "      fill: #1967D2;\n",
              "      height: 32px;\n",
              "      padding: 0 0 0 0;\n",
              "      width: 32px;\n",
              "    }\n",
              "\n",
              "    .colab-df-convert:hover {\n",
              "      background-color: #E2EBFA;\n",
              "      box-shadow: 0px 1px 2px rgba(60, 64, 67, 0.3), 0px 1px 3px 1px rgba(60, 64, 67, 0.15);\n",
              "      fill: #174EA6;\n",
              "    }\n",
              "\n",
              "    [theme=dark] .colab-df-convert {\n",
              "      background-color: #3B4455;\n",
              "      fill: #D2E3FC;\n",
              "    }\n",
              "\n",
              "    [theme=dark] .colab-df-convert:hover {\n",
              "      background-color: #434B5C;\n",
              "      box-shadow: 0px 1px 3px 1px rgba(0, 0, 0, 0.15);\n",
              "      filter: drop-shadow(0px 1px 2px rgba(0, 0, 0, 0.3));\n",
              "      fill: #FFFFFF;\n",
              "    }\n",
              "  </style>\n",
              "\n",
              "      <script>\n",
              "        const buttonEl =\n",
              "          document.querySelector('#df-0ae45fda-f4b0-40a1-aba1-aab5db01b55b button.colab-df-convert');\n",
              "        buttonEl.style.display =\n",
              "          google.colab.kernel.accessAllowed ? 'block' : 'none';\n",
              "\n",
              "        async function convertToInteractive(key) {\n",
              "          const element = document.querySelector('#df-0ae45fda-f4b0-40a1-aba1-aab5db01b55b');\n",
              "          const dataTable =\n",
              "            await google.colab.kernel.invokeFunction('convertToInteractive',\n",
              "                                                     [key], {});\n",
              "          if (!dataTable) return;\n",
              "\n",
              "          const docLinkHtml = 'Like what you see? Visit the ' +\n",
              "            '<a target=\"_blank\" href=https://colab.research.google.com/notebooks/data_table.ipynb>data table notebook</a>'\n",
              "            + ' to learn more about interactive tables.';\n",
              "          element.innerHTML = '';\n",
              "          dataTable['output_type'] = 'display_data';\n",
              "          await google.colab.output.renderOutput(dataTable, element);\n",
              "          const docLink = document.createElement('div');\n",
              "          docLink.innerHTML = docLinkHtml;\n",
              "          element.appendChild(docLink);\n",
              "        }\n",
              "      </script>\n",
              "    </div>\n",
              "  </div>\n",
              "  "
            ]
          },
          "metadata": {},
          "execution_count": 51
        }
      ],
      "source": [
        "metricas"
      ]
    },
    {
      "cell_type": "markdown",
      "source": [
        "Podemos observar que el modelo con mejores métricas es claramente el SVR. Esto coincide con lo que cabria esperar, ya que es el algoritmo más potente de los evaluados. Sin embargo, cabe destacar que sus resultados se han obtenido con validación cruzada al igual que los demás, pero con un k inferior a los otros modelos (usamos k=2 y 2 repeticiones en lugar de k=10 y 7 repeticiones como en los demás) debido a que era inviable evaluarlo de igual forma debido a su coste computacional.\n"
      ],
      "metadata": {
        "id": "hg-wL8cWcGuq"
      }
    }
  ],
  "metadata": {
    "colab": {
      "provenance": [],
      "toc_visible": true,
      "include_colab_link": true
    },
    "kernelspec": {
      "display_name": "Python 3",
      "name": "python3"
    },
    "language_info": {
      "name": "python"
    }
  },
  "nbformat": 4,
  "nbformat_minor": 0
}